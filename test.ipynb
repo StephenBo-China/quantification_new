{
 "cells": [
  {
   "cell_type": "code",
   "execution_count": 5,
   "metadata": {},
   "outputs": [],
   "source": [
    "import tushare as ts\n",
    "from jqdatasdk import *\n",
    "import pymysql\n",
    "\n",
    "PROJECT_PATH = \"/Users/stephenbo/JOB/PROJECT/quantification_new/\"\n",
    "import sys, os\n",
    "sys.path.append(PROJECT_PATH + \"./utils\")\n",
    "import mysql as mq \n",
    "from tools import *"
   ]
  },
  {
   "cell_type": "markdown",
   "metadata": {},
   "source": [
    "### SQL CODE TESTING"
   ]
  },
  {
   "cell_type": "code",
   "execution_count": 8,
   "metadata": {},
   "outputs": [],
   "source": [
    "mysql = mq.MY_SQL()"
   ]
  },
  {
   "cell_type": "code",
   "execution_count": 3,
   "metadata": {},
   "outputs": [],
   "source": [
    "mysql.drop_table(\"test01\")"
   ]
  },
  {
   "cell_type": "code",
   "execution_count": 4,
   "metadata": {},
   "outputs": [],
   "source": [
    "mysql.create_table(\n",
    "    table_name = \"test01\"\n",
    "    ,table_elements = {\n",
    "        \"stock_name\":       \"VARCHAR(1000)\"\n",
    "        ,\"stock_code\":      \"VARCHAR(1000)\"\n",
    "        ,\"open\":            \"FLOAT\"\n",
    "        ,\"close\":           \"FLOAT\"\n",
    "        ,\"high\":            \"FLOAT\"\n",
    "        ,\"volume\":          \"FLOAT\"\n",
    "        ,\"money\":           \"FLOAT\"\n",
    "        ,\"factor\":          \"FLOAT\"\n",
    "        ,\"high_limit\":      \"FLOAT\"\n",
    "        ,\"low_limit\":       \"FLOAT\"\n",
    "        ,\"avg\":             \"FLOAT\"\n",
    "        ,\"pre_close\":       \"FLOAT\"\n",
    "        ,\"paused\":          \"FLOAT\"\n",
    "        ,\"open_interest\":   \"FLOAT\"\n",
    "        ,\"ds\":              \"VARCHAR(1000)\"\n",
    "    }\n",
    ")"
   ]
  },
  {
   "cell_type": "code",
   "execution_count": 5,
   "metadata": {},
   "outputs": [],
   "source": [
    "mysql.create_table(\n",
    "    table_name = \"test03\"\n",
    "    ,table_elements = {\n",
    "        \"stock_name\":       \"VARCHAR(1000)\"\n",
    "        ,\"label\":           \"BIGINT\"\n",
    "        ,\"ds\":              \"VARCHAR(1000)\"\n",
    "    }\n",
    ")"
   ]
  },
  {
   "cell_type": "code",
   "execution_count": 5,
   "metadata": {},
   "outputs": [],
   "source": [
    "mysql.insert_table(\n",
    "    table_name = \"test01\"\n",
    "    ,attribute_list = [\n",
    "        \"stock_name\", \"stock_code\", \"open\", \"close\", \"high\", \"volume\", \"money\", \"factor\"\n",
    "        ,\"high_limit\", \"low_limit\", \"avg\", \"pre_close\", \"paused\", \"open_interest\", \"ds\"\n",
    "    ]\n",
    "    ,elements = [\n",
    "        (\"stock02\", \"00001\", \"0.0\", \"0.1\", \"0.2\", \"0.3\", \"0.4\", \"0.5\"\n",
    "        ,\"0.6\", \"0.7\", \"0.8\", \"0.9\", \"1.0\", \"1.1\", \"1.2\")\n",
    "        ,(\"stock03\", \"00001\", \"0.0\", \"0.1\", \"0.2\", \"0.3\", \"0.4\", \"0.5\"\n",
    "        ,\"0.6\", \"0.7\", \"0.8\", \"0.9\", \"1.0\", \"1.1\", \"1.2\")\n",
    "        ,(\"stock03\", \"00002\", \"0.0\", \"0.1\", \"0.2\", \"0.3\", \"0.4\", \"0.5\"\n",
    "        ,\"0.6\", \"0.7\", \"0.8\", \"0.9\", \"1.0\", \"1.1\", \"1.2\")\n",
    "    ]\n",
    ")"
   ]
  },
  {
   "cell_type": "code",
   "execution_count": 11,
   "metadata": {},
   "outputs": [
    {
     "name": "stdout",
     "output_type": "stream",
     "text": [
      "2\n"
     ]
    },
    {
     "data": {
      "text/plain": [
       "(('stock02', '00001'), ('stock03', '00002'))"
      ]
     },
     "execution_count": 11,
     "metadata": {},
     "output_type": "execute_result"
    }
   ],
   "source": [
    "data = mysql.select_table(\n",
    "    \"\"\"\n",
    "    SELECT  stock_name, stock_code\n",
    "    FROM    test01\n",
    "    \"\"\"\n",
    ")\n",
    "print(len(data))\n",
    "data"
   ]
  },
  {
   "cell_type": "code",
   "execution_count": 10,
   "metadata": {},
   "outputs": [],
   "source": [
    "mysql.delete_elements(\n",
    "    table_name = \"test01\"\n",
    "    ,clause_list = [\n",
    "        \"stock_name = 'stock03'\"\n",
    "        ,\"stock_code = '00001'\"\n",
    "    ]\n",
    ")"
   ]
  },
  {
   "cell_type": "code",
   "execution_count": null,
   "metadata": {},
   "outputs": [],
   "source": [
    "----------------------------------------------------------------------------------------------"
   ]
  },
  {
   "cell_type": "markdown",
   "metadata": {},
   "source": [
    "### JQDATA CODE TESTING"
   ]
  },
  {
   "cell_type": "code",
   "execution_count": 1,
   "metadata": {},
   "outputs": [],
   "source": [
    "PROJECT_PATH = \"/Users/stephenbo/JOB/PROJECT/quantification_new/\"\n",
    "import sys, os\n",
    "sys.path.append(PROJECT_PATH + \"./utils\")\n",
    "from joinquant import *\n",
    "import pandas as pd"
   ]
  },
  {
   "cell_type": "code",
   "execution_count": 2,
   "metadata": {},
   "outputs": [
    {
     "name": "stdout",
     "output_type": "stream",
     "text": [
      "auth success \n"
     ]
    }
   ],
   "source": [
    "jqdata = joinquant()"
   ]
  },
  {
   "cell_type": "code",
   "execution_count": 3,
   "metadata": {},
   "outputs": [
    {
     "data": {
      "text/html": [
       "<div>\n",
       "<style scoped>\n",
       "    .dataframe tbody tr th:only-of-type {\n",
       "        vertical-align: middle;\n",
       "    }\n",
       "\n",
       "    .dataframe tbody tr th {\n",
       "        vertical-align: top;\n",
       "    }\n",
       "\n",
       "    .dataframe thead th {\n",
       "        text-align: right;\n",
       "    }\n",
       "</style>\n",
       "<table border=\"1\" class=\"dataframe\">\n",
       "  <thead>\n",
       "    <tr style=\"text-align: right;\">\n",
       "      <th></th>\n",
       "      <th>display_name</th>\n",
       "      <th>name</th>\n",
       "      <th>start_date</th>\n",
       "      <th>end_date</th>\n",
       "      <th>type</th>\n",
       "    </tr>\n",
       "  </thead>\n",
       "  <tbody>\n",
       "    <tr>\n",
       "      <th>000001.XSHE</th>\n",
       "      <td>平安银行</td>\n",
       "      <td>PAYH</td>\n",
       "      <td>1991-04-03</td>\n",
       "      <td>2200-01-01</td>\n",
       "      <td>stock</td>\n",
       "    </tr>\n",
       "    <tr>\n",
       "      <th>000002.XSHE</th>\n",
       "      <td>万科A</td>\n",
       "      <td>WKA</td>\n",
       "      <td>1991-01-29</td>\n",
       "      <td>2200-01-01</td>\n",
       "      <td>stock</td>\n",
       "    </tr>\n",
       "    <tr>\n",
       "      <th>000004.XSHE</th>\n",
       "      <td>国华网安</td>\n",
       "      <td>GHWA</td>\n",
       "      <td>1990-12-01</td>\n",
       "      <td>2200-01-01</td>\n",
       "      <td>stock</td>\n",
       "    </tr>\n",
       "    <tr>\n",
       "      <th>000005.XSHE</th>\n",
       "      <td>ST星源</td>\n",
       "      <td>STXY</td>\n",
       "      <td>1990-12-10</td>\n",
       "      <td>2200-01-01</td>\n",
       "      <td>stock</td>\n",
       "    </tr>\n",
       "    <tr>\n",
       "      <th>000006.XSHE</th>\n",
       "      <td>深振业A</td>\n",
       "      <td>SZYA</td>\n",
       "      <td>1992-04-27</td>\n",
       "      <td>2200-01-01</td>\n",
       "      <td>stock</td>\n",
       "    </tr>\n",
       "    <tr>\n",
       "      <th>...</th>\n",
       "      <td>...</td>\n",
       "      <td>...</td>\n",
       "      <td>...</td>\n",
       "      <td>...</td>\n",
       "      <td>...</td>\n",
       "    </tr>\n",
       "    <tr>\n",
       "      <th>688799.XSHG</th>\n",
       "      <td>华纳药厂</td>\n",
       "      <td>HNYC</td>\n",
       "      <td>2021-07-13</td>\n",
       "      <td>2200-01-01</td>\n",
       "      <td>stock</td>\n",
       "    </tr>\n",
       "    <tr>\n",
       "      <th>688800.XSHG</th>\n",
       "      <td>瑞可达</td>\n",
       "      <td>RKD</td>\n",
       "      <td>2021-07-22</td>\n",
       "      <td>2200-01-01</td>\n",
       "      <td>stock</td>\n",
       "    </tr>\n",
       "    <tr>\n",
       "      <th>688819.XSHG</th>\n",
       "      <td>天能股份</td>\n",
       "      <td>TNGF</td>\n",
       "      <td>2021-01-18</td>\n",
       "      <td>2200-01-01</td>\n",
       "      <td>stock</td>\n",
       "    </tr>\n",
       "    <tr>\n",
       "      <th>688981.XSHG</th>\n",
       "      <td>中芯国际</td>\n",
       "      <td>ZXGJ</td>\n",
       "      <td>2020-07-16</td>\n",
       "      <td>2200-01-01</td>\n",
       "      <td>stock</td>\n",
       "    </tr>\n",
       "    <tr>\n",
       "      <th>689009.XSHG</th>\n",
       "      <td>九号公司</td>\n",
       "      <td>JHGS</td>\n",
       "      <td>2020-10-29</td>\n",
       "      <td>2200-01-01</td>\n",
       "      <td>stock</td>\n",
       "    </tr>\n",
       "  </tbody>\n",
       "</table>\n",
       "<p>4697 rows × 5 columns</p>\n",
       "</div>"
      ],
      "text/plain": [
       "            display_name  name start_date   end_date   type\n",
       "000001.XSHE         平安银行  PAYH 1991-04-03 2200-01-01  stock\n",
       "000002.XSHE          万科A   WKA 1991-01-29 2200-01-01  stock\n",
       "000004.XSHE         国华网安  GHWA 1990-12-01 2200-01-01  stock\n",
       "000005.XSHE         ST星源  STXY 1990-12-10 2200-01-01  stock\n",
       "000006.XSHE         深振业A  SZYA 1992-04-27 2200-01-01  stock\n",
       "...                  ...   ...        ...        ...    ...\n",
       "688799.XSHG         华纳药厂  HNYC 2021-07-13 2200-01-01  stock\n",
       "688800.XSHG          瑞可达   RKD 2021-07-22 2200-01-01  stock\n",
       "688819.XSHG         天能股份  TNGF 2021-01-18 2200-01-01  stock\n",
       "688981.XSHG         中芯国际  ZXGJ 2020-07-16 2200-01-01  stock\n",
       "689009.XSHG         九号公司  JHGS 2020-10-29 2200-01-01  stock\n",
       "\n",
       "[4697 rows x 5 columns]"
      ]
     },
     "execution_count": 3,
     "metadata": {},
     "output_type": "execute_result"
    }
   ],
   "source": [
    "stock_info = jqdata.get_all_stock_info()\n",
    "stock_info"
   ]
  },
  {
   "cell_type": "code",
   "execution_count": 6,
   "metadata": {},
   "outputs": [],
   "source": [
    "save_csv(\n",
    "    data = stock_info\n",
    "    ,file_path = \"/Users/stephenbo/JOB/PROJECT/quantification_new/data/stock_info.csv\"\n",
    "    # ,header = False\n",
    "    ,index = True\n",
    ")"
   ]
  },
  {
   "cell_type": "code",
   "execution_count": 10,
   "metadata": {},
   "outputs": [
    {
     "data": {
      "text/plain": [
       "1"
      ]
     },
     "execution_count": 10,
     "metadata": {},
     "output_type": "execute_result"
    }
   ],
   "source": [
    "mysql.create_table(\n",
    "    table_name = \"stock_info\"\n",
    "    ,table_elements = {\n",
    "        \"stock_name\":       \"VARCHAR(1000)\"\n",
    "        ,\"stock_code\":      \"VARCHAR(1000)\"\n",
    "        ,\"name\":            \"VARCHAR(1000)\"\n",
    "        ,\"start_date\":      \"VARCHAR(1000)\"\n",
    "        ,\"end_date\":        \"VARCHAR(1000)\"\n",
    "    }\n",
    ")"
   ]
  },
  {
   "cell_type": "code",
   "execution_count": 11,
   "metadata": {},
   "outputs": [
    {
     "data": {
      "text/plain": [
       "Index(['stock_code', 'stock_name', 'name', 'start_date', 'end_date', 'type'], dtype='object')"
      ]
     },
     "execution_count": 11,
     "metadata": {},
     "output_type": "execute_result"
    }
   ],
   "source": [
    "stock_info = pd.read_csv(\"/Users/stephenbo/JOB/PROJECT/quantification_new/data/stock_info.csv\")\n",
    "stock_info.columns = [\"stock_code\", \"stock_name\", \"name\", \"start_date\", \"end_date\", \"type\"]\n",
    "stock_info.columns"
   ]
  },
  {
   "cell_type": "code",
   "execution_count": 14,
   "metadata": {},
   "outputs": [
    {
     "data": {
      "text/plain": [
       "4697"
      ]
     },
     "execution_count": 14,
     "metadata": {},
     "output_type": "execute_result"
    }
   ],
   "source": [
    "len(stock_info)"
   ]
  },
  {
   "cell_type": "code",
   "execution_count": 13,
   "metadata": {},
   "outputs": [
    {
     "data": {
      "text/plain": [
       "{'stock_code': array(['000001.XSHE', '000002.XSHE', '000004.XSHE', ..., '688819.XSHG',\n",
       "        '688981.XSHG', '689009.XSHG'], dtype=object),\n",
       " 'stock_name': array(['平安银行', '万科A', '国华网安', ..., '天能股份', '中芯国际', '九号公司'], dtype=object),\n",
       " 'name': array(['PAYH', 'WKA', 'GHWA', ..., 'TNGF', 'ZXGJ', 'JHGS'], dtype=object),\n",
       " 'start_date': array(['1991-04-03', '1991-01-29', '1990-12-01', ..., '2021-01-18',\n",
       "        '2020-07-16', '2020-10-29'], dtype=object),\n",
       " 'end_date': array(['2200-01-01', '2200-01-01', '2200-01-01', ..., '2200-01-01',\n",
       "        '2200-01-01', '2200-01-01'], dtype=object),\n",
       " 'type': array(['stock', 'stock', 'stock', ..., 'stock', 'stock', 'stock'],\n",
       "       dtype=object)}"
      ]
     },
     "execution_count": 13,
     "metadata": {},
     "output_type": "execute_result"
    }
   ],
   "source": [
    "stock_info_dict = change_dataframe_to_dict(stock_info)\n",
    "stock_info_dict"
   ]
  },
  {
   "cell_type": "code",
   "execution_count": 18,
   "metadata": {},
   "outputs": [
    {
     "data": {
      "text/plain": [
       "[('000001.XSHE', '平安银行', 'PAYH', '1991-04-03', '2200-01-01'),\n",
       " ('000002.XSHE', '万科A', 'WKA', '1991-01-29', '2200-01-01'),\n",
       " ('000004.XSHE', '国华网安', 'GHWA', '1990-12-01', '2200-01-01'),\n",
       " ('000005.XSHE', 'ST星源', 'STXY', '1990-12-10', '2200-01-01')]"
      ]
     },
     "execution_count": 18,
     "metadata": {},
     "output_type": "execute_result"
    }
   ],
   "source": [
    "stock_info_insert_element = list()\n",
    "stock_info_insert_att_list = [\n",
    "    \"stock_code\", \"stock_name\", \"name\", \"start_date\", \"end_date\"\n",
    "]\n",
    "for i in range(len(stock_info)):\n",
    "    insert_element = list()\n",
    "    for att in stock_info_insert_att_list:\n",
    "        insert_element.append(stock_info_dict[att][i])\n",
    "    insert_element = tuple(insert_element)\n",
    "    stock_info_insert_element.append(insert_element)\n",
    "stock_info_insert_element[:4]"
   ]
  },
  {
   "cell_type": "code",
   "execution_count": 19,
   "metadata": {},
   "outputs": [],
   "source": [
    "mysql.insert_table(\n",
    "    table_name = \"stock_info\"\n",
    "    ,attribute_list = stock_info_insert_att_list\n",
    "    ,elements = stock_info_insert_element\n",
    ")"
   ]
  },
  {
   "cell_type": "code",
   "execution_count": null,
   "metadata": {},
   "outputs": [],
   "source": [
    "----"
   ]
  },
  {
   "cell_type": "code",
   "execution_count": null,
   "metadata": {},
   "outputs": [],
   "source": []
  },
  {
   "cell_type": "code",
   "execution_count": null,
   "metadata": {},
   "outputs": [],
   "source": [
    "----------------------------------------------------------------------------------------------"
   ]
  },
  {
   "cell_type": "code",
   "execution_count": 4,
   "metadata": {},
   "outputs": [],
   "source": [
    "from jqdatasdk import *"
   ]
  },
  {
   "cell_type": "code",
   "execution_count": 5,
   "metadata": {},
   "outputs": [],
   "source": [
    "stock_info_data = get_all_securities(types=['stock'], date=None)"
   ]
  },
  {
   "cell_type": "code",
   "execution_count": 6,
   "metadata": {},
   "outputs": [
    {
     "data": {
      "text/plain": [
       "Index(['display_name', 'name', 'start_date', 'end_date', 'type'], dtype='object')"
      ]
     },
     "execution_count": 6,
     "metadata": {},
     "output_type": "execute_result"
    }
   ],
   "source": [
    "stock_info_data.columns"
   ]
  },
  {
   "cell_type": "code",
   "execution_count": 8,
   "metadata": {},
   "outputs": [],
   "source": [
    "save_csv(\n",
    "    data = stock_info_data\n",
    "    ,file_path = \"/Users/stephenbo/JOB/PROJECT/quantification_new/data/stock_info.csv\"\n",
    "    ,header = False\n",
    ")"
   ]
  },
  {
   "cell_type": "code",
   "execution_count": null,
   "metadata": {},
   "outputs": [],
   "source": []
  }
 ],
 "metadata": {
  "kernelspec": {
   "display_name": "Python 3 (ipykernel)",
   "language": "python",
   "name": "python3"
  },
  "language_info": {
   "codemirror_mode": {
    "name": "ipython",
    "version": 3
   },
   "file_extension": ".py",
   "mimetype": "text/x-python",
   "name": "python",
   "nbconvert_exporter": "python",
   "pygments_lexer": "ipython3",
   "version": "3.8.12"
  },
  "orig_nbformat": 4
 },
 "nbformat": 4,
 "nbformat_minor": 2
}
