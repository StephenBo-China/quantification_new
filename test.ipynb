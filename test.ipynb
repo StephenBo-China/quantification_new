{
 "cells": [
  {
   "cell_type": "code",
   "execution_count": 1,
   "metadata": {},
   "outputs": [],
   "source": [
    "import tushare as ts\n",
    "from jqdatasdk import *\n",
    "import pymysql\n",
    "\n",
    "PROJECT_PATH = \"/Users/stephenbo/JOB/PROJECT/quantification_new/\"\n",
    "import sys, os\n",
    "sys.path.append(PROJECT_PATH + \"./utils\")\n",
    "import mysql as mq \n",
    "from tools import *\n",
    "import time"
   ]
  },
  {
   "cell_type": "markdown",
   "metadata": {},
   "source": [
    "### SQL CODE TESTING"
   ]
  },
  {
   "cell_type": "code",
   "execution_count": 2,
   "metadata": {},
   "outputs": [],
   "source": [
    "mysql = mq.MY_SQL()"
   ]
  },
  {
   "cell_type": "code",
   "execution_count": 3,
   "metadata": {},
   "outputs": [],
   "source": [
    "mysql.create_table(\n",
    "    table_name = \"test01\"\n",
    "    ,table_elements = {\n",
    "        \"stock_name\":       \"VARCHAR(1000)\"\n",
    "        ,\"stock_code\":      \"VARCHAR(1000)\"\n",
    "        ,\"open\":            \"FLOAT\"\n",
    "        ,\"close\":           \"FLOAT\"\n",
    "        ,\"high\":            \"FLOAT\"\n",
    "        ,\"volume\":          \"FLOAT\"\n",
    "        ,\"money\":           \"FLOAT\"\n",
    "        ,\"factor\":          \"FLOAT\"\n",
    "        ,\"high_limit\":      \"FLOAT\"\n",
    "        ,\"low_limit\":       \"FLOAT\"\n",
    "        ,\"avg\":             \"FLOAT\"\n",
    "        ,\"pre_close\":       \"FLOAT\"\n",
    "        ,\"paused\":          \"FLOAT\"\n",
    "        ,\"open_interest\":   \"FLOAT\"\n",
    "        ,\"ds\":              \"VARCHAR(1000)\"\n",
    "    }\n",
    ")"
   ]
  },
  {
   "cell_type": "code",
   "execution_count": 5,
   "metadata": {},
   "outputs": [],
   "source": [
    "mysql.create_table(\n",
    "    table_name = \"test03\"\n",
    "    ,table_elements = {\n",
    "        \"stock_name\":       \"VARCHAR(1000)\"\n",
    "        ,\"label\":           \"BIGINT\"\n",
    "        ,\"ds\":              \"VARCHAR(1000)\"\n",
    "    }\n",
    ")"
   ]
  },
  {
   "cell_type": "code",
   "execution_count": 5,
   "metadata": {},
   "outputs": [],
   "source": [
    "mysql.insert_table(\n",
    "    table_name = \"test01\"\n",
    "    ,attribute_list = [\n",
    "        \"stock_name\", \"stock_code\", \"open\", \"close\", \"high\", \"volume\", \"money\", \"factor\"\n",
    "        ,\"high_limit\", \"low_limit\", \"avg\", \"pre_close\", \"paused\", \"open_interest\", \"ds\"\n",
    "    ]\n",
    "    ,elements = [\n",
    "        (\"stock02\", \"00001\", \"0.0\", \"0.1\", \"0.2\", \"0.3\", \"0.4\", \"0.5\"\n",
    "        ,\"0.6\", \"0.7\", \"0.8\", \"0.9\", \"1.0\", \"1.1\", \"1.2\")\n",
    "        ,(\"stock03\", \"00001\", \"0.0\", \"0.1\", \"0.2\", \"0.3\", \"0.4\", \"0.5\"\n",
    "        ,\"0.6\", \"0.7\", \"0.8\", \"0.9\", \"1.0\", \"1.1\", \"1.2\")\n",
    "        ,(\"stock03\", \"00002\", \"0.0\", \"0.1\", \"0.2\", \"0.3\", \"0.4\", \"0.5\"\n",
    "        ,\"0.6\", \"0.7\", \"0.8\", \"0.9\", \"1.0\", \"1.1\", \"1.2\")\n",
    "    ]\n",
    ")"
   ]
  },
  {
   "cell_type": "code",
   "execution_count": 11,
   "metadata": {},
   "outputs": [
    {
     "name": "stdout",
     "output_type": "stream",
     "text": [
      "2\n"
     ]
    },
    {
     "data": {
      "text/plain": [
       "(('stock02', '00001'), ('stock03', '00002'))"
      ]
     },
     "execution_count": 11,
     "metadata": {},
     "output_type": "execute_result"
    }
   ],
   "source": [
    "data = mysql.select_table(\n",
    "    \"\"\"\n",
    "    SELECT  stock_name, stock_code\n",
    "    FROM    test01\n",
    "    \"\"\"\n",
    ")\n",
    "print(len(data))\n",
    "data"
   ]
  },
  {
   "cell_type": "code",
   "execution_count": 10,
   "metadata": {},
   "outputs": [],
   "source": [
    "mysql.delete_elements(\n",
    "    table_name = \"test01\"\n",
    "    ,clause_list = [\n",
    "        \"stock_name = 'stock03'\"\n",
    "        ,\"stock_code = '00001'\"\n",
    "    ]\n",
    ")"
   ]
  },
  {
   "cell_type": "code",
   "execution_count": null,
   "metadata": {},
   "outputs": [],
   "source": [
    "----------------------------------------------------------------------------------------------"
   ]
  },
  {
   "cell_type": "markdown",
   "metadata": {},
   "source": [
    "### JQDATA CODE TESTING"
   ]
  },
  {
   "cell_type": "code",
   "execution_count": 3,
   "metadata": {},
   "outputs": [],
   "source": [
    "PROJECT_PATH = \"/Users/stephenbo/JOB/PROJECT/quantification_new/\"\n",
    "import sys, os\n",
    "sys.path.append(PROJECT_PATH + \"./utils\")\n",
    "from joinquant import *\n",
    "import pandas as pd"
   ]
  },
  {
   "cell_type": "code",
   "execution_count": 5,
   "metadata": {},
   "outputs": [
    {
     "name": "stdout",
     "output_type": "stream",
     "text": [
      "auth success \n",
      "login account=18909717222 success.\n"
     ]
    }
   ],
   "source": [
    "jqdata = joinquant(\"account6\")"
   ]
  },
  {
   "cell_type": "code",
   "execution_count": 3,
   "metadata": {},
   "outputs": [
    {
     "data": {
      "text/html": [
       "<div>\n",
       "<style scoped>\n",
       "    .dataframe tbody tr th:only-of-type {\n",
       "        vertical-align: middle;\n",
       "    }\n",
       "\n",
       "    .dataframe tbody tr th {\n",
       "        vertical-align: top;\n",
       "    }\n",
       "\n",
       "    .dataframe thead th {\n",
       "        text-align: right;\n",
       "    }\n",
       "</style>\n",
       "<table border=\"1\" class=\"dataframe\">\n",
       "  <thead>\n",
       "    <tr style=\"text-align: right;\">\n",
       "      <th></th>\n",
       "      <th>display_name</th>\n",
       "      <th>name</th>\n",
       "      <th>start_date</th>\n",
       "      <th>end_date</th>\n",
       "      <th>type</th>\n",
       "    </tr>\n",
       "  </thead>\n",
       "  <tbody>\n",
       "    <tr>\n",
       "      <th>000001.XSHE</th>\n",
       "      <td>平安银行</td>\n",
       "      <td>PAYH</td>\n",
       "      <td>1991-04-03</td>\n",
       "      <td>2200-01-01</td>\n",
       "      <td>stock</td>\n",
       "    </tr>\n",
       "    <tr>\n",
       "      <th>000002.XSHE</th>\n",
       "      <td>万科A</td>\n",
       "      <td>WKA</td>\n",
       "      <td>1991-01-29</td>\n",
       "      <td>2200-01-01</td>\n",
       "      <td>stock</td>\n",
       "    </tr>\n",
       "    <tr>\n",
       "      <th>000004.XSHE</th>\n",
       "      <td>国华网安</td>\n",
       "      <td>GHWA</td>\n",
       "      <td>1990-12-01</td>\n",
       "      <td>2200-01-01</td>\n",
       "      <td>stock</td>\n",
       "    </tr>\n",
       "    <tr>\n",
       "      <th>000005.XSHE</th>\n",
       "      <td>ST星源</td>\n",
       "      <td>STXY</td>\n",
       "      <td>1990-12-10</td>\n",
       "      <td>2200-01-01</td>\n",
       "      <td>stock</td>\n",
       "    </tr>\n",
       "    <tr>\n",
       "      <th>000006.XSHE</th>\n",
       "      <td>深振业A</td>\n",
       "      <td>SZYA</td>\n",
       "      <td>1992-04-27</td>\n",
       "      <td>2200-01-01</td>\n",
       "      <td>stock</td>\n",
       "    </tr>\n",
       "    <tr>\n",
       "      <th>...</th>\n",
       "      <td>...</td>\n",
       "      <td>...</td>\n",
       "      <td>...</td>\n",
       "      <td>...</td>\n",
       "      <td>...</td>\n",
       "    </tr>\n",
       "    <tr>\n",
       "      <th>688799.XSHG</th>\n",
       "      <td>华纳药厂</td>\n",
       "      <td>HNYC</td>\n",
       "      <td>2021-07-13</td>\n",
       "      <td>2200-01-01</td>\n",
       "      <td>stock</td>\n",
       "    </tr>\n",
       "    <tr>\n",
       "      <th>688800.XSHG</th>\n",
       "      <td>瑞可达</td>\n",
       "      <td>RKD</td>\n",
       "      <td>2021-07-22</td>\n",
       "      <td>2200-01-01</td>\n",
       "      <td>stock</td>\n",
       "    </tr>\n",
       "    <tr>\n",
       "      <th>688819.XSHG</th>\n",
       "      <td>天能股份</td>\n",
       "      <td>TNGF</td>\n",
       "      <td>2021-01-18</td>\n",
       "      <td>2200-01-01</td>\n",
       "      <td>stock</td>\n",
       "    </tr>\n",
       "    <tr>\n",
       "      <th>688981.XSHG</th>\n",
       "      <td>中芯国际</td>\n",
       "      <td>ZXGJ</td>\n",
       "      <td>2020-07-16</td>\n",
       "      <td>2200-01-01</td>\n",
       "      <td>stock</td>\n",
       "    </tr>\n",
       "    <tr>\n",
       "      <th>689009.XSHG</th>\n",
       "      <td>九号公司</td>\n",
       "      <td>JHGS</td>\n",
       "      <td>2020-10-29</td>\n",
       "      <td>2200-01-01</td>\n",
       "      <td>stock</td>\n",
       "    </tr>\n",
       "  </tbody>\n",
       "</table>\n",
       "<p>4697 rows × 5 columns</p>\n",
       "</div>"
      ],
      "text/plain": [
       "            display_name  name start_date   end_date   type\n",
       "000001.XSHE         平安银行  PAYH 1991-04-03 2200-01-01  stock\n",
       "000002.XSHE          万科A   WKA 1991-01-29 2200-01-01  stock\n",
       "000004.XSHE         国华网安  GHWA 1990-12-01 2200-01-01  stock\n",
       "000005.XSHE         ST星源  STXY 1990-12-10 2200-01-01  stock\n",
       "000006.XSHE         深振业A  SZYA 1992-04-27 2200-01-01  stock\n",
       "...                  ...   ...        ...        ...    ...\n",
       "688799.XSHG         华纳药厂  HNYC 2021-07-13 2200-01-01  stock\n",
       "688800.XSHG          瑞可达   RKD 2021-07-22 2200-01-01  stock\n",
       "688819.XSHG         天能股份  TNGF 2021-01-18 2200-01-01  stock\n",
       "688981.XSHG         中芯国际  ZXGJ 2020-07-16 2200-01-01  stock\n",
       "689009.XSHG         九号公司  JHGS 2020-10-29 2200-01-01  stock\n",
       "\n",
       "[4697 rows x 5 columns]"
      ]
     },
     "execution_count": 3,
     "metadata": {},
     "output_type": "execute_result"
    }
   ],
   "source": [
    "stock_info = jqdata.get_all_stock_info()\n",
    "stock_info"
   ]
  },
  {
   "cell_type": "code",
   "execution_count": 6,
   "metadata": {},
   "outputs": [],
   "source": [
    "save_csv(\n",
    "    data = stock_info\n",
    "    ,file_path = \"/Users/stephenbo/JOB/PROJECT/quantification_new/data/stock_info.csv\"\n",
    "    # ,header = False\n",
    "    ,index = True\n",
    ")"
   ]
  },
  {
   "cell_type": "code",
   "execution_count": 10,
   "metadata": {},
   "outputs": [
    {
     "data": {
      "text/plain": [
       "1"
      ]
     },
     "execution_count": 10,
     "metadata": {},
     "output_type": "execute_result"
    }
   ],
   "source": [
    "mysql.create_table(\n",
    "    table_name = \"stock_info\"\n",
    "    ,table_elements = {\n",
    "        \"stock_name\":       \"VARCHAR(1000)\"\n",
    "        ,\"stock_code\":      \"VARCHAR(1000)\"\n",
    "        ,\"name\":            \"VARCHAR(1000)\"\n",
    "        ,\"start_date\":      \"VARCHAR(1000)\"\n",
    "        ,\"end_date\":        \"VARCHAR(1000)\"\n",
    "    }\n",
    ")"
   ]
  },
  {
   "cell_type": "code",
   "execution_count": 11,
   "metadata": {},
   "outputs": [
    {
     "data": {
      "text/plain": [
       "Index(['stock_code', 'stock_name', 'name', 'start_date', 'end_date', 'type'], dtype='object')"
      ]
     },
     "execution_count": 11,
     "metadata": {},
     "output_type": "execute_result"
    }
   ],
   "source": [
    "stock_info = pd.read_csv(\"/Users/stephenbo/JOB/PROJECT/quantification_new/data/stock_info.csv\")\n",
    "stock_info.columns = [\"stock_code\", \"stock_name\", \"name\", \"start_date\", \"end_date\", \"type\"]\n",
    "stock_info.columns"
   ]
  },
  {
   "cell_type": "code",
   "execution_count": 14,
   "metadata": {},
   "outputs": [
    {
     "data": {
      "text/plain": [
       "4697"
      ]
     },
     "execution_count": 14,
     "metadata": {},
     "output_type": "execute_result"
    }
   ],
   "source": [
    "len(stock_info)"
   ]
  },
  {
   "cell_type": "code",
   "execution_count": 13,
   "metadata": {},
   "outputs": [
    {
     "data": {
      "text/plain": [
       "{'stock_code': array(['000001.XSHE', '000002.XSHE', '000004.XSHE', ..., '688819.XSHG',\n",
       "        '688981.XSHG', '689009.XSHG'], dtype=object),\n",
       " 'stock_name': array(['平安银行', '万科A', '国华网安', ..., '天能股份', '中芯国际', '九号公司'], dtype=object),\n",
       " 'name': array(['PAYH', 'WKA', 'GHWA', ..., 'TNGF', 'ZXGJ', 'JHGS'], dtype=object),\n",
       " 'start_date': array(['1991-04-03', '1991-01-29', '1990-12-01', ..., '2021-01-18',\n",
       "        '2020-07-16', '2020-10-29'], dtype=object),\n",
       " 'end_date': array(['2200-01-01', '2200-01-01', '2200-01-01', ..., '2200-01-01',\n",
       "        '2200-01-01', '2200-01-01'], dtype=object),\n",
       " 'type': array(['stock', 'stock', 'stock', ..., 'stock', 'stock', 'stock'],\n",
       "       dtype=object)}"
      ]
     },
     "execution_count": 13,
     "metadata": {},
     "output_type": "execute_result"
    }
   ],
   "source": [
    "stock_info_dict = change_dataframe_to_dict(stock_info)\n",
    "stock_info_dict"
   ]
  },
  {
   "cell_type": "code",
   "execution_count": 18,
   "metadata": {},
   "outputs": [
    {
     "data": {
      "text/plain": [
       "[('000001.XSHE', '平安银行', 'PAYH', '1991-04-03', '2200-01-01'),\n",
       " ('000002.XSHE', '万科A', 'WKA', '1991-01-29', '2200-01-01'),\n",
       " ('000004.XSHE', '国华网安', 'GHWA', '1990-12-01', '2200-01-01'),\n",
       " ('000005.XSHE', 'ST星源', 'STXY', '1990-12-10', '2200-01-01')]"
      ]
     },
     "execution_count": 18,
     "metadata": {},
     "output_type": "execute_result"
    }
   ],
   "source": [
    "stock_info_insert_element = list()\n",
    "stock_info_insert_att_list = [\n",
    "    \"stock_code\", \"stock_name\", \"name\", \"start_date\", \"end_date\"\n",
    "]\n",
    "for i in range(len(stock_info)):\n",
    "    insert_element = list()\n",
    "    for att in stock_info_insert_att_list:\n",
    "        insert_element.append(stock_info_dict[att][i])\n",
    "    insert_element = tuple(insert_element)\n",
    "    stock_info_insert_element.append(insert_element)\n",
    "stock_info_insert_element[:4]"
   ]
  },
  {
   "cell_type": "code",
   "execution_count": 19,
   "metadata": {},
   "outputs": [],
   "source": [
    "mysql.insert_table(\n",
    "    table_name = \"stock_info\"\n",
    "    ,attribute_list = stock_info_insert_att_list\n",
    "    ,elements = stock_info_insert_element\n",
    ")"
   ]
  },
  {
   "cell_type": "code",
   "execution_count": 14,
   "metadata": {},
   "outputs": [
    {
     "data": {
      "text/plain": [
       "'2021-12-13 00:00:00'"
      ]
     },
     "execution_count": 14,
     "metadata": {},
     "output_type": "execute_result"
    }
   ],
   "source": [
    "import datetime \n",
    "(datetime.date.today() - datetime.timedelta(days=0)).strftime(\"%Y-%m-%d %H:%M:%S\")"
   ]
  },
  {
   "cell_type": "code",
   "execution_count": null,
   "metadata": {},
   "outputs": [],
   "source": [
    "----"
   ]
  },
  {
   "cell_type": "code",
   "execution_count": 6,
   "metadata": {},
   "outputs": [
    {
     "name": "stderr",
     "output_type": "stream",
     "text": [
      "/Users/stephenbo/opt/anaconda3/envs/quant/lib/python3.8/site-packages/jqdatasdk/api.py:34: PanelObsoleteWarning: 当前环境 pandas 版本高于 0.25，get_price 与 get_fundamentals_continuously 接口的 panel 参数将固定为 False（0.25 及以上版本的 pandas 不再支持 panel，如使用该数据结构和相关函数请注意修改）\n",
      "  warnings.warn(PandasChecker.VERSION_NOTICE_MESSAGE, PanelObsoleteWarning)\n"
     ]
    },
    {
     "data": {
      "text/html": [
       "<div>\n",
       "<style scoped>\n",
       "    .dataframe tbody tr th:only-of-type {\n",
       "        vertical-align: middle;\n",
       "    }\n",
       "\n",
       "    .dataframe tbody tr th {\n",
       "        vertical-align: top;\n",
       "    }\n",
       "\n",
       "    .dataframe thead th {\n",
       "        text-align: right;\n",
       "    }\n",
       "</style>\n",
       "<table border=\"1\" class=\"dataframe\">\n",
       "  <thead>\n",
       "    <tr style=\"text-align: right;\">\n",
       "      <th></th>\n",
       "      <th>ds</th>\n",
       "      <th>open</th>\n",
       "      <th>close</th>\n",
       "      <th>high</th>\n",
       "      <th>low</th>\n",
       "      <th>volume</th>\n",
       "      <th>money</th>\n",
       "      <th>stock_code</th>\n",
       "    </tr>\n",
       "  </thead>\n",
       "  <tbody>\n",
       "    <tr>\n",
       "      <th>0</th>\n",
       "      <td>2021-12-01</td>\n",
       "      <td>11.94</td>\n",
       "      <td>11.90</td>\n",
       "      <td>12.05</td>\n",
       "      <td>11.83</td>\n",
       "      <td>4338800.0</td>\n",
       "      <td>5.172936e+07</td>\n",
       "      <td>000026.XSHE</td>\n",
       "    </tr>\n",
       "    <tr>\n",
       "      <th>1</th>\n",
       "      <td>2021-12-02</td>\n",
       "      <td>11.90</td>\n",
       "      <td>11.69</td>\n",
       "      <td>11.97</td>\n",
       "      <td>11.68</td>\n",
       "      <td>3404789.0</td>\n",
       "      <td>4.017394e+07</td>\n",
       "      <td>000026.XSHE</td>\n",
       "    </tr>\n",
       "    <tr>\n",
       "      <th>2</th>\n",
       "      <td>2021-12-03</td>\n",
       "      <td>11.77</td>\n",
       "      <td>11.72</td>\n",
       "      <td>11.77</td>\n",
       "      <td>11.61</td>\n",
       "      <td>2887689.0</td>\n",
       "      <td>3.378292e+07</td>\n",
       "      <td>000026.XSHE</td>\n",
       "    </tr>\n",
       "    <tr>\n",
       "      <th>3</th>\n",
       "      <td>2021-12-06</td>\n",
       "      <td>11.73</td>\n",
       "      <td>11.41</td>\n",
       "      <td>11.82</td>\n",
       "      <td>11.35</td>\n",
       "      <td>6095049.0</td>\n",
       "      <td>7.018109e+07</td>\n",
       "      <td>000026.XSHE</td>\n",
       "    </tr>\n",
       "    <tr>\n",
       "      <th>4</th>\n",
       "      <td>2021-12-07</td>\n",
       "      <td>11.47</td>\n",
       "      <td>11.48</td>\n",
       "      <td>11.62</td>\n",
       "      <td>11.40</td>\n",
       "      <td>3935331.0</td>\n",
       "      <td>4.531575e+07</td>\n",
       "      <td>000026.XSHE</td>\n",
       "    </tr>\n",
       "    <tr>\n",
       "      <th>5</th>\n",
       "      <td>2021-12-08</td>\n",
       "      <td>11.51</td>\n",
       "      <td>11.64</td>\n",
       "      <td>11.67</td>\n",
       "      <td>11.41</td>\n",
       "      <td>3506841.0</td>\n",
       "      <td>4.053702e+07</td>\n",
       "      <td>000026.XSHE</td>\n",
       "    </tr>\n",
       "    <tr>\n",
       "      <th>6</th>\n",
       "      <td>2021-12-09</td>\n",
       "      <td>11.70</td>\n",
       "      <td>11.76</td>\n",
       "      <td>11.82</td>\n",
       "      <td>11.50</td>\n",
       "      <td>5057280.0</td>\n",
       "      <td>5.919869e+07</td>\n",
       "      <td>000026.XSHE</td>\n",
       "    </tr>\n",
       "    <tr>\n",
       "      <th>7</th>\n",
       "      <td>2021-12-10</td>\n",
       "      <td>11.72</td>\n",
       "      <td>12.19</td>\n",
       "      <td>12.65</td>\n",
       "      <td>11.66</td>\n",
       "      <td>14631066.0</td>\n",
       "      <td>1.788370e+08</td>\n",
       "      <td>000026.XSHE</td>\n",
       "    </tr>\n",
       "    <tr>\n",
       "      <th>8</th>\n",
       "      <td>2021-12-13</td>\n",
       "      <td>12.52</td>\n",
       "      <td>11.98</td>\n",
       "      <td>12.57</td>\n",
       "      <td>11.81</td>\n",
       "      <td>12285110.0</td>\n",
       "      <td>1.479680e+08</td>\n",
       "      <td>000026.XSHE</td>\n",
       "    </tr>\n",
       "    <tr>\n",
       "      <th>9</th>\n",
       "      <td>2021-12-14</td>\n",
       "      <td>11.96</td>\n",
       "      <td>11.77</td>\n",
       "      <td>11.96</td>\n",
       "      <td>11.75</td>\n",
       "      <td>8162162.0</td>\n",
       "      <td>9.622362e+07</td>\n",
       "      <td>000026.XSHE</td>\n",
       "    </tr>\n",
       "  </tbody>\n",
       "</table>\n",
       "</div>"
      ],
      "text/plain": [
       "           ds   open  close   high    low      volume         money  \\\n",
       "0  2021-12-01  11.94  11.90  12.05  11.83   4338800.0  5.172936e+07   \n",
       "1  2021-12-02  11.90  11.69  11.97  11.68   3404789.0  4.017394e+07   \n",
       "2  2021-12-03  11.77  11.72  11.77  11.61   2887689.0  3.378292e+07   \n",
       "3  2021-12-06  11.73  11.41  11.82  11.35   6095049.0  7.018109e+07   \n",
       "4  2021-12-07  11.47  11.48  11.62  11.40   3935331.0  4.531575e+07   \n",
       "5  2021-12-08  11.51  11.64  11.67  11.41   3506841.0  4.053702e+07   \n",
       "6  2021-12-09  11.70  11.76  11.82  11.50   5057280.0  5.919869e+07   \n",
       "7  2021-12-10  11.72  12.19  12.65  11.66  14631066.0  1.788370e+08   \n",
       "8  2021-12-13  12.52  11.98  12.57  11.81  12285110.0  1.479680e+08   \n",
       "9  2021-12-14  11.96  11.77  11.96  11.75   8162162.0  9.622362e+07   \n",
       "\n",
       "    stock_code  \n",
       "0  000026.XSHE  \n",
       "1  000026.XSHE  \n",
       "2  000026.XSHE  \n",
       "3  000026.XSHE  \n",
       "4  000026.XSHE  \n",
       "5  000026.XSHE  \n",
       "6  000026.XSHE  \n",
       "7  000026.XSHE  \n",
       "8  000026.XSHE  \n",
       "9  000026.XSHE  "
      ]
     },
     "execution_count": 6,
     "metadata": {},
     "output_type": "execute_result"
    }
   ],
   "source": [
    "stock_daily_price = jqdata.get_daily_price(\n",
    "    \"000026.XSHE\"\n",
    "    ,start_date = \"2021-12-01 00:00:00\"\n",
    "    ,end_date = \"2021-12-14 00:00:00\"\n",
    ")\n",
    "stock_daily_price"
   ]
  },
  {
   "cell_type": "code",
   "execution_count": 8,
   "metadata": {},
   "outputs": [
    {
     "data": {
      "text/plain": [
       "1"
      ]
     },
     "execution_count": 8,
     "metadata": {},
     "output_type": "execute_result"
    }
   ],
   "source": [
    "mysql.create_table(\n",
    "    table_name = \"test04\"#\"stock_daily_price\"\n",
    "    ,table_elements = {\n",
    "        \"stock_code\":       \"VARCHAR(1000)\"\n",
    "        ,\"ds\":              \"VARCHAR(1000)\"\n",
    "        ,\"open\":            \"FLOAT\"\n",
    "        ,\"close\":           \"FLOAT\"\n",
    "        ,\"high\":            \"FLOAT\"\n",
    "        ,\"low\":             \"FLOAT\"\n",
    "        ,\"volume\":          \"FLOAT\"\n",
    "        ,\"money\":           \"FLOAT\"\n",
    "    }\n",
    ")"
   ]
  },
  {
   "cell_type": "code",
   "execution_count": 12,
   "metadata": {},
   "outputs": [
    {
     "data": {
      "text/plain": [
       "Index(['ds', 'open', 'close', 'high', 'low', 'volume', 'money', 'stock_code'], dtype='object')"
      ]
     },
     "execution_count": 12,
     "metadata": {},
     "output_type": "execute_result"
    }
   ],
   "source": [
    "stock_daily_price_elements = mysql.get_insert_elements(stock_daily_price, stock_daily_price.columns)\n",
    "stock_daily_price_elements"
   ]
  },
  {
   "cell_type": "code",
   "execution_count": 13,
   "metadata": {},
   "outputs": [],
   "source": [
    "mysql.insert_table(\n",
    "    table_name = \"test04\"\n",
    "    ,attribute_list = stock_daily_price.columns\n",
    "    ,elements = stock_daily_price_elements\n",
    ")"
   ]
  },
  {
   "cell_type": "code",
   "execution_count": null,
   "metadata": {},
   "outputs": [],
   "source": [
    "----------------------------------------------------------------------------------------------"
   ]
  },
  {
   "cell_type": "markdown",
   "metadata": {},
   "source": [
    "### 测试天级别交易数据回溯"
   ]
  },
  {
   "cell_type": "code",
   "execution_count": 6,
   "metadata": {},
   "outputs": [
    {
     "name": "stdout",
     "output_type": "stream",
     "text": [
      "SELECT  t.stock_name AS stock_name \n",
      "        ,MAX(t.stock_code) AS stock_code \n",
      "        ,MAX(t.start_date) AS start_date \n",
      "        ,MAX(t.end_date) AS end_date\n",
      "FROM \n",
      "(\n",
      "    SELECT  t1.stock_name AS stock_name \n",
      "            ,t1.stock_code AS stock_code \n",
      "            ,CASE WHEN t2.stock_code IS NULL THEN t1.start_date ELSE t2.ds END AS start_date \n",
      "            ,t1.end_date AS end_date \n",
      "    FROM \n",
      "    (\n",
      "        SELECT  stock_name \n",
      "                ,MAX(stock_code) AS stock_code  \n",
      "                ,MAX(start_date) AS start_date  \n",
      "                ,MAX(end_date) AS end_date  \n",
      "        FROM    stock_info \n",
      "        GROUP BY stock_name \n",
      "    ) t1\n",
      "    LEFT OUTER JOIN \n",
      "    (\n",
      "        SELECT  stock_code \n",
      "                ,MAX(ds) AS ds \n",
      "        FROM    stock_daily_price_tmp \n",
      "        GROUP BY stock_code \n",
      "    ) t2 ON t1.stock_code = t2.stock_code \n",
      ") t\n",
      "GROUP BY t.stock_name\n",
      ";\n"
     ]
    }
   ],
   "source": [
    "select_sql = open(\"/Users/stephenbo/JOB/PROJECT/quantification_new/sql/get_stock_info.sql\").read()\n",
    "print(select_sql)"
   ]
  },
  {
   "cell_type": "code",
   "execution_count": 7,
   "metadata": {},
   "outputs": [],
   "source": [
    "stock_info = mysql.select_table(select_sql)"
   ]
  },
  {
   "cell_type": "code",
   "execution_count": 8,
   "metadata": {},
   "outputs": [],
   "source": [
    "mysql.create_table(\n",
    "    table_name = \"stock_daily_price_tmp\"#\"stock_daily_price\"\n",
    "    ,table_elements = {\n",
    "        \"stock_code\":       \"VARCHAR(1000)\"\n",
    "        ,\"ds\":              \"VARCHAR(1000)\"\n",
    "        ,\"open\":            \"FLOAT\"\n",
    "        ,\"close\":           \"FLOAT\"\n",
    "        ,\"high\":            \"FLOAT\"\n",
    "        ,\"low\":             \"FLOAT\"\n",
    "        ,\"volume\":          \"FLOAT\"\n",
    "        ,\"money\":           \"FLOAT\"\n",
    "    }\n",
    ")"
   ]
  },
  {
   "cell_type": "code",
   "execution_count": 9,
   "metadata": {},
   "outputs": [
    {
     "data": {
      "text/plain": [
       "(('平安银行', '000001.XSHE', '2021-12-16', '2200-01-01'),\n",
       " ('万科A', '000002.XSHE', '2021-12-16', '2200-01-01'),\n",
       " ('国华网安', '000004.XSHE', '2021-12-16', '2200-01-01'),\n",
       " ('ST星源', '000005.XSHE', '2021-12-16', '2200-01-01'))"
      ]
     },
     "execution_count": 9,
     "metadata": {},
     "output_type": "execute_result"
    }
   ],
   "source": [
    "stock_info[:4]"
   ]
  },
  {
   "cell_type": "code",
   "execution_count": 10,
   "metadata": {},
   "outputs": [],
   "source": [
    "stock_start_date_dict = dict()\n",
    "stock_end_date_dict = dict()\n",
    "stock_code_list = list()\n",
    "for element in stock_info:\n",
    "    stock_code = element[1]\n",
    "    start_date = element[2]\n",
    "    end_date = element[3]\n",
    "    stock_start_date_dict[stock_code] = start_date \n",
    "    stock_end_date_dict[stock_code] = end_date \n",
    "    stock_code_list.append(stock_code)"
   ]
  },
  {
   "cell_type": "code",
   "execution_count": 11,
   "metadata": {},
   "outputs": [
    {
     "name": "stdout",
     "output_type": "stream",
     "text": [
      "Processing stock_code=600272.XSHG;start_date=1997-01-08 00:00:00;end_date=2021-12-16 23:59:59 ...\n"
     ]
    },
    {
     "name": "stderr",
     "output_type": "stream",
     "text": [
      "/Users/stephenbo/opt/anaconda3/envs/quant/lib/python3.8/site-packages/jqdatasdk/api.py:34: PanelObsoleteWarning: 当前环境 pandas 版本高于 0.25，get_price 与 get_fundamentals_continuously 接口的 panel 参数将固定为 False（0.25 及以上版本的 pandas 不再支持 panel，如使用该数据结构和相关函数请注意修改）\n",
      "  warnings.warn(PandasChecker.VERSION_NOTICE_MESSAGE, PanelObsoleteWarning)\n"
     ]
    },
    {
     "name": "stdout",
     "output_type": "stream",
     "text": [
      "Processing stock_code=600273.XSHG;start_date=2003-06-27 00:00:00;end_date=2021-12-16 23:59:59 ...\n",
      "Processing stock_code=600275.XSHG;start_date=2000-08-10 00:00:00;end_date=2021-12-16 23:59:59 ...\n",
      "Processing stock_code=600276.XSHG;start_date=2000-10-18 00:00:00;end_date=2021-12-16 23:59:59 ...\n",
      "Processing stock_code=600277.XSHG;start_date=2000-07-25 00:00:00;end_date=2021-12-16 23:59:59 ...\n",
      "Processing stock_code=600278.XSHG;start_date=2000-07-12 00:00:00;end_date=2021-12-16 23:59:59 ...\n",
      "Processing stock_code=600279.XSHG;start_date=2000-07-31 00:00:00;end_date=2021-12-16 23:59:59 ...\n",
      "Processing stock_code=600280.XSHG;start_date=2000-09-26 00:00:00;end_date=2021-12-16 23:59:59 ...\n",
      "Processing stock_code=600281.XSHG;start_date=2000-11-09 00:00:00;end_date=2021-12-16 23:59:59 ...\n",
      "Processing stock_code=600282.XSHG;start_date=2000-09-19 00:00:00;end_date=2021-12-16 23:59:59 ...\n",
      "Processing stock_code=600283.XSHG;start_date=2000-10-18 00:00:00;end_date=2021-12-16 23:59:59 ...\n",
      "Processing stock_code=600284.XSHG;start_date=2004-03-16 00:00:00;end_date=2021-12-16 23:59:59 ...\n",
      "Processing stock_code=600285.XSHG;start_date=2000-10-18 00:00:00;end_date=2021-12-16 23:59:59 ...\n",
      "Processing stock_code=600286.XSHG;start_date=1999-12-09 00:00:00;end_date=2021-12-16 23:59:59 ...\n",
      "Processing stock_code=600287.XSHG;start_date=2000-09-01 00:00:00;end_date=2021-12-16 23:59:59 ...\n",
      "Processing stock_code=600288.XSHG;start_date=2000-11-29 00:00:00;end_date=2021-12-16 23:59:59 ...\n",
      "Processing stock_code=600289.XSHG;start_date=2000-07-20 00:00:00;end_date=2021-12-16 23:59:59 ...\n",
      "Processing stock_code=600290.XSHG;start_date=2000-11-06 00:00:00;end_date=2021-12-16 23:59:59 ...\n",
      "Processing stock_code=600291.XSHG;start_date=2000-07-31 00:00:00;end_date=2021-12-16 23:59:59 ...\n",
      "Processing stock_code=600292.XSHG;start_date=2000-11-01 00:00:00;end_date=2021-12-16 23:59:59 ...\n",
      "Processing stock_code=600293.XSHG;start_date=2000-09-19 00:00:00;end_date=2021-12-16 23:59:59 ...\n",
      "Processing stock_code=600295.XSHG;start_date=1995-10-20 00:00:00;end_date=2021-12-16 23:59:59 ...\n",
      "Processing stock_code=600296.XSHG;start_date=2000-07-19 00:00:00;end_date=2021-12-16 23:59:59 ...\n",
      "Processing stock_code=600297.XSHG;start_date=2000-11-16 00:00:00;end_date=2021-12-16 23:59:59 ...\n",
      "Processing stock_code=600298.XSHG;start_date=2000-08-18 00:00:00;end_date=2021-12-16 23:59:59 ...\n",
      "Processing stock_code=600299.XSHG;start_date=2000-04-20 00:00:00;end_date=2021-12-16 23:59:59 ...\n",
      "Processing stock_code=600300.XSHG;start_date=2000-06-30 00:00:00;end_date=2021-12-16 23:59:59 ...\n",
      "Processing stock_code=600301.XSHG;start_date=2000-07-12 00:00:00;end_date=2021-12-16 23:59:59 ...\n",
      "Processing stock_code=600302.XSHG;start_date=2000-12-13 00:00:00;end_date=2021-12-16 23:59:59 ...\n",
      "Processing stock_code=600303.XSHG;start_date=2000-12-26 00:00:00;end_date=2021-12-16 23:59:59 ...\n",
      "Processing stock_code=600305.XSHG;start_date=2001-02-06 00:00:00;end_date=2021-12-16 23:59:59 ...\n",
      "Processing stock_code=600306.XSHG;start_date=2000-12-26 00:00:00;end_date=2021-12-16 23:59:59 ...\n",
      "Processing stock_code=600307.XSHG;start_date=2000-12-20 00:00:00;end_date=2021-12-16 23:59:59 ...\n",
      "Processing stock_code=600308.XSHG;start_date=2000-09-28 00:00:00;end_date=2021-12-16 23:59:59 ...\n",
      "Processing stock_code=600309.XSHG;start_date=2000-01-05 00:00:00;end_date=2021-12-16 23:59:59 ...\n",
      "Processing stock_code=600310.XSHG;start_date=2001-02-28 00:00:00;end_date=2021-12-16 23:59:59 ...\n",
      "Processing stock_code=600311.XSHG;start_date=2001-06-26 00:00:00;end_date=2021-12-16 23:59:59 ...\n",
      "Processing stock_code=600312.XSHG;start_date=2001-02-21 00:00:00;end_date=2021-12-16 23:59:59 ...\n",
      "Processing stock_code=600313.XSHG;start_date=2001-01-19 00:00:00;end_date=2021-12-16 23:59:59 ...\n",
      "Processing stock_code=600315.XSHG;start_date=2001-03-15 00:00:00;end_date=2021-12-16 23:59:59 ...\n",
      "Processing stock_code=600316.XSHG;start_date=2000-12-15 00:00:00;end_date=2021-12-16 23:59:59 ...\n",
      "Processing stock_code=600317.XSHG;start_date=2002-01-31 00:00:00;end_date=2021-12-16 23:59:59 ...\n",
      "Processing stock_code=600318.XSHG;start_date=2000-12-08 00:00:00;end_date=2021-12-16 23:59:59 ...\n",
      "Processing stock_code=600319.XSHG;start_date=2001-03-26 00:00:00;end_date=2021-12-16 23:59:59 ...\n",
      "Processing stock_code=600320.XSHG;start_date=2000-12-21 00:00:00;end_date=2021-12-16 23:59:59 ...\n",
      "Processing stock_code=600321.XSHG;start_date=2001-05-24 00:00:00;end_date=2021-12-16 23:59:59 ...\n",
      "Processing stock_code=600322.XSHG;start_date=2001-09-10 00:00:00;end_date=2021-12-16 23:59:59 ...\n",
      "Processing stock_code=600323.XSHG;start_date=2000-12-25 00:00:00;end_date=2021-12-16 23:59:59 ...\n",
      "Processing stock_code=600325.XSHG;start_date=2004-02-25 00:00:00;end_date=2021-12-16 23:59:59 ...\n",
      "Processing stock_code=600326.XSHG;start_date=2001-01-16 00:00:00;end_date=2021-12-16 23:59:59 ...\n",
      "Processing stock_code=600327.XSHG;start_date=2002-06-25 00:00:00;end_date=2021-12-16 23:59:59 ...\n",
      "Processing stock_code=600328.XSHG;start_date=2000-12-22 00:00:00;end_date=2021-12-16 23:59:59 ...\n",
      "Processing stock_code=600329.XSHG;start_date=2001-06-06 00:00:00;end_date=2021-12-16 23:59:59 ...\n",
      "Processing stock_code=600330.XSHG;start_date=2001-01-18 00:00:00;end_date=2021-12-16 23:59:59 ...\n",
      "Processing stock_code=600331.XSHG;start_date=2001-12-20 00:00:00;end_date=2021-12-16 23:59:59 ...\n",
      "Processing stock_code=600332.XSHG;start_date=2001-02-06 00:00:00;end_date=2021-12-16 23:59:59 ...\n",
      "Processing stock_code=600333.XSHG;start_date=2000-12-11 00:00:00;end_date=2021-12-16 23:59:59 ...\n",
      "Processing stock_code=600335.XSHG;start_date=2001-03-05 00:00:00;end_date=2021-12-16 23:59:59 ...\n",
      "Processing stock_code=600336.XSHG;start_date=2000-12-29 00:00:00;end_date=2021-12-16 23:59:59 ...\n",
      "Processing stock_code=600337.XSHG;start_date=2000-11-27 00:00:00;end_date=2021-12-16 23:59:59 ...\n",
      "Processing stock_code=600338.XSHG;start_date=2000-12-27 00:00:00;end_date=2021-12-16 23:59:59 ...\n",
      "Processing stock_code=600339.XSHG;start_date=2000-12-25 00:00:00;end_date=2021-12-16 23:59:59 ...\n",
      "Processing stock_code=600340.XSHG;start_date=2003-12-30 00:00:00;end_date=2021-12-16 23:59:59 ...\n",
      "Processing stock_code=600343.XSHG;start_date=2003-04-08 00:00:00;end_date=2021-12-16 23:59:59 ...\n",
      "Processing stock_code=600345.XSHG;start_date=2000-12-22 00:00:00;end_date=2021-12-16 23:59:59 ...\n",
      "Processing stock_code=600346.XSHG;start_date=2001-08-20 00:00:00;end_date=2021-12-16 23:59:59 ...\n",
      "Processing stock_code=600348.XSHG;start_date=2003-08-21 00:00:00;end_date=2021-12-16 23:59:59 ...\n",
      "Processing stock_code=600350.XSHG;start_date=2002-03-18 00:00:00;end_date=2021-12-16 23:59:59 ...\n",
      "Processing stock_code=600351.XSHG;start_date=2002-09-26 00:00:00;end_date=2021-12-16 23:59:59 ...\n",
      "Processing stock_code=600352.XSHG;start_date=2003-08-01 00:00:00;end_date=2021-12-16 23:59:59 ...\n",
      "Processing stock_code=600353.XSHG;start_date=2002-11-20 00:00:00;end_date=2021-12-16 23:59:59 ...\n",
      "Processing stock_code=600354.XSHG;start_date=2004-01-15 00:00:00;end_date=2021-12-16 23:59:59 ...\n",
      "Processing stock_code=600355.XSHG;start_date=2002-06-13 00:00:00;end_date=2021-12-16 23:59:59 ...\n",
      "Processing stock_code=600356.XSHG;start_date=2001-04-19 00:00:00;end_date=2021-12-16 23:59:59 ...\n",
      "Processing stock_code=600357.XSHG;start_date=2002-09-06 00:00:00;end_date=2021-12-16 23:59:59 ...\n",
      "Processing stock_code=600358.XSHG;start_date=2000-09-22 00:00:00;end_date=2021-12-16 23:59:59 ...\n",
      "Processing stock_code=600359.XSHG;start_date=1999-04-29 00:00:00;end_date=2021-12-16 23:59:59 ...\n",
      "Processing stock_code=600360.XSHG;start_date=2001-03-16 00:00:00;end_date=2021-12-16 23:59:59 ...\n",
      "Processing stock_code=600361.XSHG;start_date=2001-11-29 00:00:00;end_date=2021-12-16 23:59:59 ...\n",
      "Processing stock_code=600362.XSHG;start_date=2002-01-11 00:00:00;end_date=2021-12-16 23:59:59 ...\n",
      "Processing stock_code=600363.XSHG;start_date=2001-03-29 00:00:00;end_date=2021-12-16 23:59:59 ...\n",
      "Processing stock_code=600365.XSHG;start_date=2001-01-15 00:00:00;end_date=2021-12-16 23:59:59 ...\n",
      "Processing stock_code=600366.XSHG;start_date=2000-10-30 00:00:00;end_date=2021-12-16 23:59:59 ...\n",
      "Processing stock_code=600367.XSHG;start_date=2001-03-20 00:00:00;end_date=2021-12-16 23:59:59 ...\n",
      "Processing stock_code=600368.XSHG;start_date=2000-12-21 00:00:00;end_date=2021-12-16 23:59:59 ...\n",
      "Processing stock_code=600369.XSHG;start_date=2001-01-09 00:00:00;end_date=2021-12-16 23:59:59 ...\n",
      "Processing stock_code=600370.XSHG;start_date=2003-03-06 00:00:00;end_date=2021-12-16 23:59:59 ...\n",
      "Processing stock_code=600371.XSHG;start_date=2002-09-16 00:00:00;end_date=2021-12-16 23:59:59 ...\n",
      "Processing stock_code=600372.XSHG;start_date=2001-07-06 00:00:00;end_date=2021-12-16 23:59:59 ...\n",
      "Processing stock_code=600373.XSHG;start_date=2002-03-04 00:00:00;end_date=2021-12-16 23:59:59 ...\n",
      "Processing stock_code=600375.XSHG;start_date=2003-04-01 00:00:00;end_date=2021-12-16 23:59:59 ...\n",
      "Processing stock_code=600376.XSHG;start_date=2001-03-12 00:00:00;end_date=2021-12-16 23:59:59 ...\n",
      "Processing stock_code=600377.XSHG;start_date=2001-01-16 00:00:00;end_date=2021-12-16 23:59:59 ...\n",
      "Processing stock_code=600378.XSHG;start_date=2001-01-11 00:00:00;end_date=2021-12-16 23:59:59 ...\n",
      "Processing stock_code=600379.XSHG;start_date=2002-01-16 00:00:00;end_date=2021-12-16 23:59:59 ...\n",
      "Processing stock_code=600380.XSHG;start_date=2001-06-08 00:00:00;end_date=2021-12-16 23:59:59 ...\n",
      "Processing stock_code=600381.XSHG;start_date=2001-05-08 00:00:00;end_date=2021-12-16 23:59:59 ...\n",
      "Processing stock_code=600382.XSHG;start_date=2001-01-18 00:00:00;end_date=2021-12-16 23:59:59 ...\n",
      "Processing stock_code=600383.XSHG;start_date=2001-04-12 00:00:00;end_date=2021-12-16 23:59:59 ...\n",
      "Processing stock_code=600385.XSHG;start_date=2001-07-23 00:00:00;end_date=2021-12-16 23:59:59 ...\n",
      "Processing stock_code=600386.XSHG;start_date=2001-02-16 00:00:00;end_date=2021-12-16 23:59:59 ...\n",
      "Processing stock_code=600387.XSHG;start_date=2004-02-18 00:00:00;end_date=2021-12-16 23:59:59 ...\n",
      "Processing stock_code=600388.XSHG;start_date=2000-12-29 00:00:00;end_date=2021-12-16 23:59:59 ...\n",
      "Processing stock_code=600389.XSHG;start_date=2001-01-10 00:00:00;end_date=2021-12-16 23:59:59 ...\n",
      "Processing stock_code=600390.XSHG;start_date=2001-01-15 00:00:00;end_date=2021-12-16 23:59:59 ...\n",
      "Processing stock_code=600391.XSHG;start_date=2001-12-12 00:00:00;end_date=2021-12-16 23:59:59 ...\n",
      "Processing stock_code=600392.XSHG;start_date=2003-05-29 00:00:00;end_date=2021-12-16 23:59:59 ...\n",
      "Processing stock_code=600393.XSHG;start_date=2001-03-19 00:00:00;end_date=2021-12-16 23:59:59 ...\n",
      "Processing stock_code=600395.XSHG;start_date=2001-05-31 00:00:00;end_date=2021-12-16 23:59:59 ...\n",
      "Processing stock_code=600396.XSHG;start_date=2001-03-28 00:00:00;end_date=2021-12-16 23:59:59 ...\n",
      "Processing stock_code=600397.XSHG;start_date=2002-07-02 00:00:00;end_date=2021-12-16 23:59:59 ...\n",
      "Processing stock_code=600398.XSHG;start_date=2000-12-28 00:00:00;end_date=2021-12-16 23:59:59 ...\n",
      "Processing stock_code=600399.XSHG;start_date=2000-12-29 00:00:00;end_date=2021-12-16 23:59:59 ...\n",
      "Processing stock_code=600400.XSHG;start_date=2001-01-08 00:00:00;end_date=2021-12-16 23:59:59 ...\n",
      "Processing stock_code=600401.XSHG;start_date=2003-09-24 00:00:00;end_date=2021-12-16 23:59:59 ...\n",
      "Processing stock_code=600403.XSHG;start_date=2003-10-09 00:00:00;end_date=2021-12-16 23:59:59 ...\n",
      "Processing stock_code=600405.XSHG;start_date=2004-04-01 00:00:00;end_date=2021-12-16 23:59:59 ...\n",
      "Processing stock_code=600406.XSHG;start_date=2003-10-16 00:00:00;end_date=2021-12-16 23:59:59 ...\n",
      "Processing stock_code=600408.XSHG;start_date=2003-02-12 00:00:00;end_date=2021-12-16 23:59:59 ...\n",
      "Processing stock_code=600409.XSHG;start_date=2003-06-18 00:00:00;end_date=2021-12-16 23:59:59 ...\n",
      "Processing stock_code=600410.XSHG;start_date=2004-04-27 00:00:00;end_date=2021-12-16 23:59:59 ...\n",
      "Processing stock_code=600415.XSHG;start_date=2002-05-09 00:00:00;end_date=2021-12-16 23:59:59 ...\n",
      "Processing stock_code=600416.XSHG;start_date=2002-07-18 00:00:00;end_date=2021-12-16 23:59:59 ...\n",
      "Processing stock_code=600418.XSHG;start_date=2001-08-24 00:00:00;end_date=2021-12-16 23:59:59 ...\n",
      "Processing stock_code=600419.XSHG;start_date=2001-06-28 00:00:00;end_date=2021-12-16 23:59:59 ...\n",
      "Processing stock_code=600420.XSHG;start_date=2004-06-16 00:00:00;end_date=2021-12-16 23:59:59 ...\n",
      "Processing stock_code=600421.XSHG;start_date=2004-06-07 00:00:00;end_date=2021-12-16 23:59:59 ...\n",
      "Processing stock_code=600422.XSHG;start_date=2000-12-06 00:00:00;end_date=2021-12-16 23:59:59 ...\n",
      "Processing stock_code=600423.XSHG;start_date=2003-07-17 00:00:00;end_date=2021-12-16 23:59:59 ...\n",
      "Processing stock_code=600425.XSHG;start_date=2003-07-24 00:00:00;end_date=2021-12-16 23:59:59 ...\n",
      "Processing stock_code=600426.XSHG;start_date=2002-06-20 00:00:00;end_date=2021-12-16 23:59:59 ...\n",
      "Processing stock_code=600428.XSHG;start_date=2002-04-18 00:00:00;end_date=2021-12-16 23:59:59 ...\n",
      "Processing stock_code=600429.XSHG;start_date=2003-09-15 00:00:00;end_date=2021-12-16 23:59:59 ...\n",
      "Processing stock_code=600432.XSHG;start_date=2003-09-05 00:00:00;end_date=2021-12-16 23:59:59 ...\n",
      "Processing stock_code=600433.XSHG;start_date=2003-06-19 00:00:00;end_date=2021-12-16 23:59:59 ...\n",
      "Processing stock_code=600435.XSHG;start_date=2003-07-04 00:00:00;end_date=2021-12-16 23:59:59 ...\n",
      "Processing stock_code=600436.XSHG;start_date=2003-06-16 00:00:00;end_date=2021-12-16 23:59:59 ...\n",
      "Processing stock_code=600438.XSHG;start_date=2004-03-02 00:00:00;end_date=2021-12-16 23:59:59 ...\n",
      "Processing stock_code=600439.XSHG;start_date=2003-07-10 00:00:00;end_date=2021-12-16 23:59:59 ...\n",
      "Processing stock_code=600444.XSHG;start_date=2004-02-19 00:00:00;end_date=2021-12-16 23:59:59 ...\n",
      "Processing stock_code=600446.XSHG;start_date=2003-12-24 00:00:00;end_date=2021-12-16 23:59:59 ...\n",
      "Processing stock_code=600448.XSHG;start_date=2001-09-03 00:00:00;end_date=2021-12-16 23:59:59 ...\n",
      "Processing stock_code=600449.XSHG;start_date=2003-08-29 00:00:00;end_date=2021-12-16 23:59:59 ...\n",
      "Processing stock_code=600452.XSHG;start_date=2004-03-03 00:00:00;end_date=2021-12-16 23:59:59 ...\n",
      "Processing stock_code=600455.XSHG;start_date=2004-03-29 00:00:00;end_date=2021-12-16 23:59:59 ...\n",
      "Processing stock_code=600456.XSHG;start_date=2002-04-12 00:00:00;end_date=2021-12-16 23:59:59 ...\n",
      "Processing stock_code=600458.XSHG;start_date=2002-12-19 00:00:00;end_date=2021-12-16 23:59:59 ...\n",
      "Processing stock_code=600459.XSHG;start_date=2003-05-16 00:00:00;end_date=2021-12-16 23:59:59 ...\n",
      "Processing stock_code=600460.XSHG;start_date=2003-03-11 00:00:00;end_date=2021-12-16 23:59:59 ...\n",
      "Processing stock_code=600461.XSHG;start_date=2004-06-01 00:00:00;end_date=2021-12-16 23:59:59 ...\n",
      "Processing stock_code=600462.XSHG;start_date=2003-09-03 00:00:00;end_date=2021-12-16 23:59:59 ...\n",
      "Processing stock_code=600463.XSHG;start_date=2004-03-18 00:00:00;end_date=2021-12-16 23:59:59 ...\n",
      "Processing stock_code=600466.XSHG;start_date=2001-02-12 00:00:00;end_date=2021-12-16 23:59:59 ...\n",
      "Processing stock_code=600467.XSHG;start_date=2004-04-05 00:00:00;end_date=2021-12-16 23:59:59 ...\n",
      "Processing stock_code=600468.XSHG;start_date=2001-06-15 00:00:00;end_date=2021-12-16 23:59:59 ...\n",
      "Processing stock_code=600469.XSHG;start_date=2003-10-21 00:00:00;end_date=2021-12-16 23:59:59 ...\n",
      "Processing stock_code=600470.XSHG;start_date=2004-03-05 00:00:00;end_date=2021-12-16 23:59:59 ...\n",
      "Processing stock_code=600472.XSHG;start_date=2005-05-09 00:00:00;end_date=2021-12-16 23:59:59 ...\n",
      "Processing stock_code=600475.XSHG;start_date=2003-07-21 00:00:00;end_date=2021-12-16 23:59:59 ...\n",
      "Processing stock_code=600476.XSHG;start_date=2003-12-10 00:00:00;end_date=2021-12-16 23:59:59 ...\n",
      "Processing stock_code=600477.XSHG;start_date=2003-11-10 00:00:00;end_date=2021-12-16 23:59:59 ...\n",
      "Processing stock_code=600478.XSHG;start_date=2003-09-18 00:00:00;end_date=2021-12-16 23:59:59 ...\n",
      "Processing stock_code=600479.XSHG;start_date=2004-03-12 00:00:00;end_date=2021-12-16 23:59:59 ...\n",
      "Processing stock_code=600480.XSHG;start_date=2003-08-15 00:00:00;end_date=2021-12-16 23:59:59 ...\n",
      "Processing stock_code=600481.XSHG;start_date=2003-04-22 00:00:00;end_date=2021-12-16 23:59:59 ...\n",
      "Processing stock_code=600482.XSHG;start_date=2004-07-14 00:00:00;end_date=2021-12-16 23:59:59 ...\n",
      "Processing stock_code=600483.XSHG;start_date=2004-05-31 00:00:00;end_date=2021-12-16 23:59:59 ...\n",
      "Processing stock_code=600485.XSHG;start_date=2003-08-07 00:00:00;end_date=2021-12-16 23:59:59 ...\n",
      "Processing stock_code=600486.XSHG;start_date=2002-04-25 00:00:00;end_date=2021-12-16 23:59:59 ...\n",
      "Processing stock_code=600487.XSHG;start_date=2003-08-22 00:00:00;end_date=2021-12-16 23:59:59 ...\n",
      "Processing stock_code=600488.XSHG;start_date=2001-06-18 00:00:00;end_date=2021-12-16 23:59:59 ...\n",
      "Processing stock_code=600489.XSHG;start_date=2003-08-14 00:00:00;end_date=2021-12-16 23:59:59 ...\n",
      "Processing stock_code=600490.XSHG;start_date=2003-06-26 00:00:00;end_date=2021-12-16 23:59:59 ...\n",
      "Processing stock_code=600491.XSHG;start_date=2004-05-24 00:00:00;end_date=2021-12-16 23:59:59 ...\n",
      "Processing stock_code=600493.XSHG;start_date=2004-04-21 00:00:00;end_date=2021-12-16 23:59:59 ...\n",
      "Processing stock_code=600495.XSHG;start_date=2004-05-26 00:00:00;end_date=2021-12-16 23:59:59 ...\n",
      "Processing stock_code=600496.XSHG;start_date=2002-06-05 00:00:00;end_date=2021-12-16 23:59:59 ...\n",
      "Processing stock_code=600497.XSHG;start_date=2004-04-20 00:00:00;end_date=2021-12-16 23:59:59 ...\n",
      "Processing stock_code=600498.XSHG;start_date=2001-08-23 00:00:00;end_date=2021-12-16 23:59:59 ...\n",
      "Processing stock_code=600499.XSHG;start_date=2002-10-10 00:00:00;end_date=2021-12-16 23:59:59 ...\n",
      "Processing stock_code=600500.XSHG;start_date=2000-03-01 00:00:00;end_date=2021-12-16 23:59:59 ...\n",
      "Processing stock_code=600501.XSHG;start_date=2001-06-15 00:00:00;end_date=2021-12-16 23:59:59 ...\n",
      "Processing stock_code=600502.XSHG;start_date=2003-04-15 00:00:00;end_date=2021-12-16 23:59:59 ...\n",
      "Processing stock_code=600503.XSHG;start_date=2002-07-09 00:00:00;end_date=2021-12-16 23:59:59 ...\n",
      "Processing stock_code=600505.XSHG;start_date=2002-05-30 00:00:00;end_date=2021-12-16 23:59:59 ...\n",
      "Processing stock_code=600506.XSHG;start_date=2001-12-26 00:00:00;end_date=2021-12-16 23:59:59 ...\n",
      "Processing stock_code=600507.XSHG;start_date=2003-09-30 00:00:00;end_date=2021-12-16 23:59:59 ...\n",
      "Processing stock_code=600508.XSHG;start_date=2001-08-29 00:00:00;end_date=2021-12-16 23:59:59 ...\n",
      "Processing stock_code=600509.XSHG;start_date=2002-02-28 00:00:00;end_date=2021-12-16 23:59:59 ...\n",
      "Processing stock_code=600510.XSHG;start_date=2002-06-18 00:00:00;end_date=2021-12-16 23:59:59 ...\n",
      "Processing stock_code=600511.XSHG;start_date=2002-11-27 00:00:00;end_date=2021-12-16 23:59:59 ...\n",
      "Processing stock_code=600512.XSHG;start_date=2002-12-26 00:00:00;end_date=2021-12-16 23:59:59 ...\n",
      "Processing stock_code=600513.XSHG;start_date=2003-03-19 00:00:00;end_date=2021-12-16 23:59:59 ...\n",
      "Processing stock_code=600515.XSHG;start_date=2002-08-06 00:00:00;end_date=2021-12-16 23:59:59 ...\n",
      "Processing stock_code=600516.XSHG;start_date=2002-08-30 00:00:00;end_date=2021-12-16 23:59:59 ...\n",
      "Processing stock_code=600517.XSHG;start_date=2003-10-10 00:00:00;end_date=2021-12-16 23:59:59 ...\n",
      "Processing stock_code=600518.XSHG;start_date=2001-03-19 00:00:00;end_date=2021-12-16 23:59:59 ...\n",
      "Processing stock_code=600519.XSHG;start_date=2001-08-27 00:00:00;end_date=2021-12-16 23:59:59 ...\n",
      "Processing stock_code=600520.XSHG;start_date=2002-01-08 00:00:00;end_date=2021-12-16 23:59:59 ...\n",
      "Processing stock_code=600521.XSHG;start_date=2003-03-04 00:00:00;end_date=2021-12-16 23:59:59 ...\n",
      "Processing stock_code=600522.XSHG;start_date=2002-10-24 00:00:00;end_date=2021-12-16 23:59:59 ...\n",
      "Processing stock_code=600523.XSHG;start_date=2001-12-27 00:00:00;end_date=2021-12-16 23:59:59 ...\n",
      "Processing stock_code=600525.XSHG;start_date=2002-12-02 00:00:00;end_date=2021-12-16 23:59:59 ...\n",
      "Processing stock_code=600526.XSHG;start_date=2002-07-22 00:00:00;end_date=2021-12-16 23:59:59 ...\n",
      "Processing stock_code=600527.XSHG;start_date=2003-11-27 00:00:00;end_date=2021-12-16 23:59:59 ...\n",
      "Processing stock_code=600528.XSHG;start_date=2001-05-28 00:00:00;end_date=2021-12-16 23:59:59 ...\n",
      "Processing stock_code=600529.XSHG;start_date=2002-06-03 00:00:00;end_date=2021-12-16 23:59:59 ...\n",
      "Processing stock_code=600530.XSHG;start_date=2001-07-02 00:00:00;end_date=2021-12-16 23:59:59 ...\n",
      "Processing stock_code=600531.XSHG;start_date=2002-07-30 00:00:00;end_date=2021-12-16 23:59:59 ...\n",
      "Processing stock_code=600532.XSHG;start_date=2002-10-31 00:00:00;end_date=2021-12-16 23:59:59 ...\n",
      "Processing stock_code=600533.XSHG;start_date=2002-03-28 00:00:00;end_date=2021-12-16 23:59:59 ...\n",
      "Processing stock_code=600535.XSHG;start_date=2002-08-23 00:00:00;end_date=2021-12-16 23:59:59 ...\n",
      "Processing stock_code=600536.XSHG;start_date=2002-05-17 00:00:00;end_date=2021-12-16 23:59:59 ...\n",
      "Processing stock_code=600537.XSHG;start_date=2003-01-23 00:00:00;end_date=2021-12-16 23:59:59 ...\n",
      "Processing stock_code=600538.XSHG;start_date=2003-01-14 00:00:00;end_date=2021-12-16 23:59:59 ...\n",
      "Processing stock_code=600539.XSHG;start_date=2001-08-24 00:00:00;end_date=2021-12-16 23:59:59 ...\n",
      "Processing stock_code=600540.XSHG;start_date=2004-01-07 00:00:00;end_date=2021-12-16 23:59:59 ...\n",
      "Processing stock_code=600543.XSHG;start_date=2004-03-24 00:00:00;end_date=2021-12-16 23:59:59 ...\n",
      "Processing stock_code=600545.XSHG;start_date=2003-12-03 00:00:00;end_date=2021-12-16 23:59:59 ...\n",
      "Processing stock_code=600546.XSHG;start_date=2003-07-31 00:00:00;end_date=2021-12-16 23:59:59 ...\n",
      "Processing stock_code=600547.XSHG;start_date=2003-08-28 00:00:00;end_date=2021-12-16 23:59:59 ...\n",
      "Processing stock_code=600548.XSHG;start_date=2001-12-25 00:00:00;end_date=2021-12-16 23:59:59 ...\n",
      "Processing stock_code=600549.XSHG;start_date=2002-11-07 00:00:00;end_date=2021-12-16 23:59:59 ...\n",
      "Processing stock_code=600550.XSHG;start_date=2001-02-28 00:00:00;end_date=2021-12-16 23:59:59 ...\n",
      "Processing stock_code=600551.XSHG;start_date=2002-09-05 00:00:00;end_date=2021-12-16 23:59:59 ...\n",
      "Processing stock_code=600552.XSHG;start_date=2002-11-08 00:00:00;end_date=2021-12-16 23:59:59 ...\n",
      "Processing stock_code=600553.XSHG;start_date=2002-08-22 00:00:00;end_date=2021-12-16 23:59:59 ...\n",
      "Processing stock_code=600555.XSHG;start_date=2001-03-28 00:00:00;end_date=2021-12-16 23:59:59 ...\n",
      "Processing stock_code=600556.XSHG;start_date=2001-08-07 00:00:00;end_date=2021-12-16 23:59:59 ...\n",
      "Processing stock_code=600557.XSHG;start_date=2002-09-18 00:00:00;end_date=2021-12-16 23:59:59 ...\n",
      "Processing stock_code=600558.XSHG;start_date=2001-02-27 00:00:00;end_date=2021-12-16 23:59:59 ...\n",
      "Processing stock_code=600559.XSHG;start_date=2002-10-29 00:00:00;end_date=2021-12-16 23:59:59 ...\n",
      "Processing stock_code=600560.XSHG;start_date=2002-09-19 00:00:00;end_date=2021-12-16 23:59:59 ...\n",
      "Processing stock_code=600561.XSHG;start_date=2002-07-16 00:00:00;end_date=2021-12-16 23:59:59 ...\n",
      "Processing stock_code=600562.XSHG;start_date=2003-01-28 00:00:00;end_date=2021-12-16 23:59:59 ...\n",
      "Processing stock_code=600563.XSHG;start_date=2002-12-10 00:00:00;end_date=2021-12-16 23:59:59 ...\n",
      "Processing stock_code=600565.XSHG;start_date=2002-07-23 00:00:00;end_date=2021-12-16 23:59:59 ...\n",
      "Processing stock_code=600566.XSHG;start_date=2001-08-22 00:00:00;end_date=2021-12-16 23:59:59 ...\n",
      "Processing stock_code=600567.XSHG;start_date=2001-12-18 00:00:00;end_date=2021-12-16 23:59:59 ...\n",
      "Processing stock_code=600568.XSHG;start_date=2001-05-18 00:00:00;end_date=2021-12-16 23:59:59 ...\n",
      "Processing stock_code=600569.XSHG;start_date=2001-08-20 00:00:00;end_date=2021-12-16 23:59:59 ...\n",
      "Processing stock_code=600570.XSHG;start_date=2003-12-16 00:00:00;end_date=2021-12-16 23:59:59 ...\n",
      "Processing stock_code=600571.XSHG;start_date=2002-11-01 00:00:00;end_date=2021-12-16 23:59:59 ...\n",
      "Processing stock_code=600572.XSHG;start_date=2004-04-12 00:00:00;end_date=2021-12-16 23:59:59 ...\n"
     ]
    },
    {
     "ename": "Exception",
     "evalue": "您当天的查询条数超过了每日最大查询限制：100万条；付费可增加流量权限，详情请咨询管理员，微信号：JQData01",
     "output_type": "error",
     "traceback": [
      "\u001b[0;31m---------------------------------------------------------------------------\u001b[0m",
      "\u001b[0;31mException\u001b[0m                                 Traceback (most recent call last)",
      "\u001b[0;32m/var/folders/4m/r67d805s01s3wd38km_gpzwr0000gn/T/ipykernel_20060/1829158209.py\u001b[0m in \u001b[0;36m<module>\u001b[0;34m\u001b[0m\n\u001b[1;32m      5\u001b[0m     \u001b[0;32mif\u001b[0m \u001b[0mstart_date\u001b[0m \u001b[0;34m!=\u001b[0m \u001b[0;34m\"2021-12-16 00:00:00\"\u001b[0m\u001b[0;34m:\u001b[0m\u001b[0;34m\u001b[0m\u001b[0;34m\u001b[0m\u001b[0m\n\u001b[1;32m      6\u001b[0m         \u001b[0mprint\u001b[0m\u001b[0;34m(\u001b[0m\u001b[0;34m\"Processing stock_code=%s;start_date=%s;end_date=%s ...\"\u001b[0m \u001b[0;34m%\u001b[0m \u001b[0;34m(\u001b[0m\u001b[0mstock_code\u001b[0m\u001b[0;34m,\u001b[0m \u001b[0mstart_date\u001b[0m\u001b[0;34m,\u001b[0m \u001b[0mend_date\u001b[0m\u001b[0;34m)\u001b[0m\u001b[0;34m)\u001b[0m\u001b[0;34m\u001b[0m\u001b[0;34m\u001b[0m\u001b[0m\n\u001b[0;32m----> 7\u001b[0;31m         stock_daily_price = jqdata.get_daily_price(\n\u001b[0m\u001b[1;32m      8\u001b[0m             \u001b[0mstock_code\u001b[0m\u001b[0;34m\u001b[0m\u001b[0;34m\u001b[0m\u001b[0m\n\u001b[1;32m      9\u001b[0m             \u001b[0;34m,\u001b[0m\u001b[0mstart_date\u001b[0m \u001b[0;34m=\u001b[0m \u001b[0mstart_date\u001b[0m\u001b[0;34m\u001b[0m\u001b[0;34m\u001b[0m\u001b[0m\n",
      "\u001b[0;32m~/JOB/PROJECT/quantification_new/./utils/joinquant.py\u001b[0m in \u001b[0;36mget_daily_price\u001b[0;34m(self, stock_code, start_date, end_date)\u001b[0m\n\u001b[1;32m     20\u001b[0m \u001b[0;34m\u001b[0m\u001b[0m\n\u001b[1;32m     21\u001b[0m     \u001b[0;32mdef\u001b[0m \u001b[0mget_daily_price\u001b[0m\u001b[0;34m(\u001b[0m\u001b[0mself\u001b[0m\u001b[0;34m,\u001b[0m \u001b[0mstock_code\u001b[0m\u001b[0;34m,\u001b[0m \u001b[0mstart_date\u001b[0m\u001b[0;34m,\u001b[0m \u001b[0mend_date\u001b[0m\u001b[0;34m)\u001b[0m\u001b[0;34m:\u001b[0m\u001b[0;34m\u001b[0m\u001b[0;34m\u001b[0m\u001b[0m\n\u001b[0;32m---> 22\u001b[0;31m         daily_data = get_price(\n\u001b[0m\u001b[1;32m     23\u001b[0m             \u001b[0msecurity\u001b[0m \u001b[0;34m=\u001b[0m \u001b[0mstock_code\u001b[0m\u001b[0;34m\u001b[0m\u001b[0;34m\u001b[0m\u001b[0m\n\u001b[1;32m     24\u001b[0m             \u001b[0;34m,\u001b[0m\u001b[0mstart_date\u001b[0m \u001b[0;34m=\u001b[0m \u001b[0mstart_date\u001b[0m\u001b[0;34m\u001b[0m\u001b[0;34m\u001b[0m\u001b[0m\n",
      "\u001b[0;32m~/opt/anaconda3/envs/quant/lib/python3.8/site-packages/jqdatasdk/utils.py\u001b[0m in \u001b[0;36m_wrapper\u001b[0;34m(*args, **kwargs)\u001b[0m\n\u001b[1;32m    254\u001b[0m             \u001b[0mprint\u001b[0m\u001b[0;34m(\u001b[0m\u001b[0;34m\"run jqdatasdk.auth first\"\u001b[0m\u001b[0;34m)\u001b[0m\u001b[0;34m\u001b[0m\u001b[0;34m\u001b[0m\u001b[0m\n\u001b[1;32m    255\u001b[0m         \u001b[0;32melse\u001b[0m\u001b[0;34m:\u001b[0m\u001b[0;34m\u001b[0m\u001b[0;34m\u001b[0m\u001b[0m\n\u001b[0;32m--> 256\u001b[0;31m             \u001b[0;32mreturn\u001b[0m \u001b[0mfunc\u001b[0m\u001b[0;34m(\u001b[0m\u001b[0;34m*\u001b[0m\u001b[0margs\u001b[0m\u001b[0;34m,\u001b[0m \u001b[0;34m**\u001b[0m\u001b[0mkwargs\u001b[0m\u001b[0;34m)\u001b[0m\u001b[0;34m\u001b[0m\u001b[0;34m\u001b[0m\u001b[0m\n\u001b[0m\u001b[1;32m    257\u001b[0m     \u001b[0;32mreturn\u001b[0m \u001b[0m_wrapper\u001b[0m\u001b[0;34m\u001b[0m\u001b[0;34m\u001b[0m\u001b[0m\n\u001b[1;32m    258\u001b[0m \u001b[0;34m\u001b[0m\u001b[0m\n",
      "\u001b[0;32m~/opt/anaconda3/envs/quant/lib/python3.8/site-packages/jqdatasdk/api.py\u001b[0m in \u001b[0;36mget_price\u001b[0;34m(security, start_date, end_date, frequency, fields, skip_paused, fq, count, panel, fill_paused)\u001b[0m\n\u001b[1;32m     40\u001b[0m     \u001b[0;32mif\u001b[0m \u001b[0mcount\u001b[0m \u001b[0;32mand\u001b[0m \u001b[0mstart_date\u001b[0m\u001b[0;34m:\u001b[0m\u001b[0;34m\u001b[0m\u001b[0;34m\u001b[0m\u001b[0m\n\u001b[1;32m     41\u001b[0m         \u001b[0;32mraise\u001b[0m \u001b[0mParamsError\u001b[0m\u001b[0;34m(\u001b[0m\u001b[0;34m\"(start_date, count) only one param is required\"\u001b[0m\u001b[0;34m)\u001b[0m\u001b[0;34m\u001b[0m\u001b[0;34m\u001b[0m\u001b[0m\n\u001b[0;32m---> 42\u001b[0;31m     \u001b[0;32mreturn\u001b[0m \u001b[0mJQDataClient\u001b[0m\u001b[0;34m.\u001b[0m\u001b[0minstance\u001b[0m\u001b[0;34m(\u001b[0m\u001b[0;34m)\u001b[0m\u001b[0;34m.\u001b[0m\u001b[0mget_price\u001b[0m\u001b[0;34m(\u001b[0m\u001b[0;34m**\u001b[0m\u001b[0mlocals\u001b[0m\u001b[0;34m(\u001b[0m\u001b[0;34m)\u001b[0m\u001b[0;34m)\u001b[0m\u001b[0;34m\u001b[0m\u001b[0;34m\u001b[0m\u001b[0m\n\u001b[0m\u001b[1;32m     43\u001b[0m \u001b[0;34m\u001b[0m\u001b[0m\n\u001b[1;32m     44\u001b[0m \u001b[0;34m\u001b[0m\u001b[0m\n",
      "\u001b[0;32m~/opt/anaconda3/envs/quant/lib/python3.8/site-packages/jqdatasdk/client.py\u001b[0m in \u001b[0;36m<lambda>\u001b[0;34m(**kwargs)\u001b[0m\n\u001b[1;32m    281\u001b[0m \u001b[0;34m\u001b[0m\u001b[0m\n\u001b[1;32m    282\u001b[0m     \u001b[0;32mdef\u001b[0m \u001b[0m__getattr__\u001b[0m\u001b[0;34m(\u001b[0m\u001b[0mself\u001b[0m\u001b[0;34m,\u001b[0m \u001b[0mmethod\u001b[0m\u001b[0;34m)\u001b[0m\u001b[0;34m:\u001b[0m\u001b[0;34m\u001b[0m\u001b[0;34m\u001b[0m\u001b[0m\n\u001b[0;32m--> 283\u001b[0;31m         \u001b[0;32mreturn\u001b[0m \u001b[0;32mlambda\u001b[0m \u001b[0;34m**\u001b[0m\u001b[0mkwargs\u001b[0m\u001b[0;34m:\u001b[0m \u001b[0mself\u001b[0m\u001b[0;34m(\u001b[0m\u001b[0mmethod\u001b[0m\u001b[0;34m,\u001b[0m \u001b[0;34m**\u001b[0m\u001b[0mkwargs\u001b[0m\u001b[0;34m)\u001b[0m\u001b[0;34m\u001b[0m\u001b[0;34m\u001b[0m\u001b[0m\n\u001b[0m\u001b[1;32m    284\u001b[0m \u001b[0;34m\u001b[0m\u001b[0m\n\u001b[1;32m    285\u001b[0m     \u001b[0;32mdef\u001b[0m \u001b[0mget_data_api_url\u001b[0m\u001b[0;34m(\u001b[0m\u001b[0mself\u001b[0m\u001b[0;34m)\u001b[0m\u001b[0;34m:\u001b[0m\u001b[0;34m\u001b[0m\u001b[0;34m\u001b[0m\u001b[0m\n",
      "\u001b[0;32m~/opt/anaconda3/envs/quant/lib/python3.8/site-packages/jqdatasdk/client.py\u001b[0m in \u001b[0;36m__call__\u001b[0;34m(self, method, **kwargs)\u001b[0m\n\u001b[1;32m    276\u001b[0m         \u001b[0;32mif\u001b[0m \u001b[0mresult\u001b[0m \u001b[0;32mis\u001b[0m \u001b[0;32mNone\u001b[0m\u001b[0;34m:\u001b[0m\u001b[0;34m\u001b[0m\u001b[0;34m\u001b[0m\u001b[0m\n\u001b[1;32m    277\u001b[0m             \u001b[0;32mif\u001b[0m \u001b[0misinstance\u001b[0m\u001b[0;34m(\u001b[0m\u001b[0merr\u001b[0m\u001b[0;34m,\u001b[0m \u001b[0mException\u001b[0m\u001b[0;34m)\u001b[0m\u001b[0;34m:\u001b[0m\u001b[0;34m\u001b[0m\u001b[0;34m\u001b[0m\u001b[0m\n\u001b[0;32m--> 278\u001b[0;31m                 \u001b[0;32mraise\u001b[0m \u001b[0merr\u001b[0m\u001b[0;34m\u001b[0m\u001b[0;34m\u001b[0m\u001b[0m\n\u001b[0m\u001b[1;32m    279\u001b[0m \u001b[0;34m\u001b[0m\u001b[0m\n\u001b[1;32m    280\u001b[0m         \u001b[0;32mreturn\u001b[0m \u001b[0mself\u001b[0m\u001b[0;34m.\u001b[0m\u001b[0mconvert_message\u001b[0m\u001b[0;34m(\u001b[0m\u001b[0mresult\u001b[0m\u001b[0;34m)\u001b[0m\u001b[0;34m\u001b[0m\u001b[0;34m\u001b[0m\u001b[0m\n",
      "\u001b[0;31mException\u001b[0m: 您当天的查询条数超过了每日最大查询限制：100万条；付费可增加流量权限，详情请咨询管理员，微信号：JQData01"
     ]
    }
   ],
   "source": [
    "stock_daily_price = None\n",
    "for stock_code in stock_code_list:\n",
    "    start_date = string_date_convert(stock_start_date_dict[stock_code])\n",
    "    end_date = \"2021-12-16 23:59:59\"#get_current_time()\n",
    "    if start_date != \"2021-12-16 00:00:00\":\n",
    "        print(\"Processing stock_code=%s;start_date=%s;end_date=%s ...\" % (stock_code, start_date, end_date))\n",
    "        stock_daily_price = jqdata.get_daily_price(\n",
    "            stock_code\n",
    "            ,start_date = start_date\n",
    "            ,end_date = end_date\n",
    "        )\n",
    "        stock_daily_price['open'] = stock_daily_price['open'].fillna(-1.)\n",
    "        stock_daily_price['close'] = stock_daily_price['close'].fillna(-1.)\n",
    "        stock_daily_price['high'] = stock_daily_price['high'].fillna(-1.)\n",
    "        stock_daily_price['low'] = stock_daily_price['low'].fillna(-1.)\n",
    "        stock_daily_price['volume'] = stock_daily_price['volume'].fillna(-1.)\n",
    "        stock_daily_price['money'] = stock_daily_price['money'].fillna(-1.)\n",
    "        stock_daily_price_elements = mysql.get_insert_elements(stock_daily_price, stock_daily_price.columns)\n",
    "        mysql.insert_table(\n",
    "            table_name = \"stock_daily_price_tmp\"\n",
    "            ,attribute_list = stock_daily_price.columns\n",
    "            ,elements = stock_daily_price_elements\n",
    "        )\n",
    "        time.sleep(1)\n",
    "stock_daily_price"
   ]
  },
  {
   "cell_type": "code",
   "execution_count": 18,
   "metadata": {},
   "outputs": [
    {
     "ename": "Exception",
     "evalue": "您的1000万条体验期已结束，当日查询条数超过每日最大查询限制100万条；付费可升级到2亿条/天，详情请咨询管理员，微信号：JQData01",
     "output_type": "error",
     "traceback": [
      "\u001b[0;31m---------------------------------------------------------------------------\u001b[0m",
      "\u001b[0;31mException\u001b[0m                                 Traceback (most recent call last)",
      "\u001b[0;32m/var/folders/4m/r67d805s01s3wd38km_gpzwr0000gn/T/ipykernel_16148/1688999382.py\u001b[0m in \u001b[0;36m<module>\u001b[0;34m\u001b[0m\n\u001b[0;32m----> 1\u001b[0;31m stock_daily_price = jqdata.get_daily_price(\n\u001b[0m\u001b[1;32m      2\u001b[0m     \u001b[0;34m\"000668.XSHE\"\u001b[0m\u001b[0;34m\u001b[0m\u001b[0;34m\u001b[0m\u001b[0m\n\u001b[1;32m      3\u001b[0m     \u001b[0;34m,\u001b[0m\u001b[0mstart_date\u001b[0m \u001b[0;34m=\u001b[0m \u001b[0;34m\"1996-12-10\"\u001b[0m\u001b[0;34m\u001b[0m\u001b[0;34m\u001b[0m\u001b[0m\n\u001b[1;32m      4\u001b[0m     \u001b[0;34m,\u001b[0m\u001b[0mend_date\u001b[0m \u001b[0;34m=\u001b[0m \u001b[0;34m\"2021-12-16\"\u001b[0m\u001b[0;34m\u001b[0m\u001b[0;34m\u001b[0m\u001b[0m\n\u001b[1;32m      5\u001b[0m )\n",
      "\u001b[0;32m~/JOB/PROJECT/quantification_new/./utils/joinquant.py\u001b[0m in \u001b[0;36mget_daily_price\u001b[0;34m(self, stock_code, start_date, end_date)\u001b[0m\n\u001b[1;32m     19\u001b[0m \u001b[0;34m\u001b[0m\u001b[0m\n\u001b[1;32m     20\u001b[0m     \u001b[0;32mdef\u001b[0m \u001b[0mget_daily_price\u001b[0m\u001b[0;34m(\u001b[0m\u001b[0mself\u001b[0m\u001b[0;34m,\u001b[0m \u001b[0mstock_code\u001b[0m\u001b[0;34m,\u001b[0m \u001b[0mstart_date\u001b[0m\u001b[0;34m,\u001b[0m \u001b[0mend_date\u001b[0m\u001b[0;34m)\u001b[0m\u001b[0;34m:\u001b[0m\u001b[0;34m\u001b[0m\u001b[0;34m\u001b[0m\u001b[0m\n\u001b[0;32m---> 21\u001b[0;31m         daily_data = get_price(\n\u001b[0m\u001b[1;32m     22\u001b[0m             \u001b[0msecurity\u001b[0m \u001b[0;34m=\u001b[0m \u001b[0mstock_code\u001b[0m\u001b[0;34m\u001b[0m\u001b[0;34m\u001b[0m\u001b[0m\n\u001b[1;32m     23\u001b[0m             \u001b[0;34m,\u001b[0m\u001b[0mstart_date\u001b[0m \u001b[0;34m=\u001b[0m \u001b[0mstart_date\u001b[0m\u001b[0;34m\u001b[0m\u001b[0;34m\u001b[0m\u001b[0m\n",
      "\u001b[0;32m~/opt/anaconda3/envs/quant/lib/python3.8/site-packages/jqdatasdk/utils.py\u001b[0m in \u001b[0;36m_wrapper\u001b[0;34m(*args, **kwargs)\u001b[0m\n\u001b[1;32m    254\u001b[0m             \u001b[0mprint\u001b[0m\u001b[0;34m(\u001b[0m\u001b[0;34m\"run jqdatasdk.auth first\"\u001b[0m\u001b[0;34m)\u001b[0m\u001b[0;34m\u001b[0m\u001b[0;34m\u001b[0m\u001b[0m\n\u001b[1;32m    255\u001b[0m         \u001b[0;32melse\u001b[0m\u001b[0;34m:\u001b[0m\u001b[0;34m\u001b[0m\u001b[0;34m\u001b[0m\u001b[0m\n\u001b[0;32m--> 256\u001b[0;31m             \u001b[0;32mreturn\u001b[0m \u001b[0mfunc\u001b[0m\u001b[0;34m(\u001b[0m\u001b[0;34m*\u001b[0m\u001b[0margs\u001b[0m\u001b[0;34m,\u001b[0m \u001b[0;34m**\u001b[0m\u001b[0mkwargs\u001b[0m\u001b[0;34m)\u001b[0m\u001b[0;34m\u001b[0m\u001b[0;34m\u001b[0m\u001b[0m\n\u001b[0m\u001b[1;32m    257\u001b[0m     \u001b[0;32mreturn\u001b[0m \u001b[0m_wrapper\u001b[0m\u001b[0;34m\u001b[0m\u001b[0;34m\u001b[0m\u001b[0m\n\u001b[1;32m    258\u001b[0m \u001b[0;34m\u001b[0m\u001b[0m\n",
      "\u001b[0;32m~/opt/anaconda3/envs/quant/lib/python3.8/site-packages/jqdatasdk/api.py\u001b[0m in \u001b[0;36mget_price\u001b[0;34m(security, start_date, end_date, frequency, fields, skip_paused, fq, count, panel, fill_paused)\u001b[0m\n\u001b[1;32m     40\u001b[0m     \u001b[0;32mif\u001b[0m \u001b[0mcount\u001b[0m \u001b[0;32mand\u001b[0m \u001b[0mstart_date\u001b[0m\u001b[0;34m:\u001b[0m\u001b[0;34m\u001b[0m\u001b[0;34m\u001b[0m\u001b[0m\n\u001b[1;32m     41\u001b[0m         \u001b[0;32mraise\u001b[0m \u001b[0mParamsError\u001b[0m\u001b[0;34m(\u001b[0m\u001b[0;34m\"(start_date, count) only one param is required\"\u001b[0m\u001b[0;34m)\u001b[0m\u001b[0;34m\u001b[0m\u001b[0;34m\u001b[0m\u001b[0m\n\u001b[0;32m---> 42\u001b[0;31m     \u001b[0;32mreturn\u001b[0m \u001b[0mJQDataClient\u001b[0m\u001b[0;34m.\u001b[0m\u001b[0minstance\u001b[0m\u001b[0;34m(\u001b[0m\u001b[0;34m)\u001b[0m\u001b[0;34m.\u001b[0m\u001b[0mget_price\u001b[0m\u001b[0;34m(\u001b[0m\u001b[0;34m**\u001b[0m\u001b[0mlocals\u001b[0m\u001b[0;34m(\u001b[0m\u001b[0;34m)\u001b[0m\u001b[0;34m)\u001b[0m\u001b[0;34m\u001b[0m\u001b[0;34m\u001b[0m\u001b[0m\n\u001b[0m\u001b[1;32m     43\u001b[0m \u001b[0;34m\u001b[0m\u001b[0m\n\u001b[1;32m     44\u001b[0m \u001b[0;34m\u001b[0m\u001b[0m\n",
      "\u001b[0;32m~/opt/anaconda3/envs/quant/lib/python3.8/site-packages/jqdatasdk/client.py\u001b[0m in \u001b[0;36m<lambda>\u001b[0;34m(**kwargs)\u001b[0m\n\u001b[1;32m    281\u001b[0m \u001b[0;34m\u001b[0m\u001b[0m\n\u001b[1;32m    282\u001b[0m     \u001b[0;32mdef\u001b[0m \u001b[0m__getattr__\u001b[0m\u001b[0;34m(\u001b[0m\u001b[0mself\u001b[0m\u001b[0;34m,\u001b[0m \u001b[0mmethod\u001b[0m\u001b[0;34m)\u001b[0m\u001b[0;34m:\u001b[0m\u001b[0;34m\u001b[0m\u001b[0;34m\u001b[0m\u001b[0m\n\u001b[0;32m--> 283\u001b[0;31m         \u001b[0;32mreturn\u001b[0m \u001b[0;32mlambda\u001b[0m \u001b[0;34m**\u001b[0m\u001b[0mkwargs\u001b[0m\u001b[0;34m:\u001b[0m \u001b[0mself\u001b[0m\u001b[0;34m(\u001b[0m\u001b[0mmethod\u001b[0m\u001b[0;34m,\u001b[0m \u001b[0;34m**\u001b[0m\u001b[0mkwargs\u001b[0m\u001b[0;34m)\u001b[0m\u001b[0;34m\u001b[0m\u001b[0;34m\u001b[0m\u001b[0m\n\u001b[0m\u001b[1;32m    284\u001b[0m \u001b[0;34m\u001b[0m\u001b[0m\n\u001b[1;32m    285\u001b[0m     \u001b[0;32mdef\u001b[0m \u001b[0mget_data_api_url\u001b[0m\u001b[0;34m(\u001b[0m\u001b[0mself\u001b[0m\u001b[0;34m)\u001b[0m\u001b[0;34m:\u001b[0m\u001b[0;34m\u001b[0m\u001b[0;34m\u001b[0m\u001b[0m\n",
      "\u001b[0;32m~/opt/anaconda3/envs/quant/lib/python3.8/site-packages/jqdatasdk/client.py\u001b[0m in \u001b[0;36m__call__\u001b[0;34m(self, method, **kwargs)\u001b[0m\n\u001b[1;32m    276\u001b[0m         \u001b[0;32mif\u001b[0m \u001b[0mresult\u001b[0m \u001b[0;32mis\u001b[0m \u001b[0;32mNone\u001b[0m\u001b[0;34m:\u001b[0m\u001b[0;34m\u001b[0m\u001b[0;34m\u001b[0m\u001b[0m\n\u001b[1;32m    277\u001b[0m             \u001b[0;32mif\u001b[0m \u001b[0misinstance\u001b[0m\u001b[0;34m(\u001b[0m\u001b[0merr\u001b[0m\u001b[0;34m,\u001b[0m \u001b[0mException\u001b[0m\u001b[0;34m)\u001b[0m\u001b[0;34m:\u001b[0m\u001b[0;34m\u001b[0m\u001b[0;34m\u001b[0m\u001b[0m\n\u001b[0;32m--> 278\u001b[0;31m                 \u001b[0;32mraise\u001b[0m \u001b[0merr\u001b[0m\u001b[0;34m\u001b[0m\u001b[0;34m\u001b[0m\u001b[0m\n\u001b[0m\u001b[1;32m    279\u001b[0m \u001b[0;34m\u001b[0m\u001b[0m\n\u001b[1;32m    280\u001b[0m         \u001b[0;32mreturn\u001b[0m \u001b[0mself\u001b[0m\u001b[0;34m.\u001b[0m\u001b[0mconvert_message\u001b[0m\u001b[0;34m(\u001b[0m\u001b[0mresult\u001b[0m\u001b[0;34m)\u001b[0m\u001b[0;34m\u001b[0m\u001b[0;34m\u001b[0m\u001b[0m\n",
      "\u001b[0;31mException\u001b[0m: 您的1000万条体验期已结束，当日查询条数超过每日最大查询限制100万条；付费可升级到2亿条/天，详情请咨询管理员，微信号：JQData01"
     ]
    }
   ],
   "source": [
    "stock_daily_price = jqdata.get_daily_price(\n",
    "    \"000668.XSHE\"\n",
    "    ,start_date = \"1996-12-10\"\n",
    "    ,end_date = \"2021-12-16\"\n",
    ")\n",
    "stock_daily_price"
   ]
  },
  {
   "cell_type": "markdown",
   "metadata": {},
   "source": []
  }
 ],
 "metadata": {
  "kernelspec": {
   "display_name": "Python 3 (ipykernel)",
   "language": "python",
   "name": "python3"
  },
  "language_info": {
   "codemirror_mode": {
    "name": "ipython",
    "version": 3
   },
   "file_extension": ".py",
   "mimetype": "text/x-python",
   "name": "python",
   "nbconvert_exporter": "python",
   "pygments_lexer": "ipython3",
   "version": "3.8.12"
  },
  "orig_nbformat": 4
 },
 "nbformat": 4,
 "nbformat_minor": 2
}
