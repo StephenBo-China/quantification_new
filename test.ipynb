{
 "cells": [
  {
   "cell_type": "code",
   "execution_count": 1,
   "metadata": {},
   "outputs": [],
   "source": [
    "import tushare as ts\n",
    "from jqdatasdk import *\n",
    "import pymysql\n",
    "\n",
    "PROJECT_PATH = \"/Users/stephenbo/JOB/PROJECT/quantification_new/\"\n",
    "import sys, os\n",
    "sys.path.append(PROJECT_PATH + \"./utils\")\n",
    "import mysql as mq \n",
    "from tools import *\n",
    "import time"
   ]
  },
  {
   "cell_type": "markdown",
   "metadata": {},
   "source": [
    "### SQL CODE TESTING"
   ]
  },
  {
   "cell_type": "code",
   "execution_count": 2,
   "metadata": {},
   "outputs": [],
   "source": [
    "mysql = mq.MY_SQL()"
   ]
  },
  {
   "cell_type": "code",
   "execution_count": 3,
   "metadata": {},
   "outputs": [],
   "source": [
    "mysql.create_table(\n",
    "    table_name = \"test01\"\n",
    "    ,table_elements = {\n",
    "        \"stock_name\":       \"VARCHAR(1000)\"\n",
    "        ,\"stock_code\":      \"VARCHAR(1000)\"\n",
    "        ,\"open\":            \"FLOAT\"\n",
    "        ,\"close\":           \"FLOAT\"\n",
    "        ,\"high\":            \"FLOAT\"\n",
    "        ,\"volume\":          \"FLOAT\"\n",
    "        ,\"money\":           \"FLOAT\"\n",
    "        ,\"factor\":          \"FLOAT\"\n",
    "        ,\"high_limit\":      \"FLOAT\"\n",
    "        ,\"low_limit\":       \"FLOAT\"\n",
    "        ,\"avg\":             \"FLOAT\"\n",
    "        ,\"pre_close\":       \"FLOAT\"\n",
    "        ,\"paused\":          \"FLOAT\"\n",
    "        ,\"open_interest\":   \"FLOAT\"\n",
    "        ,\"ds\":              \"VARCHAR(1000)\"\n",
    "    }\n",
    ")"
   ]
  },
  {
   "cell_type": "code",
   "execution_count": 5,
   "metadata": {},
   "outputs": [],
   "source": [
    "mysql.create_table(\n",
    "    table_name = \"test03\"\n",
    "    ,table_elements = {\n",
    "        \"stock_name\":       \"VARCHAR(1000)\"\n",
    "        ,\"label\":           \"BIGINT\"\n",
    "        ,\"ds\":              \"VARCHAR(1000)\"\n",
    "    }\n",
    ")"
   ]
  },
  {
   "cell_type": "code",
   "execution_count": 5,
   "metadata": {},
   "outputs": [],
   "source": [
    "mysql.insert_table(\n",
    "    table_name = \"test01\"\n",
    "    ,attribute_list = [\n",
    "        \"stock_name\", \"stock_code\", \"open\", \"close\", \"high\", \"volume\", \"money\", \"factor\"\n",
    "        ,\"high_limit\", \"low_limit\", \"avg\", \"pre_close\", \"paused\", \"open_interest\", \"ds\"\n",
    "    ]\n",
    "    ,elements = [\n",
    "        (\"stock02\", \"00001\", \"0.0\", \"0.1\", \"0.2\", \"0.3\", \"0.4\", \"0.5\"\n",
    "        ,\"0.6\", \"0.7\", \"0.8\", \"0.9\", \"1.0\", \"1.1\", \"1.2\")\n",
    "        ,(\"stock03\", \"00001\", \"0.0\", \"0.1\", \"0.2\", \"0.3\", \"0.4\", \"0.5\"\n",
    "        ,\"0.6\", \"0.7\", \"0.8\", \"0.9\", \"1.0\", \"1.1\", \"1.2\")\n",
    "        ,(\"stock03\", \"00002\", \"0.0\", \"0.1\", \"0.2\", \"0.3\", \"0.4\", \"0.5\"\n",
    "        ,\"0.6\", \"0.7\", \"0.8\", \"0.9\", \"1.0\", \"1.1\", \"1.2\")\n",
    "    ]\n",
    ")"
   ]
  },
  {
   "cell_type": "code",
   "execution_count": 11,
   "metadata": {},
   "outputs": [
    {
     "name": "stdout",
     "output_type": "stream",
     "text": [
      "2\n"
     ]
    },
    {
     "data": {
      "text/plain": [
       "(('stock02', '00001'), ('stock03', '00002'))"
      ]
     },
     "execution_count": 11,
     "metadata": {},
     "output_type": "execute_result"
    }
   ],
   "source": [
    "data = mysql.select_table(\n",
    "    \"\"\"\n",
    "    SELECT  stock_name, stock_code\n",
    "    FROM    test01\n",
    "    \"\"\"\n",
    ")\n",
    "print(len(data))\n",
    "data"
   ]
  },
  {
   "cell_type": "code",
   "execution_count": 10,
   "metadata": {},
   "outputs": [],
   "source": [
    "mysql.delete_elements(\n",
    "    table_name = \"test01\"\n",
    "    ,clause_list = [\n",
    "        \"stock_name = 'stock03'\"\n",
    "        ,\"stock_code = '00001'\"\n",
    "    ]\n",
    ")"
   ]
  },
  {
   "cell_type": "code",
   "execution_count": null,
   "metadata": {},
   "outputs": [],
   "source": [
    "----------------------------------------------------------------------------------------------"
   ]
  },
  {
   "cell_type": "markdown",
   "metadata": {},
   "source": [
    "### JQDATA CODE TESTING"
   ]
  },
  {
   "cell_type": "code",
   "execution_count": 13,
   "metadata": {},
   "outputs": [],
   "source": [
    "PROJECT_PATH = \"/Users/stephenbo/JOB/PROJECT/quantification_new/\"\n",
    "import sys, os\n",
    "sys.path.append(PROJECT_PATH + \"./utils\")\n",
    "from joinquant import *\n",
    "import pandas as pd"
   ]
  },
  {
   "cell_type": "code",
   "execution_count": 17,
   "metadata": {},
   "outputs": [
    {
     "name": "stdout",
     "output_type": "stream",
     "text": [
      "auth success \n",
      "login account=18501501521 success.\n"
     ]
    }
   ],
   "source": [
    "jqdata = joinquant()"
   ]
  },
  {
   "cell_type": "code",
   "execution_count": 3,
   "metadata": {},
   "outputs": [
    {
     "data": {
      "text/html": [
       "<div>\n",
       "<style scoped>\n",
       "    .dataframe tbody tr th:only-of-type {\n",
       "        vertical-align: middle;\n",
       "    }\n",
       "\n",
       "    .dataframe tbody tr th {\n",
       "        vertical-align: top;\n",
       "    }\n",
       "\n",
       "    .dataframe thead th {\n",
       "        text-align: right;\n",
       "    }\n",
       "</style>\n",
       "<table border=\"1\" class=\"dataframe\">\n",
       "  <thead>\n",
       "    <tr style=\"text-align: right;\">\n",
       "      <th></th>\n",
       "      <th>display_name</th>\n",
       "      <th>name</th>\n",
       "      <th>start_date</th>\n",
       "      <th>end_date</th>\n",
       "      <th>type</th>\n",
       "    </tr>\n",
       "  </thead>\n",
       "  <tbody>\n",
       "    <tr>\n",
       "      <th>000001.XSHE</th>\n",
       "      <td>平安银行</td>\n",
       "      <td>PAYH</td>\n",
       "      <td>1991-04-03</td>\n",
       "      <td>2200-01-01</td>\n",
       "      <td>stock</td>\n",
       "    </tr>\n",
       "    <tr>\n",
       "      <th>000002.XSHE</th>\n",
       "      <td>万科A</td>\n",
       "      <td>WKA</td>\n",
       "      <td>1991-01-29</td>\n",
       "      <td>2200-01-01</td>\n",
       "      <td>stock</td>\n",
       "    </tr>\n",
       "    <tr>\n",
       "      <th>000004.XSHE</th>\n",
       "      <td>国华网安</td>\n",
       "      <td>GHWA</td>\n",
       "      <td>1990-12-01</td>\n",
       "      <td>2200-01-01</td>\n",
       "      <td>stock</td>\n",
       "    </tr>\n",
       "    <tr>\n",
       "      <th>000005.XSHE</th>\n",
       "      <td>ST星源</td>\n",
       "      <td>STXY</td>\n",
       "      <td>1990-12-10</td>\n",
       "      <td>2200-01-01</td>\n",
       "      <td>stock</td>\n",
       "    </tr>\n",
       "    <tr>\n",
       "      <th>000006.XSHE</th>\n",
       "      <td>深振业A</td>\n",
       "      <td>SZYA</td>\n",
       "      <td>1992-04-27</td>\n",
       "      <td>2200-01-01</td>\n",
       "      <td>stock</td>\n",
       "    </tr>\n",
       "    <tr>\n",
       "      <th>...</th>\n",
       "      <td>...</td>\n",
       "      <td>...</td>\n",
       "      <td>...</td>\n",
       "      <td>...</td>\n",
       "      <td>...</td>\n",
       "    </tr>\n",
       "    <tr>\n",
       "      <th>688799.XSHG</th>\n",
       "      <td>华纳药厂</td>\n",
       "      <td>HNYC</td>\n",
       "      <td>2021-07-13</td>\n",
       "      <td>2200-01-01</td>\n",
       "      <td>stock</td>\n",
       "    </tr>\n",
       "    <tr>\n",
       "      <th>688800.XSHG</th>\n",
       "      <td>瑞可达</td>\n",
       "      <td>RKD</td>\n",
       "      <td>2021-07-22</td>\n",
       "      <td>2200-01-01</td>\n",
       "      <td>stock</td>\n",
       "    </tr>\n",
       "    <tr>\n",
       "      <th>688819.XSHG</th>\n",
       "      <td>天能股份</td>\n",
       "      <td>TNGF</td>\n",
       "      <td>2021-01-18</td>\n",
       "      <td>2200-01-01</td>\n",
       "      <td>stock</td>\n",
       "    </tr>\n",
       "    <tr>\n",
       "      <th>688981.XSHG</th>\n",
       "      <td>中芯国际</td>\n",
       "      <td>ZXGJ</td>\n",
       "      <td>2020-07-16</td>\n",
       "      <td>2200-01-01</td>\n",
       "      <td>stock</td>\n",
       "    </tr>\n",
       "    <tr>\n",
       "      <th>689009.XSHG</th>\n",
       "      <td>九号公司</td>\n",
       "      <td>JHGS</td>\n",
       "      <td>2020-10-29</td>\n",
       "      <td>2200-01-01</td>\n",
       "      <td>stock</td>\n",
       "    </tr>\n",
       "  </tbody>\n",
       "</table>\n",
       "<p>4697 rows × 5 columns</p>\n",
       "</div>"
      ],
      "text/plain": [
       "            display_name  name start_date   end_date   type\n",
       "000001.XSHE         平安银行  PAYH 1991-04-03 2200-01-01  stock\n",
       "000002.XSHE          万科A   WKA 1991-01-29 2200-01-01  stock\n",
       "000004.XSHE         国华网安  GHWA 1990-12-01 2200-01-01  stock\n",
       "000005.XSHE         ST星源  STXY 1990-12-10 2200-01-01  stock\n",
       "000006.XSHE         深振业A  SZYA 1992-04-27 2200-01-01  stock\n",
       "...                  ...   ...        ...        ...    ...\n",
       "688799.XSHG         华纳药厂  HNYC 2021-07-13 2200-01-01  stock\n",
       "688800.XSHG          瑞可达   RKD 2021-07-22 2200-01-01  stock\n",
       "688819.XSHG         天能股份  TNGF 2021-01-18 2200-01-01  stock\n",
       "688981.XSHG         中芯国际  ZXGJ 2020-07-16 2200-01-01  stock\n",
       "689009.XSHG         九号公司  JHGS 2020-10-29 2200-01-01  stock\n",
       "\n",
       "[4697 rows x 5 columns]"
      ]
     },
     "execution_count": 3,
     "metadata": {},
     "output_type": "execute_result"
    }
   ],
   "source": [
    "stock_info = jqdata.get_all_stock_info()\n",
    "stock_info"
   ]
  },
  {
   "cell_type": "code",
   "execution_count": 6,
   "metadata": {},
   "outputs": [],
   "source": [
    "save_csv(\n",
    "    data = stock_info\n",
    "    ,file_path = \"/Users/stephenbo/JOB/PROJECT/quantification_new/data/stock_info.csv\"\n",
    "    # ,header = False\n",
    "    ,index = True\n",
    ")"
   ]
  },
  {
   "cell_type": "code",
   "execution_count": 10,
   "metadata": {},
   "outputs": [
    {
     "data": {
      "text/plain": [
       "1"
      ]
     },
     "execution_count": 10,
     "metadata": {},
     "output_type": "execute_result"
    }
   ],
   "source": [
    "mysql.create_table(\n",
    "    table_name = \"stock_info\"\n",
    "    ,table_elements = {\n",
    "        \"stock_name\":       \"VARCHAR(1000)\"\n",
    "        ,\"stock_code\":      \"VARCHAR(1000)\"\n",
    "        ,\"name\":            \"VARCHAR(1000)\"\n",
    "        ,\"start_date\":      \"VARCHAR(1000)\"\n",
    "        ,\"end_date\":        \"VARCHAR(1000)\"\n",
    "    }\n",
    ")"
   ]
  },
  {
   "cell_type": "code",
   "execution_count": 11,
   "metadata": {},
   "outputs": [
    {
     "data": {
      "text/plain": [
       "Index(['stock_code', 'stock_name', 'name', 'start_date', 'end_date', 'type'], dtype='object')"
      ]
     },
     "execution_count": 11,
     "metadata": {},
     "output_type": "execute_result"
    }
   ],
   "source": [
    "stock_info = pd.read_csv(\"/Users/stephenbo/JOB/PROJECT/quantification_new/data/stock_info.csv\")\n",
    "stock_info.columns = [\"stock_code\", \"stock_name\", \"name\", \"start_date\", \"end_date\", \"type\"]\n",
    "stock_info.columns"
   ]
  },
  {
   "cell_type": "code",
   "execution_count": 14,
   "metadata": {},
   "outputs": [
    {
     "data": {
      "text/plain": [
       "4697"
      ]
     },
     "execution_count": 14,
     "metadata": {},
     "output_type": "execute_result"
    }
   ],
   "source": [
    "len(stock_info)"
   ]
  },
  {
   "cell_type": "code",
   "execution_count": 13,
   "metadata": {},
   "outputs": [
    {
     "data": {
      "text/plain": [
       "{'stock_code': array(['000001.XSHE', '000002.XSHE', '000004.XSHE', ..., '688819.XSHG',\n",
       "        '688981.XSHG', '689009.XSHG'], dtype=object),\n",
       " 'stock_name': array(['平安银行', '万科A', '国华网安', ..., '天能股份', '中芯国际', '九号公司'], dtype=object),\n",
       " 'name': array(['PAYH', 'WKA', 'GHWA', ..., 'TNGF', 'ZXGJ', 'JHGS'], dtype=object),\n",
       " 'start_date': array(['1991-04-03', '1991-01-29', '1990-12-01', ..., '2021-01-18',\n",
       "        '2020-07-16', '2020-10-29'], dtype=object),\n",
       " 'end_date': array(['2200-01-01', '2200-01-01', '2200-01-01', ..., '2200-01-01',\n",
       "        '2200-01-01', '2200-01-01'], dtype=object),\n",
       " 'type': array(['stock', 'stock', 'stock', ..., 'stock', 'stock', 'stock'],\n",
       "       dtype=object)}"
      ]
     },
     "execution_count": 13,
     "metadata": {},
     "output_type": "execute_result"
    }
   ],
   "source": [
    "stock_info_dict = change_dataframe_to_dict(stock_info)\n",
    "stock_info_dict"
   ]
  },
  {
   "cell_type": "code",
   "execution_count": 18,
   "metadata": {},
   "outputs": [
    {
     "data": {
      "text/plain": [
       "[('000001.XSHE', '平安银行', 'PAYH', '1991-04-03', '2200-01-01'),\n",
       " ('000002.XSHE', '万科A', 'WKA', '1991-01-29', '2200-01-01'),\n",
       " ('000004.XSHE', '国华网安', 'GHWA', '1990-12-01', '2200-01-01'),\n",
       " ('000005.XSHE', 'ST星源', 'STXY', '1990-12-10', '2200-01-01')]"
      ]
     },
     "execution_count": 18,
     "metadata": {},
     "output_type": "execute_result"
    }
   ],
   "source": [
    "stock_info_insert_element = list()\n",
    "stock_info_insert_att_list = [\n",
    "    \"stock_code\", \"stock_name\", \"name\", \"start_date\", \"end_date\"\n",
    "]\n",
    "for i in range(len(stock_info)):\n",
    "    insert_element = list()\n",
    "    for att in stock_info_insert_att_list:\n",
    "        insert_element.append(stock_info_dict[att][i])\n",
    "    insert_element = tuple(insert_element)\n",
    "    stock_info_insert_element.append(insert_element)\n",
    "stock_info_insert_element[:4]"
   ]
  },
  {
   "cell_type": "code",
   "execution_count": 19,
   "metadata": {},
   "outputs": [],
   "source": [
    "mysql.insert_table(\n",
    "    table_name = \"stock_info\"\n",
    "    ,attribute_list = stock_info_insert_att_list\n",
    "    ,elements = stock_info_insert_element\n",
    ")"
   ]
  },
  {
   "cell_type": "code",
   "execution_count": 14,
   "metadata": {},
   "outputs": [
    {
     "data": {
      "text/plain": [
       "'2021-12-13 00:00:00'"
      ]
     },
     "execution_count": 14,
     "metadata": {},
     "output_type": "execute_result"
    }
   ],
   "source": [
    "import datetime \n",
    "(datetime.date.today() - datetime.timedelta(days=0)).strftime(\"%Y-%m-%d %H:%M:%S\")"
   ]
  },
  {
   "cell_type": "code",
   "execution_count": null,
   "metadata": {},
   "outputs": [],
   "source": [
    "----"
   ]
  },
  {
   "cell_type": "code",
   "execution_count": 6,
   "metadata": {},
   "outputs": [
    {
     "name": "stderr",
     "output_type": "stream",
     "text": [
      "/Users/stephenbo/opt/anaconda3/envs/quant/lib/python3.8/site-packages/jqdatasdk/api.py:34: PanelObsoleteWarning: 当前环境 pandas 版本高于 0.25，get_price 与 get_fundamentals_continuously 接口的 panel 参数将固定为 False（0.25 及以上版本的 pandas 不再支持 panel，如使用该数据结构和相关函数请注意修改）\n",
      "  warnings.warn(PandasChecker.VERSION_NOTICE_MESSAGE, PanelObsoleteWarning)\n"
     ]
    },
    {
     "data": {
      "text/html": [
       "<div>\n",
       "<style scoped>\n",
       "    .dataframe tbody tr th:only-of-type {\n",
       "        vertical-align: middle;\n",
       "    }\n",
       "\n",
       "    .dataframe tbody tr th {\n",
       "        vertical-align: top;\n",
       "    }\n",
       "\n",
       "    .dataframe thead th {\n",
       "        text-align: right;\n",
       "    }\n",
       "</style>\n",
       "<table border=\"1\" class=\"dataframe\">\n",
       "  <thead>\n",
       "    <tr style=\"text-align: right;\">\n",
       "      <th></th>\n",
       "      <th>ds</th>\n",
       "      <th>open</th>\n",
       "      <th>close</th>\n",
       "      <th>high</th>\n",
       "      <th>low</th>\n",
       "      <th>volume</th>\n",
       "      <th>money</th>\n",
       "      <th>stock_code</th>\n",
       "    </tr>\n",
       "  </thead>\n",
       "  <tbody>\n",
       "    <tr>\n",
       "      <th>0</th>\n",
       "      <td>2021-12-01</td>\n",
       "      <td>11.94</td>\n",
       "      <td>11.90</td>\n",
       "      <td>12.05</td>\n",
       "      <td>11.83</td>\n",
       "      <td>4338800.0</td>\n",
       "      <td>5.172936e+07</td>\n",
       "      <td>000026.XSHE</td>\n",
       "    </tr>\n",
       "    <tr>\n",
       "      <th>1</th>\n",
       "      <td>2021-12-02</td>\n",
       "      <td>11.90</td>\n",
       "      <td>11.69</td>\n",
       "      <td>11.97</td>\n",
       "      <td>11.68</td>\n",
       "      <td>3404789.0</td>\n",
       "      <td>4.017394e+07</td>\n",
       "      <td>000026.XSHE</td>\n",
       "    </tr>\n",
       "    <tr>\n",
       "      <th>2</th>\n",
       "      <td>2021-12-03</td>\n",
       "      <td>11.77</td>\n",
       "      <td>11.72</td>\n",
       "      <td>11.77</td>\n",
       "      <td>11.61</td>\n",
       "      <td>2887689.0</td>\n",
       "      <td>3.378292e+07</td>\n",
       "      <td>000026.XSHE</td>\n",
       "    </tr>\n",
       "    <tr>\n",
       "      <th>3</th>\n",
       "      <td>2021-12-06</td>\n",
       "      <td>11.73</td>\n",
       "      <td>11.41</td>\n",
       "      <td>11.82</td>\n",
       "      <td>11.35</td>\n",
       "      <td>6095049.0</td>\n",
       "      <td>7.018109e+07</td>\n",
       "      <td>000026.XSHE</td>\n",
       "    </tr>\n",
       "    <tr>\n",
       "      <th>4</th>\n",
       "      <td>2021-12-07</td>\n",
       "      <td>11.47</td>\n",
       "      <td>11.48</td>\n",
       "      <td>11.62</td>\n",
       "      <td>11.40</td>\n",
       "      <td>3935331.0</td>\n",
       "      <td>4.531575e+07</td>\n",
       "      <td>000026.XSHE</td>\n",
       "    </tr>\n",
       "    <tr>\n",
       "      <th>5</th>\n",
       "      <td>2021-12-08</td>\n",
       "      <td>11.51</td>\n",
       "      <td>11.64</td>\n",
       "      <td>11.67</td>\n",
       "      <td>11.41</td>\n",
       "      <td>3506841.0</td>\n",
       "      <td>4.053702e+07</td>\n",
       "      <td>000026.XSHE</td>\n",
       "    </tr>\n",
       "    <tr>\n",
       "      <th>6</th>\n",
       "      <td>2021-12-09</td>\n",
       "      <td>11.70</td>\n",
       "      <td>11.76</td>\n",
       "      <td>11.82</td>\n",
       "      <td>11.50</td>\n",
       "      <td>5057280.0</td>\n",
       "      <td>5.919869e+07</td>\n",
       "      <td>000026.XSHE</td>\n",
       "    </tr>\n",
       "    <tr>\n",
       "      <th>7</th>\n",
       "      <td>2021-12-10</td>\n",
       "      <td>11.72</td>\n",
       "      <td>12.19</td>\n",
       "      <td>12.65</td>\n",
       "      <td>11.66</td>\n",
       "      <td>14631066.0</td>\n",
       "      <td>1.788370e+08</td>\n",
       "      <td>000026.XSHE</td>\n",
       "    </tr>\n",
       "    <tr>\n",
       "      <th>8</th>\n",
       "      <td>2021-12-13</td>\n",
       "      <td>12.52</td>\n",
       "      <td>11.98</td>\n",
       "      <td>12.57</td>\n",
       "      <td>11.81</td>\n",
       "      <td>12285110.0</td>\n",
       "      <td>1.479680e+08</td>\n",
       "      <td>000026.XSHE</td>\n",
       "    </tr>\n",
       "    <tr>\n",
       "      <th>9</th>\n",
       "      <td>2021-12-14</td>\n",
       "      <td>11.96</td>\n",
       "      <td>11.77</td>\n",
       "      <td>11.96</td>\n",
       "      <td>11.75</td>\n",
       "      <td>8162162.0</td>\n",
       "      <td>9.622362e+07</td>\n",
       "      <td>000026.XSHE</td>\n",
       "    </tr>\n",
       "  </tbody>\n",
       "</table>\n",
       "</div>"
      ],
      "text/plain": [
       "           ds   open  close   high    low      volume         money  \\\n",
       "0  2021-12-01  11.94  11.90  12.05  11.83   4338800.0  5.172936e+07   \n",
       "1  2021-12-02  11.90  11.69  11.97  11.68   3404789.0  4.017394e+07   \n",
       "2  2021-12-03  11.77  11.72  11.77  11.61   2887689.0  3.378292e+07   \n",
       "3  2021-12-06  11.73  11.41  11.82  11.35   6095049.0  7.018109e+07   \n",
       "4  2021-12-07  11.47  11.48  11.62  11.40   3935331.0  4.531575e+07   \n",
       "5  2021-12-08  11.51  11.64  11.67  11.41   3506841.0  4.053702e+07   \n",
       "6  2021-12-09  11.70  11.76  11.82  11.50   5057280.0  5.919869e+07   \n",
       "7  2021-12-10  11.72  12.19  12.65  11.66  14631066.0  1.788370e+08   \n",
       "8  2021-12-13  12.52  11.98  12.57  11.81  12285110.0  1.479680e+08   \n",
       "9  2021-12-14  11.96  11.77  11.96  11.75   8162162.0  9.622362e+07   \n",
       "\n",
       "    stock_code  \n",
       "0  000026.XSHE  \n",
       "1  000026.XSHE  \n",
       "2  000026.XSHE  \n",
       "3  000026.XSHE  \n",
       "4  000026.XSHE  \n",
       "5  000026.XSHE  \n",
       "6  000026.XSHE  \n",
       "7  000026.XSHE  \n",
       "8  000026.XSHE  \n",
       "9  000026.XSHE  "
      ]
     },
     "execution_count": 6,
     "metadata": {},
     "output_type": "execute_result"
    }
   ],
   "source": [
    "stock_daily_price = jqdata.get_daily_price(\n",
    "    \"000026.XSHE\"\n",
    "    ,start_date = \"2021-12-01 00:00:00\"\n",
    "    ,end_date = \"2021-12-14 00:00:00\"\n",
    ")\n",
    "stock_daily_price"
   ]
  },
  {
   "cell_type": "code",
   "execution_count": 8,
   "metadata": {},
   "outputs": [
    {
     "data": {
      "text/plain": [
       "1"
      ]
     },
     "execution_count": 8,
     "metadata": {},
     "output_type": "execute_result"
    }
   ],
   "source": [
    "mysql.create_table(\n",
    "    table_name = \"test04\"#\"stock_daily_price\"\n",
    "    ,table_elements = {\n",
    "        \"stock_code\":       \"VARCHAR(1000)\"\n",
    "        ,\"ds\":              \"VARCHAR(1000)\"\n",
    "        ,\"open\":            \"FLOAT\"\n",
    "        ,\"close\":           \"FLOAT\"\n",
    "        ,\"high\":            \"FLOAT\"\n",
    "        ,\"low\":             \"FLOAT\"\n",
    "        ,\"volume\":          \"FLOAT\"\n",
    "        ,\"money\":           \"FLOAT\"\n",
    "    }\n",
    ")"
   ]
  },
  {
   "cell_type": "code",
   "execution_count": 12,
   "metadata": {},
   "outputs": [
    {
     "data": {
      "text/plain": [
       "Index(['ds', 'open', 'close', 'high', 'low', 'volume', 'money', 'stock_code'], dtype='object')"
      ]
     },
     "execution_count": 12,
     "metadata": {},
     "output_type": "execute_result"
    }
   ],
   "source": [
    "stock_daily_price_elements = mysql.get_insert_elements(stock_daily_price, stock_daily_price.columns)\n",
    "stock_daily_price_elements"
   ]
  },
  {
   "cell_type": "code",
   "execution_count": 13,
   "metadata": {},
   "outputs": [],
   "source": [
    "mysql.insert_table(\n",
    "    table_name = \"test04\"\n",
    "    ,attribute_list = stock_daily_price.columns\n",
    "    ,elements = stock_daily_price_elements\n",
    ")"
   ]
  },
  {
   "cell_type": "code",
   "execution_count": null,
   "metadata": {},
   "outputs": [],
   "source": [
    "----------------------------------------------------------------------------------------------"
   ]
  },
  {
   "cell_type": "markdown",
   "metadata": {},
   "source": [
    "### 测试天级别交易数据回溯"
   ]
  },
  {
   "cell_type": "code",
   "execution_count": 18,
   "metadata": {},
   "outputs": [
    {
     "name": "stdout",
     "output_type": "stream",
     "text": [
      "SELECT  t.stock_name AS stock_name \n",
      "        ,MAX(t.stock_code) AS stock_code \n",
      "        ,MAX(t.start_date) AS start_date \n",
      "        ,MAX(t.end_date) AS end_date\n",
      "FROM \n",
      "(\n",
      "    SELECT  t1.stock_name AS stock_name \n",
      "            ,t1.stock_code AS stock_code \n",
      "            ,CASE WHEN t2.stock_code IS NULL THEN t1.start_date ELSE t2.ds END AS start_date \n",
      "            ,t1.end_date AS end_date \n",
      "    FROM \n",
      "    (\n",
      "        SELECT  stock_name \n",
      "                ,MAX(stock_code) AS stock_code  \n",
      "                ,MAX(start_date) AS start_date  \n",
      "                ,MAX(end_date) AS end_date  \n",
      "        FROM    stock_info \n",
      "        GROUP BY stock_name \n",
      "    ) t1\n",
      "    LEFT OUTER JOIN \n",
      "    (\n",
      "        SELECT  stock_code \n",
      "                ,MAX(ds) AS ds \n",
      "        FROM    stock_daily_price_tmp \n",
      "        GROUP BY stock_code \n",
      "    ) t2 ON t1.stock_code = t2.stock_code \n",
      ") t\n",
      "GROUP BY t.stock_name\n",
      ";\n"
     ]
    }
   ],
   "source": [
    "select_sql = open(\"/Users/stephenbo/JOB/PROJECT/quantification_new/sql/get_stock_info.sql\").read()\n",
    "print(select_sql)"
   ]
  },
  {
   "cell_type": "code",
   "execution_count": 19,
   "metadata": {},
   "outputs": [],
   "source": [
    "stock_info = mysql.select_table(select_sql)"
   ]
  },
  {
   "cell_type": "code",
   "execution_count": 20,
   "metadata": {},
   "outputs": [],
   "source": [
    "mysql.create_table(\n",
    "    table_name = \"stock_daily_price_tmp\"#\"stock_daily_price\"\n",
    "    ,table_elements = {\n",
    "        \"stock_code\":       \"VARCHAR(1000)\"\n",
    "        ,\"ds\":              \"VARCHAR(1000)\"\n",
    "        ,\"open\":            \"FLOAT\"\n",
    "        ,\"close\":           \"FLOAT\"\n",
    "        ,\"high\":            \"FLOAT\"\n",
    "        ,\"low\":             \"FLOAT\"\n",
    "        ,\"volume\":          \"FLOAT\"\n",
    "        ,\"money\":           \"FLOAT\"\n",
    "    }\n",
    ")"
   ]
  },
  {
   "cell_type": "code",
   "execution_count": 21,
   "metadata": {},
   "outputs": [
    {
     "data": {
      "text/plain": [
       "(('平安银行', '000001.XSHE', '2021-12-16', '2200-01-01'),\n",
       " ('万科A', '000002.XSHE', '2021-12-16', '2200-01-01'),\n",
       " ('国华网安', '000004.XSHE', '2021-12-16', '2200-01-01'),\n",
       " ('ST星源', '000005.XSHE', '2021-12-16', '2200-01-01'))"
      ]
     },
     "execution_count": 21,
     "metadata": {},
     "output_type": "execute_result"
    }
   ],
   "source": [
    "stock_info[:4]"
   ]
  },
  {
   "cell_type": "code",
   "execution_count": 22,
   "metadata": {},
   "outputs": [],
   "source": [
    "stock_start_date_dict = dict()\n",
    "stock_end_date_dict = dict()\n",
    "stock_code_list = list()\n",
    "for element in stock_info:\n",
    "    stock_code = element[1]\n",
    "    start_date = element[2]\n",
    "    end_date = element[3]\n",
    "    stock_start_date_dict[stock_code] = start_date \n",
    "    stock_end_date_dict[stock_code] = end_date \n",
    "    stock_code_list.append(stock_code)"
   ]
  },
  {
   "cell_type": "code",
   "execution_count": 23,
   "metadata": {},
   "outputs": [
    {
     "name": "stdout",
     "output_type": "stream",
     "text": [
      "Processing stock_code=000671.XSHE;start_date=1996-12-18 00:00:00;end_date=2021-12-16 23:59:59 ...\n"
     ]
    },
    {
     "name": "stderr",
     "output_type": "stream",
     "text": [
      "/Users/stephenbo/opt/anaconda3/envs/quant/lib/python3.8/site-packages/jqdatasdk/api.py:34: PanelObsoleteWarning: 当前环境 pandas 版本高于 0.25，get_price 与 get_fundamentals_continuously 接口的 panel 参数将固定为 False（0.25 及以上版本的 pandas 不再支持 panel，如使用该数据结构和相关函数请注意修改）\n",
      "  warnings.warn(PandasChecker.VERSION_NOTICE_MESSAGE, PanelObsoleteWarning)\n"
     ]
    },
    {
     "name": "stdout",
     "output_type": "stream",
     "text": [
      "Processing stock_code=000672.XSHE;start_date=1996-12-18 00:00:00;end_date=2021-12-16 23:59:59 ...\n",
      "Processing stock_code=000673.XSHE;start_date=1997-01-24 00:00:00;end_date=2021-12-16 23:59:59 ...\n",
      "Processing stock_code=000676.XSHE;start_date=1996-12-24 00:00:00;end_date=2021-12-16 23:59:59 ...\n",
      "Processing stock_code=000677.XSHE;start_date=1996-12-26 00:00:00;end_date=2021-12-16 23:59:59 ...\n",
      "Processing stock_code=000678.XSHE;start_date=1997-01-06 00:00:00;end_date=2021-12-16 23:59:59 ...\n",
      "Processing stock_code=000679.XSHE;start_date=1997-01-24 00:00:00;end_date=2021-12-16 23:59:59 ...\n",
      "Processing stock_code=000680.XSHE;start_date=1997-01-22 00:00:00;end_date=2021-12-16 23:59:59 ...\n",
      "Processing stock_code=000681.XSHE;start_date=1997-01-21 00:00:00;end_date=2021-12-16 23:59:59 ...\n",
      "Processing stock_code=000682.XSHE;start_date=1997-01-21 00:00:00;end_date=2021-12-16 23:59:59 ...\n",
      "Processing stock_code=000683.XSHE;start_date=1997-01-31 00:00:00;end_date=2021-12-16 23:59:59 ...\n",
      "Processing stock_code=000685.XSHE;start_date=1997-01-23 00:00:00;end_date=2021-12-16 23:59:59 ...\n",
      "Processing stock_code=000686.XSHE;start_date=1997-02-27 00:00:00;end_date=2021-12-16 23:59:59 ...\n",
      "Processing stock_code=000687.XSHE;start_date=1997-02-21 00:00:00;end_date=2021-12-16 23:59:59 ...\n",
      "Processing stock_code=000688.XSHE;start_date=1997-01-20 00:00:00;end_date=2021-12-16 23:59:59 ...\n",
      "Processing stock_code=000690.XSHE;start_date=1997-01-28 00:00:00;end_date=2021-12-16 23:59:59 ...\n",
      "Processing stock_code=000691.XSHE;start_date=1997-02-28 00:00:00;end_date=2021-12-16 23:59:59 ...\n",
      "Processing stock_code=000692.XSHE;start_date=1997-02-27 00:00:00;end_date=2021-12-16 23:59:59 ...\n",
      "Processing stock_code=000693.XSHE;start_date=1997-02-26 00:00:00;end_date=2021-12-16 23:59:59 ...\n",
      "Processing stock_code=000695.XSHE;start_date=1997-02-18 00:00:00;end_date=2021-12-16 23:59:59 ...\n",
      "Processing stock_code=000697.XSHE;start_date=1997-03-25 00:00:00;end_date=2021-12-16 23:59:59 ...\n",
      "Processing stock_code=000698.XSHE;start_date=1997-02-20 00:00:00;end_date=2021-12-16 23:59:59 ...\n",
      "Processing stock_code=000699.XSHE;start_date=1997-03-10 00:00:00;end_date=2021-12-16 23:59:59 ...\n",
      "Processing stock_code=000700.XSHE;start_date=1997-02-28 00:00:00;end_date=2021-12-16 23:59:59 ...\n",
      "Processing stock_code=000701.XSHE;start_date=1997-02-26 00:00:00;end_date=2021-12-16 23:59:59 ...\n",
      "Processing stock_code=000702.XSHE;start_date=1997-03-18 00:00:00;end_date=2021-12-16 23:59:59 ...\n",
      "Processing stock_code=000703.XSHE;start_date=1997-03-28 00:00:00;end_date=2021-12-16 23:59:59 ...\n",
      "Processing stock_code=000705.XSHE;start_date=1997-04-10 00:00:00;end_date=2021-12-16 23:59:59 ...\n",
      "Processing stock_code=000707.XSHE;start_date=1997-04-15 00:00:00;end_date=2021-12-16 23:59:59 ...\n",
      "Processing stock_code=000708.XSHE;start_date=1997-03-26 00:00:00;end_date=2021-12-16 23:59:59 ...\n",
      "Processing stock_code=000709.XSHE;start_date=1997-04-16 00:00:00;end_date=2021-12-16 23:59:59 ...\n",
      "Processing stock_code=000710.XSHE;start_date=1997-04-22 00:00:00;end_date=2021-12-16 23:59:59 ...\n",
      "Processing stock_code=000711.XSHE;start_date=1997-04-11 00:00:00;end_date=2021-12-16 23:59:59 ...\n",
      "Processing stock_code=000712.XSHE;start_date=1997-04-15 00:00:00;end_date=2021-12-16 23:59:59 ...\n",
      "Processing stock_code=000713.XSHE;start_date=1997-04-22 00:00:00;end_date=2021-12-16 23:59:59 ...\n",
      "Processing stock_code=000715.XSHE;start_date=1997-05-08 00:00:00;end_date=2021-12-16 23:59:59 ...\n",
      "Processing stock_code=000716.XSHE;start_date=1997-04-18 00:00:00;end_date=2021-12-16 23:59:59 ...\n",
      "Processing stock_code=000717.XSHE;start_date=1997-05-08 00:00:00;end_date=2021-12-16 23:59:59 ...\n",
      "Processing stock_code=000718.XSHE;start_date=1997-04-08 00:00:00;end_date=2021-12-16 23:59:59 ...\n",
      "Processing stock_code=000719.XSHE;start_date=1997-03-31 00:00:00;end_date=2021-12-16 23:59:59 ...\n",
      "Processing stock_code=000720.XSHE;start_date=1997-05-09 00:00:00;end_date=2021-12-16 23:59:59 ...\n",
      "Processing stock_code=000721.XSHE;start_date=1997-04-30 00:00:00;end_date=2021-12-16 23:59:59 ...\n",
      "Processing stock_code=000722.XSHE;start_date=1997-05-22 00:00:00;end_date=2021-12-16 23:59:59 ...\n",
      "Processing stock_code=000723.XSHE;start_date=1997-05-15 00:00:00;end_date=2021-12-16 23:59:59 ...\n",
      "Processing stock_code=000725.XSHE;start_date=2001-01-12 00:00:00;end_date=2021-12-16 23:59:59 ...\n",
      "Processing stock_code=000726.XSHE;start_date=2000-12-25 00:00:00;end_date=2021-12-16 23:59:59 ...\n",
      "Processing stock_code=000727.XSHE;start_date=1997-05-20 00:00:00;end_date=2021-12-16 23:59:59 ...\n",
      "Processing stock_code=000728.XSHE;start_date=1997-06-16 00:00:00;end_date=2021-12-16 23:59:59 ...\n",
      "Processing stock_code=000729.XSHE;start_date=1997-07-16 00:00:00;end_date=2021-12-16 23:59:59 ...\n",
      "Processing stock_code=000731.XSHE;start_date=1997-06-17 00:00:00;end_date=2021-12-16 23:59:59 ...\n",
      "Processing stock_code=000732.XSHE;start_date=1997-07-04 00:00:00;end_date=2021-12-16 23:59:59 ...\n",
      "Processing stock_code=000733.XSHE;start_date=1997-07-03 00:00:00;end_date=2021-12-16 23:59:59 ...\n",
      "Processing stock_code=000735.XSHE;start_date=1997-06-11 00:00:00;end_date=2021-12-16 23:59:59 ...\n",
      "Processing stock_code=000736.XSHE;start_date=1997-04-25 00:00:00;end_date=2021-12-16 23:59:59 ...\n",
      "Processing stock_code=000737.XSHE;start_date=1997-04-28 00:00:00;end_date=2021-12-16 23:59:59 ...\n",
      "Processing stock_code=000738.XSHE;start_date=1997-06-26 00:00:00;end_date=2021-12-16 23:59:59 ...\n",
      "Processing stock_code=000739.XSHE;start_date=1997-05-09 00:00:00;end_date=2021-12-16 23:59:59 ...\n",
      "Processing stock_code=000748.XSHE;start_date=1997-07-04 00:00:00;end_date=2021-12-16 23:59:59 ...\n",
      "Processing stock_code=000750.XSHE;start_date=1997-07-09 00:00:00;end_date=2021-12-16 23:59:59 ...\n",
      "Processing stock_code=000751.XSHE;start_date=1997-06-26 00:00:00;end_date=2021-12-16 23:59:59 ...\n",
      "Processing stock_code=000752.XSHE;start_date=1997-06-25 00:00:00;end_date=2021-12-16 23:59:59 ...\n",
      "Processing stock_code=000753.XSHE;start_date=1997-06-26 00:00:00;end_date=2021-12-16 23:59:59 ...\n",
      "Processing stock_code=000755.XSHE;start_date=1997-06-27 00:00:00;end_date=2021-12-16 23:59:59 ...\n",
      "Processing stock_code=000756.XSHE;start_date=1997-08-06 00:00:00;end_date=2021-12-16 23:59:59 ...\n",
      "Processing stock_code=000757.XSHE;start_date=1997-06-27 00:00:00;end_date=2021-12-16 23:59:59 ...\n",
      "Processing stock_code=000758.XSHE;start_date=1997-04-16 00:00:00;end_date=2021-12-16 23:59:59 ...\n",
      "Processing stock_code=000759.XSHE;start_date=1997-05-19 00:00:00;end_date=2021-12-16 23:59:59 ...\n",
      "Processing stock_code=000760.XSHE;start_date=1997-06-27 00:00:00;end_date=2021-12-16 23:59:59 ...\n",
      "Processing stock_code=000761.XSHE;start_date=1998-01-15 00:00:00;end_date=2021-12-16 23:59:59 ...\n",
      "Processing stock_code=000762.XSHE;start_date=1997-07-08 00:00:00;end_date=2021-12-16 23:59:59 ...\n",
      "Processing stock_code=000763.XSHE;start_date=1997-09-15 00:00:00;end_date=2021-12-16 23:59:59 ...\n",
      "Processing stock_code=000765.XSHE;start_date=1997-11-03 00:00:00;end_date=2021-12-16 23:59:59 ...\n",
      "Processing stock_code=000766.XSHE;start_date=1997-04-30 00:00:00;end_date=2021-12-16 23:59:59 ...\n",
      "Processing stock_code=000767.XSHE;start_date=1997-06-09 00:00:00;end_date=2021-12-16 23:59:59 ...\n",
      "Processing stock_code=000768.XSHE;start_date=1997-06-26 00:00:00;end_date=2021-12-16 23:59:59 ...\n",
      "Processing stock_code=000769.XSHE;start_date=1997-05-30 00:00:00;end_date=2021-12-16 23:59:59 ...\n",
      "Processing stock_code=000776.XSHE;start_date=1997-06-11 00:00:00;end_date=2021-12-16 23:59:59 ...\n",
      "Processing stock_code=000777.XSHE;start_date=1997-07-10 00:00:00;end_date=2021-12-16 23:59:59 ...\n",
      "Processing stock_code=000778.XSHE;start_date=1997-06-06 00:00:00;end_date=2021-12-16 23:59:59 ...\n",
      "Processing stock_code=000779.XSHE;start_date=1997-05-28 00:00:00;end_date=2021-12-16 23:59:59 ...\n",
      "Processing stock_code=000780.XSHE;start_date=1997-06-06 00:00:00;end_date=2021-12-16 23:59:59 ...\n",
      "Processing stock_code=000782.XSHE;start_date=1997-06-19 00:00:00;end_date=2021-12-16 23:59:59 ...\n",
      "Processing stock_code=000783.XSHE;start_date=1997-07-31 00:00:00;end_date=2021-12-16 23:59:59 ...\n",
      "Processing stock_code=000785.XSHE;start_date=1997-07-11 00:00:00;end_date=2021-12-16 23:59:59 ...\n",
      "Processing stock_code=000786.XSHE;start_date=1997-06-06 00:00:00;end_date=2021-12-16 23:59:59 ...\n",
      "Processing stock_code=000787.XSHE;start_date=1997-06-26 00:00:00;end_date=2021-12-16 23:59:59 ...\n",
      "Processing stock_code=000788.XSHE;start_date=1997-06-16 00:00:00;end_date=2021-12-16 23:59:59 ...\n",
      "Processing stock_code=000789.XSHE;start_date=1997-09-23 00:00:00;end_date=2021-12-16 23:59:59 ...\n",
      "Processing stock_code=000790.XSHE;start_date=1998-03-27 00:00:00;end_date=2021-12-16 23:59:59 ...\n",
      "Processing stock_code=000791.XSHE;start_date=1997-10-14 00:00:00;end_date=2021-12-16 23:59:59 ...\n",
      "Processing stock_code=000792.XSHE;start_date=1997-09-04 00:00:00;end_date=2021-12-16 23:59:59 ...\n",
      "Processing stock_code=000793.XSHE;start_date=1997-07-29 00:00:00;end_date=2021-12-16 23:59:59 ...\n",
      "Processing stock_code=000795.XSHE;start_date=1997-08-08 00:00:00;end_date=2021-12-16 23:59:59 ...\n",
      "Processing stock_code=000796.XSHE;start_date=1997-07-03 00:00:00;end_date=2021-12-16 23:59:59 ...\n",
      "Processing stock_code=000797.XSHE;start_date=1997-07-15 00:00:00;end_date=2021-12-16 23:59:59 ...\n",
      "Processing stock_code=000798.XSHE;start_date=1998-02-12 00:00:00;end_date=2021-12-16 23:59:59 ...\n",
      "Processing stock_code=000799.XSHE;start_date=1997-07-18 00:00:00;end_date=2021-12-16 23:59:59 ...\n",
      "Processing stock_code=000800.XSHE;start_date=1997-06-18 00:00:00;end_date=2021-12-16 23:59:59 ...\n",
      "Processing stock_code=000801.XSHE;start_date=1998-05-06 00:00:00;end_date=2021-12-16 23:59:59 ...\n",
      "Processing stock_code=000802.XSHE;start_date=1998-01-08 00:00:00;end_date=2021-12-16 23:59:59 ...\n",
      "Processing stock_code=000803.XSHE;start_date=1998-03-03 00:00:00;end_date=2021-12-16 23:59:59 ...\n",
      "Processing stock_code=000805.XSHE;start_date=1998-05-29 00:00:00;end_date=2021-12-16 23:59:59 ...\n",
      "Processing stock_code=000806.XSHE;start_date=1998-04-16 00:00:00;end_date=2021-12-16 23:59:59 ...\n",
      "Processing stock_code=000807.XSHE;start_date=1998-04-08 00:00:00;end_date=2021-12-16 23:59:59 ...\n",
      "Processing stock_code=000809.XSHE;start_date=1998-06-16 00:00:00;end_date=2021-12-16 23:59:59 ...\n",
      "Processing stock_code=000810.XSHE;start_date=1998-06-02 00:00:00;end_date=2021-12-16 23:59:59 ...\n",
      "Processing stock_code=000811.XSHE;start_date=1998-05-28 00:00:00;end_date=2021-12-16 23:59:59 ...\n",
      "Processing stock_code=000812.XSHE;start_date=1998-06-23 00:00:00;end_date=2021-12-16 23:59:59 ...\n",
      "Processing stock_code=000813.XSHE;start_date=1998-05-19 00:00:00;end_date=2021-12-16 23:59:59 ...\n",
      "Processing stock_code=000815.XSHE;start_date=1998-06-09 00:00:00;end_date=2021-12-16 23:59:59 ...\n",
      "Processing stock_code=000816.XSHE;start_date=1997-08-18 00:00:00;end_date=2021-12-16 23:59:59 ...\n",
      "Processing stock_code=000817.XSHE;start_date=1998-05-28 00:00:00;end_date=2021-12-16 23:59:59 ...\n",
      "Processing stock_code=000818.XSHE;start_date=1997-10-17 00:00:00;end_date=2021-12-16 23:59:59 ...\n",
      "Processing stock_code=000819.XSHE;start_date=1997-06-25 00:00:00;end_date=2021-12-16 23:59:59 ...\n",
      "Processing stock_code=000820.XSHE;start_date=1998-06-30 00:00:00;end_date=2021-12-16 23:59:59 ...\n",
      "Processing stock_code=000821.XSHE;start_date=1998-06-26 00:00:00;end_date=2021-12-16 23:59:59 ...\n",
      "Processing stock_code=000822.XSHE;start_date=1998-07-03 00:00:00;end_date=2021-12-16 23:59:59 ...\n",
      "Processing stock_code=000823.XSHE;start_date=1997-10-08 00:00:00;end_date=2021-12-16 23:59:59 ...\n",
      "Processing stock_code=000825.XSHE;start_date=1998-10-21 00:00:00;end_date=2021-12-16 23:59:59 ...\n",
      "Processing stock_code=000826.XSHE;start_date=1998-02-25 00:00:00;end_date=2021-12-16 23:59:59 ...\n",
      "Processing stock_code=000827.XSHE;start_date=1998-10-16 00:00:00;end_date=2021-12-16 23:59:59 ...\n",
      "Processing stock_code=000828.XSHE;start_date=1997-06-17 00:00:00;end_date=2021-12-16 23:59:59 ...\n",
      "Processing stock_code=000829.XSHE;start_date=1997-12-02 00:00:00;end_date=2021-12-16 23:59:59 ...\n",
      "Processing stock_code=000830.XSHE;start_date=1998-08-07 00:00:00;end_date=2021-12-16 23:59:59 ...\n",
      "Processing stock_code=000831.XSHE;start_date=1998-09-11 00:00:00;end_date=2021-12-16 23:59:59 ...\n",
      "Processing stock_code=000832.XSHE;start_date=1998-08-25 00:00:00;end_date=2021-12-16 23:59:59 ...\n",
      "Processing stock_code=000833.XSHE;start_date=1998-11-11 00:00:00;end_date=2021-12-16 23:59:59 ...\n",
      "Processing stock_code=000835.XSHE;start_date=1999-06-25 00:00:00;end_date=2021-12-16 23:59:59 ...\n",
      "Processing stock_code=000836.XSHE;start_date=1997-09-29 00:00:00;end_date=2021-12-16 23:59:59 ...\n",
      "Processing stock_code=000837.XSHE;start_date=1998-09-28 00:00:00;end_date=2021-12-16 23:59:59 ...\n",
      "Processing stock_code=000838.XSHE;start_date=1997-06-26 00:00:00;end_date=2021-12-16 23:59:59 ...\n",
      "Processing stock_code=000839.XSHE;start_date=1997-10-31 00:00:00;end_date=2021-12-16 23:59:59 ...\n",
      "Processing stock_code=000848.XSHE;start_date=1997-11-13 00:00:00;end_date=2021-12-16 23:59:59 ...\n",
      "Processing stock_code=000850.XSHE;start_date=1998-10-07 00:00:00;end_date=2021-12-16 23:59:59 ...\n",
      "Processing stock_code=000851.XSHE;start_date=1998-06-09 00:00:00;end_date=2021-12-16 23:59:59 ...\n",
      "Processing stock_code=000852.XSHE;start_date=1998-11-26 00:00:00;end_date=2021-12-16 23:59:59 ...\n",
      "Processing stock_code=000856.XSHE;start_date=1998-08-13 00:00:00;end_date=2021-12-16 23:59:59 ...\n",
      "Processing stock_code=000858.XSHE;start_date=1998-04-27 00:00:00;end_date=2021-12-16 23:59:59 ...\n",
      "Processing stock_code=000859.XSHE;start_date=1998-11-19 00:00:00;end_date=2021-12-16 23:59:59 ...\n",
      "Processing stock_code=000860.XSHE;start_date=1998-11-04 00:00:00;end_date=2021-12-16 23:59:59 ...\n",
      "Processing stock_code=000861.XSHE;start_date=1998-10-28 00:00:00;end_date=2021-12-16 23:59:59 ...\n",
      "Processing stock_code=000862.XSHE;start_date=1998-09-15 00:00:00;end_date=2021-12-16 23:59:59 ...\n",
      "Processing stock_code=000863.XSHE;start_date=1997-09-25 00:00:00;end_date=2021-12-16 23:59:59 ...\n",
      "Processing stock_code=000866.XSHE;start_date=1998-05-12 00:00:00;end_date=2021-12-16 23:59:59 ...\n",
      "Processing stock_code=000868.XSHE;start_date=1997-07-25 00:00:00;end_date=2021-12-16 23:59:59 ...\n",
      "Processing stock_code=000869.XSHE;start_date=2000-10-26 00:00:00;end_date=2021-12-16 23:59:59 ...\n",
      "Processing stock_code=000875.XSHE;start_date=2002-09-26 00:00:00;end_date=2021-12-16 23:59:59 ...\n",
      "Processing stock_code=000876.XSHE;start_date=1998-03-11 00:00:00;end_date=2021-12-16 23:59:59 ...\n",
      "Processing stock_code=000877.XSHE;start_date=1999-01-07 00:00:00;end_date=2021-12-16 23:59:59 ...\n",
      "Processing stock_code=000878.XSHE;start_date=1998-06-02 00:00:00;end_date=2021-12-16 23:59:59 ...\n",
      "Processing stock_code=000880.XSHE;start_date=1998-04-02 00:00:00;end_date=2021-12-16 23:59:59 ...\n",
      "Processing stock_code=000881.XSHE;start_date=1998-09-02 00:00:00;end_date=2021-12-16 23:59:59 ...\n",
      "Processing stock_code=000882.XSHE;start_date=1998-06-16 00:00:00;end_date=2021-12-16 23:59:59 ...\n",
      "Processing stock_code=000883.XSHE;start_date=1998-05-19 00:00:00;end_date=2021-12-16 23:59:59 ...\n",
      "Processing stock_code=000885.XSHE;start_date=1999-03-19 00:00:00;end_date=2021-12-16 23:59:59 ...\n",
      "Processing stock_code=000886.XSHE;start_date=1998-01-23 00:00:00;end_date=2021-12-16 23:59:59 ...\n",
      "Processing stock_code=000887.XSHE;start_date=1998-12-03 00:00:00;end_date=2021-12-16 23:59:59 ...\n",
      "Processing stock_code=000888.XSHE;start_date=1997-10-21 00:00:00;end_date=2021-12-16 23:59:59 ...\n",
      "Processing stock_code=000889.XSHE;start_date=1997-12-18 00:00:00;end_date=2021-12-16 23:59:59 ...\n",
      "Processing stock_code=000890.XSHE;start_date=1999-01-19 00:00:00;end_date=2021-12-16 23:59:59 ...\n",
      "Processing stock_code=000892.XSHE;start_date=1999-01-15 00:00:00;end_date=2021-12-16 23:59:59 ...\n",
      "Processing stock_code=000893.XSHE;start_date=1998-12-24 00:00:00;end_date=2021-12-16 23:59:59 ...\n",
      "Processing stock_code=000895.XSHE;start_date=1998-12-10 00:00:00;end_date=2021-12-16 23:59:59 ...\n",
      "Processing stock_code=000897.XSHE;start_date=1999-04-22 00:00:00;end_date=2021-12-16 23:59:59 ...\n",
      "Processing stock_code=000898.XSHE;start_date=1997-12-25 00:00:00;end_date=2021-12-16 23:59:59 ...\n",
      "Processing stock_code=000899.XSHE;start_date=1997-11-26 00:00:00;end_date=2021-12-16 23:59:59 ...\n",
      "Processing stock_code=000900.XSHE;start_date=1999-01-28 00:00:00;end_date=2021-12-16 23:59:59 ...\n",
      "Processing stock_code=000901.XSHE;start_date=1999-04-01 00:00:00;end_date=2021-12-16 23:59:59 ...\n",
      "Processing stock_code=000902.XSHE;start_date=1999-04-08 00:00:00;end_date=2021-12-16 23:59:59 ...\n",
      "Processing stock_code=000903.XSHE;start_date=1999-04-15 00:00:00;end_date=2021-12-16 23:59:59 ...\n",
      "Processing stock_code=000905.XSHE;start_date=1999-04-29 00:00:00;end_date=2021-12-16 23:59:59 ...\n",
      "Processing stock_code=000906.XSHE;start_date=1999-07-07 00:00:00;end_date=2021-12-16 23:59:59 ...\n",
      "Processing stock_code=000908.XSHE;start_date=1999-02-03 00:00:00;end_date=2021-12-16 23:59:59 ...\n",
      "Processing stock_code=000909.XSHE;start_date=1999-05-07 00:00:00;end_date=2021-12-16 23:59:59 ...\n",
      "Processing stock_code=000910.XSHE;start_date=1999-06-30 00:00:00;end_date=2021-12-16 23:59:59 ...\n",
      "Processing stock_code=000911.XSHE;start_date=1999-05-27 00:00:00;end_date=2021-12-16 23:59:59 ...\n",
      "Processing stock_code=000912.XSHE;start_date=1999-06-03 00:00:00;end_date=2021-12-16 23:59:59 ...\n",
      "Processing stock_code=000913.XSHE;start_date=1999-05-14 00:00:00;end_date=2021-12-16 23:59:59 ...\n",
      "Processing stock_code=000915.XSHE;start_date=1999-06-09 00:00:00;end_date=2021-12-16 23:59:59 ...\n",
      "Processing stock_code=000916.XSHE;start_date=1999-09-27 00:00:00;end_date=2021-12-16 23:59:59 ...\n",
      "Processing stock_code=000917.XSHE;start_date=1999-03-25 00:00:00;end_date=2021-12-16 23:59:59 ...\n",
      "Processing stock_code=000918.XSHE;start_date=1999-07-20 00:00:00;end_date=2021-12-16 23:59:59 ...\n",
      "Processing stock_code=000919.XSHE;start_date=1999-11-18 00:00:00;end_date=2021-12-16 23:59:59 ...\n",
      "Processing stock_code=000920.XSHE;start_date=1999-06-16 00:00:00;end_date=2021-12-16 23:59:59 ...\n",
      "Processing stock_code=000921.XSHE;start_date=1999-07-13 00:00:00;end_date=2021-12-16 23:59:59 ...\n",
      "Processing stock_code=000922.XSHE;start_date=1999-06-18 00:00:00;end_date=2021-12-16 23:59:59 ...\n",
      "Processing stock_code=000923.XSHE;start_date=1999-07-14 00:00:00;end_date=2021-12-16 23:59:59 ...\n",
      "Processing stock_code=000925.XSHE;start_date=1999-06-11 00:00:00;end_date=2021-12-16 23:59:59 ...\n",
      "Processing stock_code=000926.XSHE;start_date=1999-06-18 00:00:00;end_date=2021-12-16 23:59:59 ...\n",
      "Processing stock_code=000927.XSHE;start_date=1999-07-27 00:00:00;end_date=2021-12-16 23:59:59 ...\n",
      "Processing stock_code=000928.XSHE;start_date=1999-03-12 00:00:00;end_date=2021-12-16 23:59:59 ...\n",
      "Processing stock_code=000929.XSHE;start_date=1999-06-23 00:00:00;end_date=2021-12-16 23:59:59 ...\n",
      "Processing stock_code=000930.XSHE;start_date=1999-07-12 00:00:00;end_date=2021-12-16 23:59:59 ...\n",
      "Processing stock_code=000931.XSHE;start_date=1999-07-12 00:00:00;end_date=2021-12-16 23:59:59 ...\n",
      "Processing stock_code=000932.XSHE;start_date=1999-08-03 00:00:00;end_date=2021-12-16 23:59:59 ...\n",
      "Processing stock_code=000933.XSHE;start_date=1999-08-31 00:00:00;end_date=2021-12-16 23:59:59 ...\n",
      "Processing stock_code=000935.XSHE;start_date=1999-08-24 00:00:00;end_date=2021-12-16 23:59:59 ...\n",
      "Processing stock_code=000936.XSHE;start_date=1999-08-10 00:00:00;end_date=2021-12-16 23:59:59 ...\n",
      "Processing stock_code=000937.XSHE;start_date=1999-09-09 00:00:00;end_date=2021-12-16 23:59:59 ...\n",
      "Processing stock_code=000938.XSHE;start_date=1999-11-04 00:00:00;end_date=2021-12-16 23:59:59 ...\n",
      "Processing stock_code=000939.XSHE;start_date=1999-09-23 00:00:00;end_date=2021-12-16 23:59:59 ...\n",
      "Processing stock_code=000948.XSHE;start_date=1999-10-14 00:00:00;end_date=2021-12-16 23:59:59 ...\n",
      "Processing stock_code=000949.XSHE;start_date=1999-10-21 00:00:00;end_date=2021-12-16 23:59:59 ...\n",
      "Processing stock_code=000950.XSHE;start_date=1999-09-16 00:00:00;end_date=2021-12-16 23:59:59 ...\n",
      "Processing stock_code=000951.XSHE;start_date=1999-11-25 00:00:00;end_date=2021-12-16 23:59:59 ...\n",
      "Processing stock_code=000952.XSHE;start_date=1999-11-12 00:00:00;end_date=2021-12-16 23:59:59 ...\n",
      "Processing stock_code=000953.XSHE;start_date=1999-12-02 00:00:00;end_date=2021-12-16 23:59:59 ...\n",
      "Processing stock_code=000955.XSHE;start_date=1999-12-09 00:00:00;end_date=2021-12-16 23:59:59 ...\n",
      "Processing stock_code=000956.XSHE;start_date=1999-11-10 00:00:00;end_date=2021-12-16 23:59:59 ...\n",
      "Processing stock_code=000957.XSHE;start_date=2000-01-13 00:00:00;end_date=2021-12-16 23:59:59 ...\n",
      "Processing stock_code=000958.XSHE;start_date=1999-12-23 00:00:00;end_date=2021-12-16 23:59:59 ...\n",
      "Processing stock_code=000959.XSHE;start_date=1999-12-16 00:00:00;end_date=2021-12-16 23:59:59 ...\n",
      "Processing stock_code=000960.XSHE;start_date=2000-02-21 00:00:00;end_date=2021-12-16 23:59:59 ...\n",
      "Processing stock_code=000961.XSHE;start_date=2000-03-01 00:00:00;end_date=2021-12-16 23:59:59 ...\n",
      "Processing stock_code=000962.XSHE;start_date=2000-01-20 00:00:00;end_date=2021-12-16 23:59:59 ...\n",
      "Processing stock_code=000963.XSHE;start_date=2000-01-27 00:00:00;end_date=2021-12-16 23:59:59 ...\n",
      "Processing stock_code=000965.XSHE;start_date=2000-04-06 00:00:00;end_date=2021-12-16 23:59:59 ...\n",
      "Processing stock_code=000966.XSHE;start_date=2000-03-16 00:00:00;end_date=2021-12-16 23:59:59 ...\n",
      "Processing stock_code=000967.XSHE;start_date=2000-03-30 00:00:00;end_date=2021-12-16 23:59:59 ...\n",
      "Processing stock_code=000968.XSHE;start_date=2000-06-22 00:00:00;end_date=2021-12-16 23:59:59 ...\n",
      "Processing stock_code=000969.XSHE;start_date=2000-05-29 00:00:00;end_date=2021-12-16 23:59:59 ...\n",
      "Processing stock_code=000970.XSHE;start_date=2000-04-20 00:00:00;end_date=2021-12-16 23:59:59 ...\n",
      "Processing stock_code=000971.XSHE;start_date=2000-04-27 00:00:00;end_date=2021-12-16 23:59:59 ...\n",
      "Processing stock_code=000972.XSHE;start_date=2000-09-26 00:00:00;end_date=2021-12-16 23:59:59 ...\n",
      "Processing stock_code=000973.XSHE;start_date=2000-05-25 00:00:00;end_date=2021-12-16 23:59:59 ...\n",
      "Processing stock_code=000975.XSHE;start_date=2000-06-08 00:00:00;end_date=2021-12-16 23:59:59 ...\n",
      "Processing stock_code=000976.XSHE;start_date=2000-06-01 00:00:00;end_date=2021-12-16 23:59:59 ...\n",
      "Processing stock_code=000977.XSHE;start_date=2000-06-08 00:00:00;end_date=2021-12-16 23:59:59 ...\n",
      "Processing stock_code=000978.XSHE;start_date=2000-05-18 00:00:00;end_date=2021-12-16 23:59:59 ...\n",
      "Processing stock_code=000979.XSHE;start_date=2000-06-16 00:00:00;end_date=2021-12-16 23:59:59 ...\n",
      "Processing stock_code=000980.XSHE;start_date=2000-06-16 00:00:00;end_date=2021-12-16 23:59:59 ...\n",
      "Processing stock_code=000981.XSHE;start_date=2000-06-22 00:00:00;end_date=2021-12-16 23:59:59 ...\n",
      "Processing stock_code=000982.XSHE;start_date=2000-07-06 00:00:00;end_date=2021-12-16 23:59:59 ...\n",
      "Processing stock_code=000983.XSHE;start_date=2000-07-26 00:00:00;end_date=2021-12-16 23:59:59 ...\n",
      "Processing stock_code=000985.XSHE;start_date=2000-07-26 00:00:00;end_date=2021-12-16 23:59:59 ...\n",
      "Processing stock_code=000987.XSHE;start_date=2000-07-18 00:00:00;end_date=2021-12-16 23:59:59 ...\n",
      "Processing stock_code=000988.XSHE;start_date=2000-06-08 00:00:00;end_date=2021-12-16 23:59:59 ...\n",
      "Processing stock_code=000989.XSHE;start_date=2000-06-28 00:00:00;end_date=2021-12-16 23:59:59 ...\n",
      "Processing stock_code=000990.XSHE;start_date=2000-07-06 00:00:00;end_date=2021-12-16 23:59:59 ...\n",
      "Processing stock_code=000993.XSHE;start_date=2000-07-31 00:00:00;end_date=2021-12-16 23:59:59 ...\n",
      "Processing stock_code=000995.XSHE;start_date=2000-08-07 00:00:00;end_date=2021-12-16 23:59:59 ...\n",
      "Processing stock_code=000996.XSHE;start_date=2000-07-18 00:00:00;end_date=2021-12-16 23:59:59 ...\n",
      "Processing stock_code=000997.XSHE;start_date=2000-08-07 00:00:00;end_date=2021-12-16 23:59:59 ...\n",
      "Processing stock_code=000998.XSHE;start_date=2000-12-11 00:00:00;end_date=2021-12-16 23:59:59 ...\n"
     ]
    },
    {
     "ename": "Exception",
     "evalue": "您当天的查询条数超过了每日最大查询限制：100万条；付费可增加流量权限，详情请咨询管理员，微信号：JQData01",
     "output_type": "error",
     "traceback": [
      "\u001b[0;31m---------------------------------------------------------------------------\u001b[0m",
      "\u001b[0;31mException\u001b[0m                                 Traceback (most recent call last)",
      "\u001b[0;32m/var/folders/4m/r67d805s01s3wd38km_gpzwr0000gn/T/ipykernel_16368/1829158209.py\u001b[0m in \u001b[0;36m<module>\u001b[0;34m\u001b[0m\n\u001b[1;32m      5\u001b[0m     \u001b[0;32mif\u001b[0m \u001b[0mstart_date\u001b[0m \u001b[0;34m!=\u001b[0m \u001b[0;34m\"2021-12-16 00:00:00\"\u001b[0m\u001b[0;34m:\u001b[0m\u001b[0;34m\u001b[0m\u001b[0;34m\u001b[0m\u001b[0m\n\u001b[1;32m      6\u001b[0m         \u001b[0mprint\u001b[0m\u001b[0;34m(\u001b[0m\u001b[0;34m\"Processing stock_code=%s;start_date=%s;end_date=%s ...\"\u001b[0m \u001b[0;34m%\u001b[0m \u001b[0;34m(\u001b[0m\u001b[0mstock_code\u001b[0m\u001b[0;34m,\u001b[0m \u001b[0mstart_date\u001b[0m\u001b[0;34m,\u001b[0m \u001b[0mend_date\u001b[0m\u001b[0;34m)\u001b[0m\u001b[0;34m)\u001b[0m\u001b[0;34m\u001b[0m\u001b[0;34m\u001b[0m\u001b[0m\n\u001b[0;32m----> 7\u001b[0;31m         stock_daily_price = jqdata.get_daily_price(\n\u001b[0m\u001b[1;32m      8\u001b[0m             \u001b[0mstock_code\u001b[0m\u001b[0;34m\u001b[0m\u001b[0;34m\u001b[0m\u001b[0m\n\u001b[1;32m      9\u001b[0m             \u001b[0;34m,\u001b[0m\u001b[0mstart_date\u001b[0m \u001b[0;34m=\u001b[0m \u001b[0mstart_date\u001b[0m\u001b[0;34m\u001b[0m\u001b[0;34m\u001b[0m\u001b[0m\n",
      "\u001b[0;32m~/JOB/PROJECT/quantification_new/./utils/joinquant.py\u001b[0m in \u001b[0;36mget_daily_price\u001b[0;34m(self, stock_code, start_date, end_date)\u001b[0m\n\u001b[1;32m     20\u001b[0m \u001b[0;34m\u001b[0m\u001b[0m\n\u001b[1;32m     21\u001b[0m     \u001b[0;32mdef\u001b[0m \u001b[0mget_daily_price\u001b[0m\u001b[0;34m(\u001b[0m\u001b[0mself\u001b[0m\u001b[0;34m,\u001b[0m \u001b[0mstock_code\u001b[0m\u001b[0;34m,\u001b[0m \u001b[0mstart_date\u001b[0m\u001b[0;34m,\u001b[0m \u001b[0mend_date\u001b[0m\u001b[0;34m)\u001b[0m\u001b[0;34m:\u001b[0m\u001b[0;34m\u001b[0m\u001b[0;34m\u001b[0m\u001b[0m\n\u001b[0;32m---> 22\u001b[0;31m         daily_data = get_price(\n\u001b[0m\u001b[1;32m     23\u001b[0m             \u001b[0msecurity\u001b[0m \u001b[0;34m=\u001b[0m \u001b[0mstock_code\u001b[0m\u001b[0;34m\u001b[0m\u001b[0;34m\u001b[0m\u001b[0m\n\u001b[1;32m     24\u001b[0m             \u001b[0;34m,\u001b[0m\u001b[0mstart_date\u001b[0m \u001b[0;34m=\u001b[0m \u001b[0mstart_date\u001b[0m\u001b[0;34m\u001b[0m\u001b[0;34m\u001b[0m\u001b[0m\n",
      "\u001b[0;32m~/opt/anaconda3/envs/quant/lib/python3.8/site-packages/jqdatasdk/utils.py\u001b[0m in \u001b[0;36m_wrapper\u001b[0;34m(*args, **kwargs)\u001b[0m\n\u001b[1;32m    254\u001b[0m             \u001b[0mprint\u001b[0m\u001b[0;34m(\u001b[0m\u001b[0;34m\"run jqdatasdk.auth first\"\u001b[0m\u001b[0;34m)\u001b[0m\u001b[0;34m\u001b[0m\u001b[0;34m\u001b[0m\u001b[0m\n\u001b[1;32m    255\u001b[0m         \u001b[0;32melse\u001b[0m\u001b[0;34m:\u001b[0m\u001b[0;34m\u001b[0m\u001b[0;34m\u001b[0m\u001b[0m\n\u001b[0;32m--> 256\u001b[0;31m             \u001b[0;32mreturn\u001b[0m \u001b[0mfunc\u001b[0m\u001b[0;34m(\u001b[0m\u001b[0;34m*\u001b[0m\u001b[0margs\u001b[0m\u001b[0;34m,\u001b[0m \u001b[0;34m**\u001b[0m\u001b[0mkwargs\u001b[0m\u001b[0;34m)\u001b[0m\u001b[0;34m\u001b[0m\u001b[0;34m\u001b[0m\u001b[0m\n\u001b[0m\u001b[1;32m    257\u001b[0m     \u001b[0;32mreturn\u001b[0m \u001b[0m_wrapper\u001b[0m\u001b[0;34m\u001b[0m\u001b[0;34m\u001b[0m\u001b[0m\n\u001b[1;32m    258\u001b[0m \u001b[0;34m\u001b[0m\u001b[0m\n",
      "\u001b[0;32m~/opt/anaconda3/envs/quant/lib/python3.8/site-packages/jqdatasdk/api.py\u001b[0m in \u001b[0;36mget_price\u001b[0;34m(security, start_date, end_date, frequency, fields, skip_paused, fq, count, panel, fill_paused)\u001b[0m\n\u001b[1;32m     40\u001b[0m     \u001b[0;32mif\u001b[0m \u001b[0mcount\u001b[0m \u001b[0;32mand\u001b[0m \u001b[0mstart_date\u001b[0m\u001b[0;34m:\u001b[0m\u001b[0;34m\u001b[0m\u001b[0;34m\u001b[0m\u001b[0m\n\u001b[1;32m     41\u001b[0m         \u001b[0;32mraise\u001b[0m \u001b[0mParamsError\u001b[0m\u001b[0;34m(\u001b[0m\u001b[0;34m\"(start_date, count) only one param is required\"\u001b[0m\u001b[0;34m)\u001b[0m\u001b[0;34m\u001b[0m\u001b[0;34m\u001b[0m\u001b[0m\n\u001b[0;32m---> 42\u001b[0;31m     \u001b[0;32mreturn\u001b[0m \u001b[0mJQDataClient\u001b[0m\u001b[0;34m.\u001b[0m\u001b[0minstance\u001b[0m\u001b[0;34m(\u001b[0m\u001b[0;34m)\u001b[0m\u001b[0;34m.\u001b[0m\u001b[0mget_price\u001b[0m\u001b[0;34m(\u001b[0m\u001b[0;34m**\u001b[0m\u001b[0mlocals\u001b[0m\u001b[0;34m(\u001b[0m\u001b[0;34m)\u001b[0m\u001b[0;34m)\u001b[0m\u001b[0;34m\u001b[0m\u001b[0;34m\u001b[0m\u001b[0m\n\u001b[0m\u001b[1;32m     43\u001b[0m \u001b[0;34m\u001b[0m\u001b[0m\n\u001b[1;32m     44\u001b[0m \u001b[0;34m\u001b[0m\u001b[0m\n",
      "\u001b[0;32m~/opt/anaconda3/envs/quant/lib/python3.8/site-packages/jqdatasdk/client.py\u001b[0m in \u001b[0;36m<lambda>\u001b[0;34m(**kwargs)\u001b[0m\n\u001b[1;32m    281\u001b[0m \u001b[0;34m\u001b[0m\u001b[0m\n\u001b[1;32m    282\u001b[0m     \u001b[0;32mdef\u001b[0m \u001b[0m__getattr__\u001b[0m\u001b[0;34m(\u001b[0m\u001b[0mself\u001b[0m\u001b[0;34m,\u001b[0m \u001b[0mmethod\u001b[0m\u001b[0;34m)\u001b[0m\u001b[0;34m:\u001b[0m\u001b[0;34m\u001b[0m\u001b[0;34m\u001b[0m\u001b[0m\n\u001b[0;32m--> 283\u001b[0;31m         \u001b[0;32mreturn\u001b[0m \u001b[0;32mlambda\u001b[0m \u001b[0;34m**\u001b[0m\u001b[0mkwargs\u001b[0m\u001b[0;34m:\u001b[0m \u001b[0mself\u001b[0m\u001b[0;34m(\u001b[0m\u001b[0mmethod\u001b[0m\u001b[0;34m,\u001b[0m \u001b[0;34m**\u001b[0m\u001b[0mkwargs\u001b[0m\u001b[0;34m)\u001b[0m\u001b[0;34m\u001b[0m\u001b[0;34m\u001b[0m\u001b[0m\n\u001b[0m\u001b[1;32m    284\u001b[0m \u001b[0;34m\u001b[0m\u001b[0m\n\u001b[1;32m    285\u001b[0m     \u001b[0;32mdef\u001b[0m \u001b[0mget_data_api_url\u001b[0m\u001b[0;34m(\u001b[0m\u001b[0mself\u001b[0m\u001b[0;34m)\u001b[0m\u001b[0;34m:\u001b[0m\u001b[0;34m\u001b[0m\u001b[0;34m\u001b[0m\u001b[0m\n",
      "\u001b[0;32m~/opt/anaconda3/envs/quant/lib/python3.8/site-packages/jqdatasdk/client.py\u001b[0m in \u001b[0;36m__call__\u001b[0;34m(self, method, **kwargs)\u001b[0m\n\u001b[1;32m    276\u001b[0m         \u001b[0;32mif\u001b[0m \u001b[0mresult\u001b[0m \u001b[0;32mis\u001b[0m \u001b[0;32mNone\u001b[0m\u001b[0;34m:\u001b[0m\u001b[0;34m\u001b[0m\u001b[0;34m\u001b[0m\u001b[0m\n\u001b[1;32m    277\u001b[0m             \u001b[0;32mif\u001b[0m \u001b[0misinstance\u001b[0m\u001b[0;34m(\u001b[0m\u001b[0merr\u001b[0m\u001b[0;34m,\u001b[0m \u001b[0mException\u001b[0m\u001b[0;34m)\u001b[0m\u001b[0;34m:\u001b[0m\u001b[0;34m\u001b[0m\u001b[0;34m\u001b[0m\u001b[0m\n\u001b[0;32m--> 278\u001b[0;31m                 \u001b[0;32mraise\u001b[0m \u001b[0merr\u001b[0m\u001b[0;34m\u001b[0m\u001b[0;34m\u001b[0m\u001b[0m\n\u001b[0m\u001b[1;32m    279\u001b[0m \u001b[0;34m\u001b[0m\u001b[0m\n\u001b[1;32m    280\u001b[0m         \u001b[0;32mreturn\u001b[0m \u001b[0mself\u001b[0m\u001b[0;34m.\u001b[0m\u001b[0mconvert_message\u001b[0m\u001b[0;34m(\u001b[0m\u001b[0mresult\u001b[0m\u001b[0;34m)\u001b[0m\u001b[0;34m\u001b[0m\u001b[0;34m\u001b[0m\u001b[0m\n",
      "\u001b[0;31mException\u001b[0m: 您当天的查询条数超过了每日最大查询限制：100万条；付费可增加流量权限，详情请咨询管理员，微信号：JQData01"
     ]
    }
   ],
   "source": [
    "stock_daily_price = None\n",
    "for stock_code in stock_code_list:\n",
    "    start_date = string_date_convert(stock_start_date_dict[stock_code])\n",
    "    end_date = \"2021-12-16 23:59:59\"#get_current_time()\n",
    "    if start_date != \"2021-12-16 00:00:00\":\n",
    "        print(\"Processing stock_code=%s;start_date=%s;end_date=%s ...\" % (stock_code, start_date, end_date))\n",
    "        stock_daily_price = jqdata.get_daily_price(\n",
    "            stock_code\n",
    "            ,start_date = start_date\n",
    "            ,end_date = end_date\n",
    "        )\n",
    "        stock_daily_price['open'] = stock_daily_price['open'].fillna(-1.)\n",
    "        stock_daily_price['close'] = stock_daily_price['close'].fillna(-1.)\n",
    "        stock_daily_price['high'] = stock_daily_price['high'].fillna(-1.)\n",
    "        stock_daily_price['low'] = stock_daily_price['low'].fillna(-1.)\n",
    "        stock_daily_price['volume'] = stock_daily_price['volume'].fillna(-1.)\n",
    "        stock_daily_price['money'] = stock_daily_price['money'].fillna(-1.)\n",
    "        stock_daily_price_elements = mysql.get_insert_elements(stock_daily_price, stock_daily_price.columns)\n",
    "        mysql.insert_table(\n",
    "            table_name = \"stock_daily_price_tmp\"\n",
    "            ,attribute_list = stock_daily_price.columns\n",
    "            ,elements = stock_daily_price_elements\n",
    "        )\n",
    "        time.sleep(1)\n",
    "stock_daily_price"
   ]
  },
  {
   "cell_type": "code",
   "execution_count": 18,
   "metadata": {},
   "outputs": [
    {
     "ename": "Exception",
     "evalue": "您的1000万条体验期已结束，当日查询条数超过每日最大查询限制100万条；付费可升级到2亿条/天，详情请咨询管理员，微信号：JQData01",
     "output_type": "error",
     "traceback": [
      "\u001b[0;31m---------------------------------------------------------------------------\u001b[0m",
      "\u001b[0;31mException\u001b[0m                                 Traceback (most recent call last)",
      "\u001b[0;32m/var/folders/4m/r67d805s01s3wd38km_gpzwr0000gn/T/ipykernel_16148/1688999382.py\u001b[0m in \u001b[0;36m<module>\u001b[0;34m\u001b[0m\n\u001b[0;32m----> 1\u001b[0;31m stock_daily_price = jqdata.get_daily_price(\n\u001b[0m\u001b[1;32m      2\u001b[0m     \u001b[0;34m\"000668.XSHE\"\u001b[0m\u001b[0;34m\u001b[0m\u001b[0;34m\u001b[0m\u001b[0m\n\u001b[1;32m      3\u001b[0m     \u001b[0;34m,\u001b[0m\u001b[0mstart_date\u001b[0m \u001b[0;34m=\u001b[0m \u001b[0;34m\"1996-12-10\"\u001b[0m\u001b[0;34m\u001b[0m\u001b[0;34m\u001b[0m\u001b[0m\n\u001b[1;32m      4\u001b[0m     \u001b[0;34m,\u001b[0m\u001b[0mend_date\u001b[0m \u001b[0;34m=\u001b[0m \u001b[0;34m\"2021-12-16\"\u001b[0m\u001b[0;34m\u001b[0m\u001b[0;34m\u001b[0m\u001b[0m\n\u001b[1;32m      5\u001b[0m )\n",
      "\u001b[0;32m~/JOB/PROJECT/quantification_new/./utils/joinquant.py\u001b[0m in \u001b[0;36mget_daily_price\u001b[0;34m(self, stock_code, start_date, end_date)\u001b[0m\n\u001b[1;32m     19\u001b[0m \u001b[0;34m\u001b[0m\u001b[0m\n\u001b[1;32m     20\u001b[0m     \u001b[0;32mdef\u001b[0m \u001b[0mget_daily_price\u001b[0m\u001b[0;34m(\u001b[0m\u001b[0mself\u001b[0m\u001b[0;34m,\u001b[0m \u001b[0mstock_code\u001b[0m\u001b[0;34m,\u001b[0m \u001b[0mstart_date\u001b[0m\u001b[0;34m,\u001b[0m \u001b[0mend_date\u001b[0m\u001b[0;34m)\u001b[0m\u001b[0;34m:\u001b[0m\u001b[0;34m\u001b[0m\u001b[0;34m\u001b[0m\u001b[0m\n\u001b[0;32m---> 21\u001b[0;31m         daily_data = get_price(\n\u001b[0m\u001b[1;32m     22\u001b[0m             \u001b[0msecurity\u001b[0m \u001b[0;34m=\u001b[0m \u001b[0mstock_code\u001b[0m\u001b[0;34m\u001b[0m\u001b[0;34m\u001b[0m\u001b[0m\n\u001b[1;32m     23\u001b[0m             \u001b[0;34m,\u001b[0m\u001b[0mstart_date\u001b[0m \u001b[0;34m=\u001b[0m \u001b[0mstart_date\u001b[0m\u001b[0;34m\u001b[0m\u001b[0;34m\u001b[0m\u001b[0m\n",
      "\u001b[0;32m~/opt/anaconda3/envs/quant/lib/python3.8/site-packages/jqdatasdk/utils.py\u001b[0m in \u001b[0;36m_wrapper\u001b[0;34m(*args, **kwargs)\u001b[0m\n\u001b[1;32m    254\u001b[0m             \u001b[0mprint\u001b[0m\u001b[0;34m(\u001b[0m\u001b[0;34m\"run jqdatasdk.auth first\"\u001b[0m\u001b[0;34m)\u001b[0m\u001b[0;34m\u001b[0m\u001b[0;34m\u001b[0m\u001b[0m\n\u001b[1;32m    255\u001b[0m         \u001b[0;32melse\u001b[0m\u001b[0;34m:\u001b[0m\u001b[0;34m\u001b[0m\u001b[0;34m\u001b[0m\u001b[0m\n\u001b[0;32m--> 256\u001b[0;31m             \u001b[0;32mreturn\u001b[0m \u001b[0mfunc\u001b[0m\u001b[0;34m(\u001b[0m\u001b[0;34m*\u001b[0m\u001b[0margs\u001b[0m\u001b[0;34m,\u001b[0m \u001b[0;34m**\u001b[0m\u001b[0mkwargs\u001b[0m\u001b[0;34m)\u001b[0m\u001b[0;34m\u001b[0m\u001b[0;34m\u001b[0m\u001b[0m\n\u001b[0m\u001b[1;32m    257\u001b[0m     \u001b[0;32mreturn\u001b[0m \u001b[0m_wrapper\u001b[0m\u001b[0;34m\u001b[0m\u001b[0;34m\u001b[0m\u001b[0m\n\u001b[1;32m    258\u001b[0m \u001b[0;34m\u001b[0m\u001b[0m\n",
      "\u001b[0;32m~/opt/anaconda3/envs/quant/lib/python3.8/site-packages/jqdatasdk/api.py\u001b[0m in \u001b[0;36mget_price\u001b[0;34m(security, start_date, end_date, frequency, fields, skip_paused, fq, count, panel, fill_paused)\u001b[0m\n\u001b[1;32m     40\u001b[0m     \u001b[0;32mif\u001b[0m \u001b[0mcount\u001b[0m \u001b[0;32mand\u001b[0m \u001b[0mstart_date\u001b[0m\u001b[0;34m:\u001b[0m\u001b[0;34m\u001b[0m\u001b[0;34m\u001b[0m\u001b[0m\n\u001b[1;32m     41\u001b[0m         \u001b[0;32mraise\u001b[0m \u001b[0mParamsError\u001b[0m\u001b[0;34m(\u001b[0m\u001b[0;34m\"(start_date, count) only one param is required\"\u001b[0m\u001b[0;34m)\u001b[0m\u001b[0;34m\u001b[0m\u001b[0;34m\u001b[0m\u001b[0m\n\u001b[0;32m---> 42\u001b[0;31m     \u001b[0;32mreturn\u001b[0m \u001b[0mJQDataClient\u001b[0m\u001b[0;34m.\u001b[0m\u001b[0minstance\u001b[0m\u001b[0;34m(\u001b[0m\u001b[0;34m)\u001b[0m\u001b[0;34m.\u001b[0m\u001b[0mget_price\u001b[0m\u001b[0;34m(\u001b[0m\u001b[0;34m**\u001b[0m\u001b[0mlocals\u001b[0m\u001b[0;34m(\u001b[0m\u001b[0;34m)\u001b[0m\u001b[0;34m)\u001b[0m\u001b[0;34m\u001b[0m\u001b[0;34m\u001b[0m\u001b[0m\n\u001b[0m\u001b[1;32m     43\u001b[0m \u001b[0;34m\u001b[0m\u001b[0m\n\u001b[1;32m     44\u001b[0m \u001b[0;34m\u001b[0m\u001b[0m\n",
      "\u001b[0;32m~/opt/anaconda3/envs/quant/lib/python3.8/site-packages/jqdatasdk/client.py\u001b[0m in \u001b[0;36m<lambda>\u001b[0;34m(**kwargs)\u001b[0m\n\u001b[1;32m    281\u001b[0m \u001b[0;34m\u001b[0m\u001b[0m\n\u001b[1;32m    282\u001b[0m     \u001b[0;32mdef\u001b[0m \u001b[0m__getattr__\u001b[0m\u001b[0;34m(\u001b[0m\u001b[0mself\u001b[0m\u001b[0;34m,\u001b[0m \u001b[0mmethod\u001b[0m\u001b[0;34m)\u001b[0m\u001b[0;34m:\u001b[0m\u001b[0;34m\u001b[0m\u001b[0;34m\u001b[0m\u001b[0m\n\u001b[0;32m--> 283\u001b[0;31m         \u001b[0;32mreturn\u001b[0m \u001b[0;32mlambda\u001b[0m \u001b[0;34m**\u001b[0m\u001b[0mkwargs\u001b[0m\u001b[0;34m:\u001b[0m \u001b[0mself\u001b[0m\u001b[0;34m(\u001b[0m\u001b[0mmethod\u001b[0m\u001b[0;34m,\u001b[0m \u001b[0;34m**\u001b[0m\u001b[0mkwargs\u001b[0m\u001b[0;34m)\u001b[0m\u001b[0;34m\u001b[0m\u001b[0;34m\u001b[0m\u001b[0m\n\u001b[0m\u001b[1;32m    284\u001b[0m \u001b[0;34m\u001b[0m\u001b[0m\n\u001b[1;32m    285\u001b[0m     \u001b[0;32mdef\u001b[0m \u001b[0mget_data_api_url\u001b[0m\u001b[0;34m(\u001b[0m\u001b[0mself\u001b[0m\u001b[0;34m)\u001b[0m\u001b[0;34m:\u001b[0m\u001b[0;34m\u001b[0m\u001b[0;34m\u001b[0m\u001b[0m\n",
      "\u001b[0;32m~/opt/anaconda3/envs/quant/lib/python3.8/site-packages/jqdatasdk/client.py\u001b[0m in \u001b[0;36m__call__\u001b[0;34m(self, method, **kwargs)\u001b[0m\n\u001b[1;32m    276\u001b[0m         \u001b[0;32mif\u001b[0m \u001b[0mresult\u001b[0m \u001b[0;32mis\u001b[0m \u001b[0;32mNone\u001b[0m\u001b[0;34m:\u001b[0m\u001b[0;34m\u001b[0m\u001b[0;34m\u001b[0m\u001b[0m\n\u001b[1;32m    277\u001b[0m             \u001b[0;32mif\u001b[0m \u001b[0misinstance\u001b[0m\u001b[0;34m(\u001b[0m\u001b[0merr\u001b[0m\u001b[0;34m,\u001b[0m \u001b[0mException\u001b[0m\u001b[0;34m)\u001b[0m\u001b[0;34m:\u001b[0m\u001b[0;34m\u001b[0m\u001b[0;34m\u001b[0m\u001b[0m\n\u001b[0;32m--> 278\u001b[0;31m                 \u001b[0;32mraise\u001b[0m \u001b[0merr\u001b[0m\u001b[0;34m\u001b[0m\u001b[0;34m\u001b[0m\u001b[0m\n\u001b[0m\u001b[1;32m    279\u001b[0m \u001b[0;34m\u001b[0m\u001b[0m\n\u001b[1;32m    280\u001b[0m         \u001b[0;32mreturn\u001b[0m \u001b[0mself\u001b[0m\u001b[0;34m.\u001b[0m\u001b[0mconvert_message\u001b[0m\u001b[0;34m(\u001b[0m\u001b[0mresult\u001b[0m\u001b[0;34m)\u001b[0m\u001b[0;34m\u001b[0m\u001b[0;34m\u001b[0m\u001b[0m\n",
      "\u001b[0;31mException\u001b[0m: 您的1000万条体验期已结束，当日查询条数超过每日最大查询限制100万条；付费可升级到2亿条/天，详情请咨询管理员，微信号：JQData01"
     ]
    }
   ],
   "source": [
    "stock_daily_price = jqdata.get_daily_price(\n",
    "    \"000668.XSHE\"\n",
    "    ,start_date = \"1996-12-10\"\n",
    "    ,end_date = \"2021-12-16\"\n",
    ")\n",
    "stock_daily_price"
   ]
  },
  {
   "cell_type": "markdown",
   "metadata": {},
   "source": []
  }
 ],
 "metadata": {
  "kernelspec": {
   "display_name": "Python 3 (ipykernel)",
   "language": "python",
   "name": "python3"
  },
  "language_info": {
   "codemirror_mode": {
    "name": "ipython",
    "version": 3
   },
   "file_extension": ".py",
   "mimetype": "text/x-python",
   "name": "python",
   "nbconvert_exporter": "python",
   "pygments_lexer": "ipython3",
   "version": "3.8.12"
  },
  "orig_nbformat": 4
 },
 "nbformat": 4,
 "nbformat_minor": 2
}
