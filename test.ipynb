{
 "cells": [
  {
   "cell_type": "code",
   "execution_count": 20,
   "metadata": {},
   "outputs": [],
   "source": [
    "import tushare as ts\n",
    "from jqdatasdk import *\n",
    "import pymysql"
   ]
  },
  {
   "cell_type": "code",
   "execution_count": 22,
   "metadata": {},
   "outputs": [],
   "source": [
    "db = pymysql.connect(\n",
    "    host = \"localhost\"\n",
    "    ,user = 'root'\n",
    "    ,password = \"bwh759149492\"\n",
    "    ,db = 'quant'\n",
    "    ,port = 3306\n",
    ")\n",
    "cur = db.cursor()"
   ]
  },
  {
   "cell_type": "code",
   "execution_count": 33,
   "metadata": {},
   "outputs": [
    {
     "data": {
      "text/plain": [
       "0"
      ]
     },
     "execution_count": 33,
     "metadata": {},
     "output_type": "execute_result"
    }
   ],
   "source": [
    "cur.execute(\"drop table if exists test01\")\n",
    "cur.execute(\n",
    "\"\"\"\n",
    "CREATE TABLE test01 (\n",
    "    a VARCHAR(1000)\n",
    "    ,b BIGINT(100)\n",
    ")\n",
    "\"\"\")"
   ]
  },
  {
   "cell_type": "code",
   "execution_count": 34,
   "metadata": {},
   "outputs": [
    {
     "data": {
      "text/plain": [
       "'\"60009.XSHE\",\"100\",'"
      ]
     },
     "execution_count": 34,
     "metadata": {},
     "output_type": "execute_result"
    }
   ],
   "source": [
    "data = {\n",
    "    \"a\": \"60009.XSHE\"\n",
    "    ,\"b\": 100\n",
    "}\n",
    "di = \"\"\n",
    "for i in data.keys():\n",
    "    di = (di + '\"%s\"' + \",\") % (data[i])\n",
    "di"
   ]
  },
  {
   "cell_type": "code",
   "execution_count": 35,
   "metadata": {},
   "outputs": [],
   "source": [
    "insert_sql = \"INSERT INTO test01 VALUES (%s)\" % (di[:-1])\n",
    "cur.execute(insert_sql) \n",
    "cur.connection.commit()"
   ]
  },
  {
   "cell_type": "code",
   "execution_count": 44,
   "metadata": {},
   "outputs": [
    {
     "data": {
      "text/plain": [
       "(Decimal('100.0000'),)"
      ]
     },
     "execution_count": 44,
     "metadata": {},
     "output_type": "execute_result"
    }
   ],
   "source": [
    "sql = cur.execute(\n",
    "\"\"\"\n",
    "SELECT  AVG(b) AS abg_b\n",
    "FROM    test01\n",
    "\"\"\"\n",
    ")\n",
    "data = cur.fetchone()\n",
    "data"
   ]
  },
  {
   "cell_type": "code",
   "execution_count": 9,
   "metadata": {},
   "outputs": [
    {
     "name": "stdout",
     "output_type": "stream",
     "text": [
      "1.2.77\n",
      "auth success \n"
     ]
    }
   ],
   "source": [
    "print(ts.__version__)\n",
    "auth('18211130237','Bwh759149492')"
   ]
  },
  {
   "cell_type": "code",
   "execution_count": 19,
   "metadata": {},
   "outputs": [
    {
     "data": {
      "text/plain": [
       "'上海临港'"
      ]
     },
     "execution_count": 19,
     "metadata": {},
     "output_type": "execute_result"
    }
   ],
   "source": [
    "a = normalize_code('600848')\n",
    "get_security_info(a).display_name\n"
   ]
  },
  {
   "cell_type": "code",
   "execution_count": 4,
   "metadata": {},
   "outputs": [
    {
     "name": "stdout",
     "output_type": "stream",
     "text": [
      "本接口即将停止更新，请尽快使用Pro版接口：https://waditu.com/document/2\n"
     ]
    },
    {
     "data": {
      "text/html": [
       "<div>\n",
       "<style scoped>\n",
       "    .dataframe tbody tr th:only-of-type {\n",
       "        vertical-align: middle;\n",
       "    }\n",
       "\n",
       "    .dataframe tbody tr th {\n",
       "        vertical-align: top;\n",
       "    }\n",
       "\n",
       "    .dataframe thead th {\n",
       "        text-align: right;\n",
       "    }\n",
       "</style>\n",
       "<table border=\"1\" class=\"dataframe\">\n",
       "  <thead>\n",
       "    <tr style=\"text-align: right;\">\n",
       "      <th></th>\n",
       "      <th>open</th>\n",
       "      <th>high</th>\n",
       "      <th>close</th>\n",
       "      <th>low</th>\n",
       "      <th>volume</th>\n",
       "      <th>price_change</th>\n",
       "      <th>p_change</th>\n",
       "      <th>ma5</th>\n",
       "      <th>ma10</th>\n",
       "      <th>ma20</th>\n",
       "      <th>v_ma5</th>\n",
       "      <th>v_ma10</th>\n",
       "      <th>v_ma20</th>\n",
       "      <th>turnover</th>\n",
       "    </tr>\n",
       "    <tr>\n",
       "      <th>date</th>\n",
       "      <th></th>\n",
       "      <th></th>\n",
       "      <th></th>\n",
       "      <th></th>\n",
       "      <th></th>\n",
       "      <th></th>\n",
       "      <th></th>\n",
       "      <th></th>\n",
       "      <th></th>\n",
       "      <th></th>\n",
       "      <th></th>\n",
       "      <th></th>\n",
       "      <th></th>\n",
       "      <th></th>\n",
       "    </tr>\n",
       "  </thead>\n",
       "  <tbody>\n",
       "    <tr>\n",
       "      <th>2021-12-10</th>\n",
       "      <td>14.42</td>\n",
       "      <td>14.55</td>\n",
       "      <td>14.49</td>\n",
       "      <td>14.42</td>\n",
       "      <td>39393.64</td>\n",
       "      <td>-0.05</td>\n",
       "      <td>-0.34</td>\n",
       "      <td>14.358</td>\n",
       "      <td>14.294</td>\n",
       "      <td>14.330</td>\n",
       "      <td>46793.93</td>\n",
       "      <td>40605.39</td>\n",
       "      <td>32855.31</td>\n",
       "      <td>0.27</td>\n",
       "    </tr>\n",
       "    <tr>\n",
       "      <th>2021-12-09</th>\n",
       "      <td>14.30</td>\n",
       "      <td>14.58</td>\n",
       "      <td>14.54</td>\n",
       "      <td>14.25</td>\n",
       "      <td>74250.53</td>\n",
       "      <td>0.22</td>\n",
       "      <td>1.54</td>\n",
       "      <td>14.326</td>\n",
       "      <td>14.268</td>\n",
       "      <td>14.329</td>\n",
       "      <td>46630.05</td>\n",
       "      <td>38752.85</td>\n",
       "      <td>32215.77</td>\n",
       "      <td>0.51</td>\n",
       "    </tr>\n",
       "    <tr>\n",
       "      <th>2021-12-08</th>\n",
       "      <td>14.32</td>\n",
       "      <td>14.34</td>\n",
       "      <td>14.32</td>\n",
       "      <td>14.10</td>\n",
       "      <td>43747.38</td>\n",
       "      <td>0.07</td>\n",
       "      <td>0.49</td>\n",
       "      <td>14.278</td>\n",
       "      <td>14.241</td>\n",
       "      <td>14.329</td>\n",
       "      <td>39601.92</td>\n",
       "      <td>33953.42</td>\n",
       "      <td>30757.93</td>\n",
       "      <td>0.30</td>\n",
       "    </tr>\n",
       "    <tr>\n",
       "      <th>2021-12-07</th>\n",
       "      <td>14.29</td>\n",
       "      <td>14.33</td>\n",
       "      <td>14.25</td>\n",
       "      <td>14.10</td>\n",
       "      <td>42002.59</td>\n",
       "      <td>0.06</td>\n",
       "      <td>0.42</td>\n",
       "      <td>14.264</td>\n",
       "      <td>14.244</td>\n",
       "      <td>14.329</td>\n",
       "      <td>37170.02</td>\n",
       "      <td>32051.97</td>\n",
       "      <td>29879.18</td>\n",
       "      <td>0.29</td>\n",
       "    </tr>\n",
       "    <tr>\n",
       "      <th>2021-12-06</th>\n",
       "      <td>14.39</td>\n",
       "      <td>14.40</td>\n",
       "      <td>14.19</td>\n",
       "      <td>14.19</td>\n",
       "      <td>34575.53</td>\n",
       "      <td>-0.14</td>\n",
       "      <td>-0.98</td>\n",
       "      <td>14.250</td>\n",
       "      <td>14.250</td>\n",
       "      <td>14.328</td>\n",
       "      <td>34667.61</td>\n",
       "      <td>30726.72</td>\n",
       "      <td>28838.98</td>\n",
       "      <td>0.24</td>\n",
       "    </tr>\n",
       "    <tr>\n",
       "      <th>...</th>\n",
       "      <td>...</td>\n",
       "      <td>...</td>\n",
       "      <td>...</td>\n",
       "      <td>...</td>\n",
       "      <td>...</td>\n",
       "      <td>...</td>\n",
       "      <td>...</td>\n",
       "      <td>...</td>\n",
       "      <td>...</td>\n",
       "      <td>...</td>\n",
       "      <td>...</td>\n",
       "      <td>...</td>\n",
       "      <td>...</td>\n",
       "      <td>...</td>\n",
       "    </tr>\n",
       "    <tr>\n",
       "      <th>2019-06-18</th>\n",
       "      <td>30.08</td>\n",
       "      <td>30.08</td>\n",
       "      <td>29.81</td>\n",
       "      <td>29.35</td>\n",
       "      <td>32152.20</td>\n",
       "      <td>-0.22</td>\n",
       "      <td>-0.73</td>\n",
       "      <td>30.162</td>\n",
       "      <td>30.162</td>\n",
       "      <td>30.162</td>\n",
       "      <td>54878.66</td>\n",
       "      <td>54878.66</td>\n",
       "      <td>54878.66</td>\n",
       "      <td>0.41</td>\n",
       "    </tr>\n",
       "    <tr>\n",
       "      <th>2019-06-17</th>\n",
       "      <td>29.01</td>\n",
       "      <td>30.28</td>\n",
       "      <td>30.03</td>\n",
       "      <td>28.81</td>\n",
       "      <td>41121.82</td>\n",
       "      <td>0.33</td>\n",
       "      <td>1.11</td>\n",
       "      <td>30.250</td>\n",
       "      <td>30.250</td>\n",
       "      <td>30.250</td>\n",
       "      <td>60560.28</td>\n",
       "      <td>60560.28</td>\n",
       "      <td>60560.28</td>\n",
       "      <td>0.52</td>\n",
       "    </tr>\n",
       "    <tr>\n",
       "      <th>2019-06-14</th>\n",
       "      <td>30.22</td>\n",
       "      <td>30.80</td>\n",
       "      <td>29.70</td>\n",
       "      <td>29.70</td>\n",
       "      <td>47776.00</td>\n",
       "      <td>-0.81</td>\n",
       "      <td>-2.65</td>\n",
       "      <td>30.323</td>\n",
       "      <td>30.323</td>\n",
       "      <td>30.323</td>\n",
       "      <td>67039.76</td>\n",
       "      <td>67039.76</td>\n",
       "      <td>67039.76</td>\n",
       "      <td>0.61</td>\n",
       "    </tr>\n",
       "    <tr>\n",
       "      <th>2019-06-13</th>\n",
       "      <td>30.76</td>\n",
       "      <td>30.96</td>\n",
       "      <td>30.51</td>\n",
       "      <td>29.90</td>\n",
       "      <td>78942.27</td>\n",
       "      <td>-0.25</td>\n",
       "      <td>-0.81</td>\n",
       "      <td>30.635</td>\n",
       "      <td>30.635</td>\n",
       "      <td>30.635</td>\n",
       "      <td>76671.64</td>\n",
       "      <td>76671.64</td>\n",
       "      <td>76671.64</td>\n",
       "      <td>1.00</td>\n",
       "    </tr>\n",
       "    <tr>\n",
       "      <th>2019-06-12</th>\n",
       "      <td>30.70</td>\n",
       "      <td>31.44</td>\n",
       "      <td>30.76</td>\n",
       "      <td>30.08</td>\n",
       "      <td>74401.01</td>\n",
       "      <td>0.01</td>\n",
       "      <td>0.03</td>\n",
       "      <td>30.760</td>\n",
       "      <td>30.760</td>\n",
       "      <td>30.760</td>\n",
       "      <td>74401.01</td>\n",
       "      <td>74401.01</td>\n",
       "      <td>74401.01</td>\n",
       "      <td>0.94</td>\n",
       "    </tr>\n",
       "  </tbody>\n",
       "</table>\n",
       "<p>610 rows × 14 columns</p>\n",
       "</div>"
      ],
      "text/plain": [
       "             open   high  close    low    volume  price_change  p_change  \\\n",
       "date                                                                       \n",
       "2021-12-10  14.42  14.55  14.49  14.42  39393.64         -0.05     -0.34   \n",
       "2021-12-09  14.30  14.58  14.54  14.25  74250.53          0.22      1.54   \n",
       "2021-12-08  14.32  14.34  14.32  14.10  43747.38          0.07      0.49   \n",
       "2021-12-07  14.29  14.33  14.25  14.10  42002.59          0.06      0.42   \n",
       "2021-12-06  14.39  14.40  14.19  14.19  34575.53         -0.14     -0.98   \n",
       "...           ...    ...    ...    ...       ...           ...       ...   \n",
       "2019-06-18  30.08  30.08  29.81  29.35  32152.20         -0.22     -0.73   \n",
       "2019-06-17  29.01  30.28  30.03  28.81  41121.82          0.33      1.11   \n",
       "2019-06-14  30.22  30.80  29.70  29.70  47776.00         -0.81     -2.65   \n",
       "2019-06-13  30.76  30.96  30.51  29.90  78942.27         -0.25     -0.81   \n",
       "2019-06-12  30.70  31.44  30.76  30.08  74401.01          0.01      0.03   \n",
       "\n",
       "               ma5    ma10    ma20     v_ma5    v_ma10    v_ma20  turnover  \n",
       "date                                                                        \n",
       "2021-12-10  14.358  14.294  14.330  46793.93  40605.39  32855.31      0.27  \n",
       "2021-12-09  14.326  14.268  14.329  46630.05  38752.85  32215.77      0.51  \n",
       "2021-12-08  14.278  14.241  14.329  39601.92  33953.42  30757.93      0.30  \n",
       "2021-12-07  14.264  14.244  14.329  37170.02  32051.97  29879.18      0.29  \n",
       "2021-12-06  14.250  14.250  14.328  34667.61  30726.72  28838.98      0.24  \n",
       "...            ...     ...     ...       ...       ...       ...       ...  \n",
       "2019-06-18  30.162  30.162  30.162  54878.66  54878.66  54878.66      0.41  \n",
       "2019-06-17  30.250  30.250  30.250  60560.28  60560.28  60560.28      0.52  \n",
       "2019-06-14  30.323  30.323  30.323  67039.76  67039.76  67039.76      0.61  \n",
       "2019-06-13  30.635  30.635  30.635  76671.64  76671.64  76671.64      1.00  \n",
       "2019-06-12  30.760  30.760  30.760  74401.01  74401.01  74401.01      0.94  \n",
       "\n",
       "[610 rows x 14 columns]"
      ]
     },
     "execution_count": 4,
     "metadata": {},
     "output_type": "execute_result"
    }
   ],
   "source": [
    "ts.get_hist_data('600848')"
   ]
  },
  {
   "cell_type": "code",
   "execution_count": null,
   "metadata": {},
   "outputs": [],
   "source": []
  }
 ],
 "metadata": {
  "kernelspec": {
   "display_name": "Python 3 (ipykernel)",
   "language": "python",
   "name": "python3"
  },
  "language_info": {
   "codemirror_mode": {
    "name": "ipython",
    "version": 3
   },
   "file_extension": ".py",
   "mimetype": "text/x-python",
   "name": "python",
   "nbconvert_exporter": "python",
   "pygments_lexer": "ipython3",
   "version": "3.8.12"
  },
  "orig_nbformat": 4
 },
 "nbformat": 4,
 "nbformat_minor": 2
}
