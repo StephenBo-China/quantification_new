{
 "cells": [
  {
   "cell_type": "code",
   "execution_count": 1,
   "metadata": {},
   "outputs": [],
   "source": [
    "import tushare as ts\n",
    "from jqdatasdk import *\n",
    "import pymysql\n",
    "\n",
    "PROJECT_PATH = \"/Users/stephenbo/JOB/PROJECT/quantification_new/\"\n",
    "import sys, os\n",
    "sys.path.append(PROJECT_PATH + \"./utils\")\n",
    "import mysql as mq \n",
    "from tools import *"
   ]
  },
  {
   "cell_type": "markdown",
   "metadata": {},
   "source": [
    "### SQL CODE TESTING"
   ]
  },
  {
   "cell_type": "code",
   "execution_count": 2,
   "metadata": {},
   "outputs": [],
   "source": [
    "mysql = mq.MY_SQL()"
   ]
  },
  {
   "cell_type": "code",
   "execution_count": 3,
   "metadata": {},
   "outputs": [],
   "source": [
    "mysql.drop_table(\"test01\")"
   ]
  },
  {
   "cell_type": "code",
   "execution_count": 4,
   "metadata": {},
   "outputs": [],
   "source": [
    "mysql.create_table(\n",
    "    table_name = \"test01\"\n",
    "    ,table_elements = {\n",
    "        \"stock_name\":       \"VARCHAR(1000)\"\n",
    "        ,\"stock_code\":      \"VARCHAR(1000)\"\n",
    "        ,\"open\":            \"FLOAT\"\n",
    "        ,\"close\":           \"FLOAT\"\n",
    "        ,\"high\":            \"FLOAT\"\n",
    "        ,\"volume\":          \"FLOAT\"\n",
    "        ,\"money\":           \"FLOAT\"\n",
    "        ,\"factor\":          \"FLOAT\"\n",
    "        ,\"high_limit\":      \"FLOAT\"\n",
    "        ,\"low_limit\":       \"FLOAT\"\n",
    "        ,\"avg\":             \"FLOAT\"\n",
    "        ,\"pre_close\":       \"FLOAT\"\n",
    "        ,\"paused\":          \"FLOAT\"\n",
    "        ,\"open_interest\":   \"FLOAT\"\n",
    "        ,\"ds\":              \"VARCHAR(1000)\"\n",
    "    }\n",
    ")"
   ]
  },
  {
   "cell_type": "code",
   "execution_count": 5,
   "metadata": {},
   "outputs": [],
   "source": [
    "mysql.insert_table(\n",
    "    table_name = \"test01\"\n",
    "    ,attribute_list = [\n",
    "        \"stock_name\", \"stock_code\", \"open\", \"close\", \"high\", \"volume\", \"money\", \"factor\"\n",
    "        ,\"high_limit\", \"low_limit\", \"avg\", \"pre_close\", \"paused\", \"open_interest\", \"ds\"\n",
    "    ]\n",
    "    ,elements = [\n",
    "        (\"stock02\", \"00001\", \"0.0\", \"0.1\", \"0.2\", \"0.3\", \"0.4\", \"0.5\"\n",
    "        ,\"0.6\", \"0.7\", \"0.8\", \"0.9\", \"1.0\", \"1.1\", \"1.2\")\n",
    "        ,(\"stock03\", \"00001\", \"0.0\", \"0.1\", \"0.2\", \"0.3\", \"0.4\", \"0.5\"\n",
    "        ,\"0.6\", \"0.7\", \"0.8\", \"0.9\", \"1.0\", \"1.1\", \"1.2\")\n",
    "        ,(\"stock03\", \"00002\", \"0.0\", \"0.1\", \"0.2\", \"0.3\", \"0.4\", \"0.5\"\n",
    "        ,\"0.6\", \"0.7\", \"0.8\", \"0.9\", \"1.0\", \"1.1\", \"1.2\")\n",
    "    ]\n",
    ")"
   ]
  },
  {
   "cell_type": "code",
   "execution_count": 11,
   "metadata": {},
   "outputs": [
    {
     "name": "stdout",
     "output_type": "stream",
     "text": [
      "2\n"
     ]
    },
    {
     "data": {
      "text/plain": [
       "(('stock02', '00001'), ('stock03', '00002'))"
      ]
     },
     "execution_count": 11,
     "metadata": {},
     "output_type": "execute_result"
    }
   ],
   "source": [
    "data = mysql.select_table(\n",
    "    \"\"\"\n",
    "    SELECT  stock_name, stock_code\n",
    "    FROM    test01\n",
    "    \"\"\"\n",
    ")\n",
    "print(len(data))\n",
    "data"
   ]
  },
  {
   "cell_type": "code",
   "execution_count": 10,
   "metadata": {},
   "outputs": [],
   "source": [
    "mysql.delete_elements(\n",
    "    table_name = \"test01\"\n",
    "    ,clause_list = [\n",
    "        \"stock_name = 'stock03'\"\n",
    "        ,\"stock_code = '00001'\"\n",
    "    ]\n",
    ")"
   ]
  },
  {
   "cell_type": "code",
   "execution_count": null,
   "metadata": {},
   "outputs": [],
   "source": [
    "----------------------------------------------------------------------------------------------"
   ]
  },
  {
   "cell_type": "markdown",
   "metadata": {},
   "source": [
    "### JQDATA CODE TESTING"
   ]
  },
  {
   "cell_type": "code",
   "execution_count": 2,
   "metadata": {},
   "outputs": [],
   "source": [
    "PROJECT_PATH = \"/Users/stephenbo/JOB/PROJECT/quantification_new/\"\n",
    "import sys, os\n",
    "sys.path.append(PROJECT_PATH + \"./utils\")\n",
    "from joinquant import *"
   ]
  },
  {
   "cell_type": "code",
   "execution_count": 3,
   "metadata": {},
   "outputs": [
    {
     "name": "stdout",
     "output_type": "stream",
     "text": [
      "auth success \n"
     ]
    }
   ],
   "source": [
    "jqdata = joinquant()"
   ]
  },
  {
   "cell_type": "code",
   "execution_count": 4,
   "metadata": {},
   "outputs": [],
   "source": [
    "from jqdatasdk import *"
   ]
  },
  {
   "cell_type": "code",
   "execution_count": 5,
   "metadata": {},
   "outputs": [],
   "source": [
    "stock_info_data = get_all_securities(types=['stock'], date=None)"
   ]
  },
  {
   "cell_type": "code",
   "execution_count": 6,
   "metadata": {},
   "outputs": [
    {
     "data": {
      "text/plain": [
       "Index(['display_name', 'name', 'start_date', 'end_date', 'type'], dtype='object')"
      ]
     },
     "execution_count": 6,
     "metadata": {},
     "output_type": "execute_result"
    }
   ],
   "source": [
    "stock_info_data.columns"
   ]
  },
  {
   "cell_type": "code",
   "execution_count": 8,
   "metadata": {},
   "outputs": [],
   "source": [
    "save_csv(stock_info_data, \"/Users/stephenbo/JOB/PROJECT/quantification_new/data/stock_info.csv\")"
   ]
  },
  {
   "cell_type": "code",
   "execution_count": null,
   "metadata": {},
   "outputs": [],
   "source": []
  }
 ],
 "metadata": {
  "kernelspec": {
   "display_name": "Python 3 (ipykernel)",
   "language": "python",
   "name": "python3"
  },
  "language_info": {
   "codemirror_mode": {
    "name": "ipython",
    "version": 3
   },
   "file_extension": ".py",
   "mimetype": "text/x-python",
   "name": "python",
   "nbconvert_exporter": "python",
   "pygments_lexer": "ipython3",
   "version": "3.8.12"
  },
  "orig_nbformat": 4
 },
 "nbformat": 4,
 "nbformat_minor": 2
}
