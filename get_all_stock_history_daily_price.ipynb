{
 "cells": [
  {
   "cell_type": "code",
   "execution_count": 9,
   "metadata": {},
   "outputs": [],
   "source": [
    "PROJECT_PATH = \"/Users/stephenbo/JOB/PROJECT/quantification_new/\"\n",
    "import sys, os\n",
    "sys.path.append(PROJECT_PATH + \"./utils\")\n",
    "import mysql as mq \n",
    "from tools import *\n",
    "import time\n",
    "from joinquant import *\n",
    "import pandas as pd"
   ]
  },
  {
   "cell_type": "code",
   "execution_count": 2,
   "metadata": {},
   "outputs": [
    {
     "name": "stdout",
     "output_type": "stream",
     "text": [
      "auth success \n",
      "login account=18909717222 success.\n"
     ]
    }
   ],
   "source": [
    "mysql = mq.MY_SQL()\n",
    "jqdata = joinquant(\"account6\")"
   ]
  },
  {
   "cell_type": "code",
   "execution_count": 3,
   "metadata": {},
   "outputs": [
    {
     "name": "stdout",
     "output_type": "stream",
     "text": [
      "SELECT  t.stock_name AS stock_name \n",
      "        ,MAX(t.stock_code) AS stock_code \n",
      "        ,MAX(t.start_date) AS start_date \n",
      "        ,MAX(t.end_date) AS end_date\n",
      "FROM \n",
      "(\n",
      "    SELECT  t1.stock_name AS stock_name \n",
      "            ,t1.stock_code AS stock_code \n",
      "            ,CASE WHEN t2.stock_code IS NULL THEN t1.start_date ELSE t2.ds END AS start_date \n",
      "            ,t1.end_date AS end_date \n",
      "    FROM \n",
      "    (\n",
      "        SELECT  stock_name \n",
      "                ,MAX(stock_code) AS stock_code  \n",
      "                ,MAX(start_date) AS start_date  \n",
      "                ,MAX(end_date) AS end_date  \n",
      "        FROM    stock_info \n",
      "        GROUP BY stock_name \n",
      "    ) t1\n",
      "    LEFT OUTER JOIN \n",
      "    (\n",
      "        SELECT  stock_code \n",
      "                ,MAX(ds) AS ds \n",
      "        FROM    stock_daily_price_tmp \n",
      "        GROUP BY stock_code \n",
      "    ) t2 ON t1.stock_code = t2.stock_code \n",
      ") t\n",
      "GROUP BY t.stock_name\n",
      ";\n"
     ]
    }
   ],
   "source": [
    "select_sql = open(\"/Users/stephenbo/JOB/PROJECT/quantification_new/sql/get_stock_info.sql\").read()\n",
    "print(select_sql)"
   ]
  },
  {
   "cell_type": "code",
   "execution_count": 4,
   "metadata": {},
   "outputs": [],
   "source": [
    "stock_info = mysql.select_table(select_sql)"
   ]
  },
  {
   "cell_type": "code",
   "execution_count": 5,
   "metadata": {},
   "outputs": [],
   "source": [
    "mysql.create_table(\n",
    "    table_name = \"stock_daily_price_tmp\"#\"stock_daily_price\"\n",
    "    ,table_elements = {\n",
    "        \"stock_code\":       \"VARCHAR(1000)\"\n",
    "        ,\"ds\":              \"VARCHAR(1000)\"\n",
    "        ,\"open\":            \"FLOAT\"\n",
    "        ,\"close\":           \"FLOAT\"\n",
    "        ,\"high\":            \"FLOAT\"\n",
    "        ,\"low\":             \"FLOAT\"\n",
    "        ,\"volume\":          \"FLOAT\"\n",
    "        ,\"money\":           \"FLOAT\"\n",
    "    }\n",
    ")"
   ]
  },
  {
   "cell_type": "code",
   "execution_count": 6,
   "metadata": {},
   "outputs": [
    {
     "data": {
      "text/plain": [
       "(('平安银行', '000001.XSHE', '2021-12-16', '2200-01-01'),\n",
       " ('万科A', '000002.XSHE', '2021-12-16', '2200-01-01'),\n",
       " ('国华网安', '000004.XSHE', '2021-12-16', '2200-01-01'),\n",
       " ('ST星源', '000005.XSHE', '2021-12-16', '2200-01-01'))"
      ]
     },
     "execution_count": 6,
     "metadata": {},
     "output_type": "execute_result"
    }
   ],
   "source": [
    "stock_info[:4]"
   ]
  },
  {
   "cell_type": "code",
   "execution_count": 7,
   "metadata": {},
   "outputs": [],
   "source": [
    "stock_start_date_dict = dict()\n",
    "stock_end_date_dict = dict()\n",
    "stock_code_list = list()\n",
    "for element in stock_info:\n",
    "    stock_code = element[1]\n",
    "    start_date = element[2]\n",
    "    end_date = element[3]\n",
    "    stock_start_date_dict[stock_code] = start_date \n",
    "    stock_end_date_dict[stock_code] = end_date \n",
    "    stock_code_list.append(stock_code)"
   ]
  },
  {
   "cell_type": "code",
   "execution_count": 8,
   "metadata": {},
   "outputs": [
    {
     "name": "stdout",
     "output_type": "stream",
     "text": [
      "Processing stock_code=600572.XSHG;start_date=2004-04-12 00:00:00;end_date=2021-12-16 23:59:59 ...\n"
     ]
    },
    {
     "name": "stderr",
     "output_type": "stream",
     "text": [
      "/Users/stephenbo/opt/anaconda3/envs/quant/lib/python3.8/site-packages/jqdatasdk/api.py:34: PanelObsoleteWarning: 当前环境 pandas 版本高于 0.25，get_price 与 get_fundamentals_continuously 接口的 panel 参数将固定为 False（0.25 及以上版本的 pandas 不再支持 panel，如使用该数据结构和相关函数请注意修改）\n",
      "  warnings.warn(PandasChecker.VERSION_NOTICE_MESSAGE, PanelObsoleteWarning)\n"
     ]
    },
    {
     "ename": "Exception",
     "evalue": "您当天的查询条数超过了每日最大查询限制：100万条；付费可增加流量权限，详情请咨询管理员，微信号：JQData01",
     "output_type": "error",
     "traceback": [
      "\u001b[0;31m---------------------------------------------------------------------------\u001b[0m",
      "\u001b[0;31mException\u001b[0m                                 Traceback (most recent call last)",
      "\u001b[0;32m/var/folders/4m/r67d805s01s3wd38km_gpzwr0000gn/T/ipykernel_22032/1829158209.py\u001b[0m in \u001b[0;36m<module>\u001b[0;34m\u001b[0m\n\u001b[1;32m      5\u001b[0m     \u001b[0;32mif\u001b[0m \u001b[0mstart_date\u001b[0m \u001b[0;34m!=\u001b[0m \u001b[0;34m\"2021-12-16 00:00:00\"\u001b[0m\u001b[0;34m:\u001b[0m\u001b[0;34m\u001b[0m\u001b[0;34m\u001b[0m\u001b[0m\n\u001b[1;32m      6\u001b[0m         \u001b[0mprint\u001b[0m\u001b[0;34m(\u001b[0m\u001b[0;34m\"Processing stock_code=%s;start_date=%s;end_date=%s ...\"\u001b[0m \u001b[0;34m%\u001b[0m \u001b[0;34m(\u001b[0m\u001b[0mstock_code\u001b[0m\u001b[0;34m,\u001b[0m \u001b[0mstart_date\u001b[0m\u001b[0;34m,\u001b[0m \u001b[0mend_date\u001b[0m\u001b[0;34m)\u001b[0m\u001b[0;34m)\u001b[0m\u001b[0;34m\u001b[0m\u001b[0;34m\u001b[0m\u001b[0m\n\u001b[0;32m----> 7\u001b[0;31m         stock_daily_price = jqdata.get_daily_price(\n\u001b[0m\u001b[1;32m      8\u001b[0m             \u001b[0mstock_code\u001b[0m\u001b[0;34m\u001b[0m\u001b[0;34m\u001b[0m\u001b[0m\n\u001b[1;32m      9\u001b[0m             \u001b[0;34m,\u001b[0m\u001b[0mstart_date\u001b[0m \u001b[0;34m=\u001b[0m \u001b[0mstart_date\u001b[0m\u001b[0;34m\u001b[0m\u001b[0;34m\u001b[0m\u001b[0m\n",
      "\u001b[0;32m~/JOB/PROJECT/quantification_new/./utils/joinquant.py\u001b[0m in \u001b[0;36mget_daily_price\u001b[0;34m(self, stock_code, start_date, end_date)\u001b[0m\n\u001b[1;32m     20\u001b[0m \u001b[0;34m\u001b[0m\u001b[0m\n\u001b[1;32m     21\u001b[0m     \u001b[0;32mdef\u001b[0m \u001b[0mget_daily_price\u001b[0m\u001b[0;34m(\u001b[0m\u001b[0mself\u001b[0m\u001b[0;34m,\u001b[0m \u001b[0mstock_code\u001b[0m\u001b[0;34m,\u001b[0m \u001b[0mstart_date\u001b[0m\u001b[0;34m,\u001b[0m \u001b[0mend_date\u001b[0m\u001b[0;34m)\u001b[0m\u001b[0;34m:\u001b[0m\u001b[0;34m\u001b[0m\u001b[0;34m\u001b[0m\u001b[0m\n\u001b[0;32m---> 22\u001b[0;31m         daily_data = get_price(\n\u001b[0m\u001b[1;32m     23\u001b[0m             \u001b[0msecurity\u001b[0m \u001b[0;34m=\u001b[0m \u001b[0mstock_code\u001b[0m\u001b[0;34m\u001b[0m\u001b[0;34m\u001b[0m\u001b[0m\n\u001b[1;32m     24\u001b[0m             \u001b[0;34m,\u001b[0m\u001b[0mstart_date\u001b[0m \u001b[0;34m=\u001b[0m \u001b[0mstart_date\u001b[0m\u001b[0;34m\u001b[0m\u001b[0;34m\u001b[0m\u001b[0m\n",
      "\u001b[0;32m~/opt/anaconda3/envs/quant/lib/python3.8/site-packages/jqdatasdk/utils.py\u001b[0m in \u001b[0;36m_wrapper\u001b[0;34m(*args, **kwargs)\u001b[0m\n\u001b[1;32m    254\u001b[0m             \u001b[0mprint\u001b[0m\u001b[0;34m(\u001b[0m\u001b[0;34m\"run jqdatasdk.auth first\"\u001b[0m\u001b[0;34m)\u001b[0m\u001b[0;34m\u001b[0m\u001b[0;34m\u001b[0m\u001b[0m\n\u001b[1;32m    255\u001b[0m         \u001b[0;32melse\u001b[0m\u001b[0;34m:\u001b[0m\u001b[0;34m\u001b[0m\u001b[0;34m\u001b[0m\u001b[0m\n\u001b[0;32m--> 256\u001b[0;31m             \u001b[0;32mreturn\u001b[0m \u001b[0mfunc\u001b[0m\u001b[0;34m(\u001b[0m\u001b[0;34m*\u001b[0m\u001b[0margs\u001b[0m\u001b[0;34m,\u001b[0m \u001b[0;34m**\u001b[0m\u001b[0mkwargs\u001b[0m\u001b[0;34m)\u001b[0m\u001b[0;34m\u001b[0m\u001b[0;34m\u001b[0m\u001b[0m\n\u001b[0m\u001b[1;32m    257\u001b[0m     \u001b[0;32mreturn\u001b[0m \u001b[0m_wrapper\u001b[0m\u001b[0;34m\u001b[0m\u001b[0;34m\u001b[0m\u001b[0m\n\u001b[1;32m    258\u001b[0m \u001b[0;34m\u001b[0m\u001b[0m\n",
      "\u001b[0;32m~/opt/anaconda3/envs/quant/lib/python3.8/site-packages/jqdatasdk/api.py\u001b[0m in \u001b[0;36mget_price\u001b[0;34m(security, start_date, end_date, frequency, fields, skip_paused, fq, count, panel, fill_paused)\u001b[0m\n\u001b[1;32m     40\u001b[0m     \u001b[0;32mif\u001b[0m \u001b[0mcount\u001b[0m \u001b[0;32mand\u001b[0m \u001b[0mstart_date\u001b[0m\u001b[0;34m:\u001b[0m\u001b[0;34m\u001b[0m\u001b[0;34m\u001b[0m\u001b[0m\n\u001b[1;32m     41\u001b[0m         \u001b[0;32mraise\u001b[0m \u001b[0mParamsError\u001b[0m\u001b[0;34m(\u001b[0m\u001b[0;34m\"(start_date, count) only one param is required\"\u001b[0m\u001b[0;34m)\u001b[0m\u001b[0;34m\u001b[0m\u001b[0;34m\u001b[0m\u001b[0m\n\u001b[0;32m---> 42\u001b[0;31m     \u001b[0;32mreturn\u001b[0m \u001b[0mJQDataClient\u001b[0m\u001b[0;34m.\u001b[0m\u001b[0minstance\u001b[0m\u001b[0;34m(\u001b[0m\u001b[0;34m)\u001b[0m\u001b[0;34m.\u001b[0m\u001b[0mget_price\u001b[0m\u001b[0;34m(\u001b[0m\u001b[0;34m**\u001b[0m\u001b[0mlocals\u001b[0m\u001b[0;34m(\u001b[0m\u001b[0;34m)\u001b[0m\u001b[0;34m)\u001b[0m\u001b[0;34m\u001b[0m\u001b[0;34m\u001b[0m\u001b[0m\n\u001b[0m\u001b[1;32m     43\u001b[0m \u001b[0;34m\u001b[0m\u001b[0m\n\u001b[1;32m     44\u001b[0m \u001b[0;34m\u001b[0m\u001b[0m\n",
      "\u001b[0;32m~/opt/anaconda3/envs/quant/lib/python3.8/site-packages/jqdatasdk/client.py\u001b[0m in \u001b[0;36m<lambda>\u001b[0;34m(**kwargs)\u001b[0m\n\u001b[1;32m    281\u001b[0m \u001b[0;34m\u001b[0m\u001b[0m\n\u001b[1;32m    282\u001b[0m     \u001b[0;32mdef\u001b[0m \u001b[0m__getattr__\u001b[0m\u001b[0;34m(\u001b[0m\u001b[0mself\u001b[0m\u001b[0;34m,\u001b[0m \u001b[0mmethod\u001b[0m\u001b[0;34m)\u001b[0m\u001b[0;34m:\u001b[0m\u001b[0;34m\u001b[0m\u001b[0;34m\u001b[0m\u001b[0m\n\u001b[0;32m--> 283\u001b[0;31m         \u001b[0;32mreturn\u001b[0m \u001b[0;32mlambda\u001b[0m \u001b[0;34m**\u001b[0m\u001b[0mkwargs\u001b[0m\u001b[0;34m:\u001b[0m \u001b[0mself\u001b[0m\u001b[0;34m(\u001b[0m\u001b[0mmethod\u001b[0m\u001b[0;34m,\u001b[0m \u001b[0;34m**\u001b[0m\u001b[0mkwargs\u001b[0m\u001b[0;34m)\u001b[0m\u001b[0;34m\u001b[0m\u001b[0;34m\u001b[0m\u001b[0m\n\u001b[0m\u001b[1;32m    284\u001b[0m \u001b[0;34m\u001b[0m\u001b[0m\n\u001b[1;32m    285\u001b[0m     \u001b[0;32mdef\u001b[0m \u001b[0mget_data_api_url\u001b[0m\u001b[0;34m(\u001b[0m\u001b[0mself\u001b[0m\u001b[0;34m)\u001b[0m\u001b[0;34m:\u001b[0m\u001b[0;34m\u001b[0m\u001b[0;34m\u001b[0m\u001b[0m\n",
      "\u001b[0;32m~/opt/anaconda3/envs/quant/lib/python3.8/site-packages/jqdatasdk/client.py\u001b[0m in \u001b[0;36m__call__\u001b[0;34m(self, method, **kwargs)\u001b[0m\n\u001b[1;32m    276\u001b[0m         \u001b[0;32mif\u001b[0m \u001b[0mresult\u001b[0m \u001b[0;32mis\u001b[0m \u001b[0;32mNone\u001b[0m\u001b[0;34m:\u001b[0m\u001b[0;34m\u001b[0m\u001b[0;34m\u001b[0m\u001b[0m\n\u001b[1;32m    277\u001b[0m             \u001b[0;32mif\u001b[0m \u001b[0misinstance\u001b[0m\u001b[0;34m(\u001b[0m\u001b[0merr\u001b[0m\u001b[0;34m,\u001b[0m \u001b[0mException\u001b[0m\u001b[0;34m)\u001b[0m\u001b[0;34m:\u001b[0m\u001b[0;34m\u001b[0m\u001b[0;34m\u001b[0m\u001b[0m\n\u001b[0;32m--> 278\u001b[0;31m                 \u001b[0;32mraise\u001b[0m \u001b[0merr\u001b[0m\u001b[0;34m\u001b[0m\u001b[0;34m\u001b[0m\u001b[0m\n\u001b[0m\u001b[1;32m    279\u001b[0m \u001b[0;34m\u001b[0m\u001b[0m\n\u001b[1;32m    280\u001b[0m         \u001b[0;32mreturn\u001b[0m \u001b[0mself\u001b[0m\u001b[0;34m.\u001b[0m\u001b[0mconvert_message\u001b[0m\u001b[0;34m(\u001b[0m\u001b[0mresult\u001b[0m\u001b[0;34m)\u001b[0m\u001b[0;34m\u001b[0m\u001b[0;34m\u001b[0m\u001b[0m\n",
      "\u001b[0;31mException\u001b[0m: 您当天的查询条数超过了每日最大查询限制：100万条；付费可增加流量权限，详情请咨询管理员，微信号：JQData01"
     ]
    }
   ],
   "source": [
    "stock_daily_price = None\n",
    "for stock_code in stock_code_list:\n",
    "    start_date = string_date_convert(stock_start_date_dict[stock_code])\n",
    "    end_date = \"2021-12-16 23:59:59\"#get_current_time()\n",
    "    if start_date != \"2021-12-16 00:00:00\":\n",
    "        print(\"Processing stock_code=%s;start_date=%s;end_date=%s ...\" % (stock_code, start_date, end_date))\n",
    "        stock_daily_price = jqdata.get_daily_price(\n",
    "            stock_code\n",
    "            ,start_date = start_date\n",
    "            ,end_date = end_date\n",
    "        )\n",
    "        stock_daily_price['open'] = stock_daily_price['open'].fillna(-1.)\n",
    "        stock_daily_price['close'] = stock_daily_price['close'].fillna(-1.)\n",
    "        stock_daily_price['high'] = stock_daily_price['high'].fillna(-1.)\n",
    "        stock_daily_price['low'] = stock_daily_price['low'].fillna(-1.)\n",
    "        stock_daily_price['volume'] = stock_daily_price['volume'].fillna(-1.)\n",
    "        stock_daily_price['money'] = stock_daily_price['money'].fillna(-1.)\n",
    "        stock_daily_price_elements = mysql.get_insert_elements(stock_daily_price, stock_daily_price.columns)\n",
    "        mysql.insert_table(\n",
    "            table_name = \"stock_daily_price_tmp\"\n",
    "            ,attribute_list = stock_daily_price.columns\n",
    "            ,elements = stock_daily_price_elements\n",
    "        )\n",
    "        time.sleep(1)\n",
    "stock_daily_price"
   ]
  },
  {
   "cell_type": "code",
   "execution_count": 10,
   "metadata": {},
   "outputs": [
    {
     "data": {
      "text/html": [
       "<div>\n",
       "<style scoped>\n",
       "    .dataframe tbody tr th:only-of-type {\n",
       "        vertical-align: middle;\n",
       "    }\n",
       "\n",
       "    .dataframe tbody tr th {\n",
       "        vertical-align: top;\n",
       "    }\n",
       "\n",
       "    .dataframe thead th {\n",
       "        text-align: right;\n",
       "    }\n",
       "</style>\n",
       "<table border=\"1\" class=\"dataframe\">\n",
       "  <thead>\n",
       "    <tr style=\"text-align: right;\">\n",
       "      <th></th>\n",
       "      <th>ds</th>\n",
       "      <th>open</th>\n",
       "      <th>close</th>\n",
       "      <th>high</th>\n",
       "      <th>low</th>\n",
       "      <th>volume</th>\n",
       "      <th>money</th>\n",
       "      <th>stock_code</th>\n",
       "    </tr>\n",
       "  </thead>\n",
       "  <tbody>\n",
       "  </tbody>\n",
       "</table>\n",
       "</div>"
      ],
      "text/plain": [
       "Empty DataFrame\n",
       "Columns: [ds, open, close, high, low, volume, money, stock_code]\n",
       "Index: []"
      ]
     },
     "execution_count": 10,
     "metadata": {},
     "output_type": "execute_result"
    }
   ],
   "source": [
    "jqdata.get_daily_price(\n",
    "        \"000002.XSHE\"\n",
    "        ,start_date = \"2021-12-18 00:00:00\"\n",
    "        ,end_date = \"2021-12-19 00:27:00\"\n",
    "    )"
   ]
  },
  {
   "cell_type": "code",
   "execution_count": null,
   "metadata": {},
   "outputs": [],
   "source": []
  }
 ],
 "metadata": {
  "kernelspec": {
   "display_name": "Python 3 (ipykernel)",
   "language": "python",
   "name": "python3"
  },
  "language_info": {
   "codemirror_mode": {
    "name": "ipython",
    "version": 3
   },
   "file_extension": ".py",
   "mimetype": "text/x-python",
   "name": "python",
   "nbconvert_exporter": "python",
   "pygments_lexer": "ipython3",
   "version": "3.8.12"
  },
  "orig_nbformat": 4
 },
 "nbformat": 4,
 "nbformat_minor": 2
}
