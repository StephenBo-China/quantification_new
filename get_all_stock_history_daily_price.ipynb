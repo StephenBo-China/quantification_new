{
 "cells": [
  {
   "cell_type": "code",
   "execution_count": null,
   "metadata": {},
   "outputs": [],
   "source": [
    "PROJECT_PATH = \"/Users/stephenbo/JOB/PROJECT/quantification_new/\"\n",
    "import sys, os\n",
    "sys.path.append(PROJECT_PATH + \"./utils\")\n",
    "import mysql as mq \n",
    "from tools import *\n",
    "import time\n",
    "from joinquant import *\n",
    "import pandas as pd"
   ]
  },
  {
   "cell_type": "code",
   "execution_count": null,
   "metadata": {},
   "outputs": [],
   "source": [
    "mysql = mq.MY_SQL()\n",
    "jqdata = joinquant(\"account6\")"
   ]
  },
  {
   "cell_type": "code",
   "execution_count": null,
   "metadata": {},
   "outputs": [],
   "source": [
    "select_sql = open(\"/Users/stephenbo/JOB/PROJECT/quantification_new/sql/get_stock_info.sql\").read()\n",
    "print(select_sql)"
   ]
  },
  {
   "cell_type": "code",
   "execution_count": null,
   "metadata": {},
   "outputs": [],
   "source": [
    "stock_info = mysql.select_table(select_sql)"
   ]
  },
  {
   "cell_type": "code",
   "execution_count": null,
   "metadata": {},
   "outputs": [],
   "source": [
    "mysql.create_table(\n",
    "    table_name = \"stock_daily_price_tmp\"#\"stock_daily_price\"\n",
    "    ,table_elements = {\n",
    "        \"stock_code\":       \"VARCHAR(1000)\"\n",
    "        ,\"ds\":              \"VARCHAR(1000)\"\n",
    "        ,\"open\":            \"FLOAT\"\n",
    "        ,\"close\":           \"FLOAT\"\n",
    "        ,\"high\":            \"FLOAT\"\n",
    "        ,\"low\":             \"FLOAT\"\n",
    "        ,\"volume\":          \"FLOAT\"\n",
    "        ,\"money\":           \"FLOAT\"\n",
    "    }\n",
    ")"
   ]
  },
  {
   "cell_type": "code",
   "execution_count": null,
   "metadata": {},
   "outputs": [],
   "source": [
    "stock_info[:4]"
   ]
  },
  {
   "cell_type": "code",
   "execution_count": null,
   "metadata": {},
   "outputs": [],
   "source": [
    "stock_start_date_dict = dict()\n",
    "stock_end_date_dict = dict()\n",
    "stock_code_list = list()\n",
    "for element in stock_info:\n",
    "    stock_code = element[1]\n",
    "    start_date = element[2]\n",
    "    end_date = element[3]\n",
    "    stock_start_date_dict[stock_code] = start_date \n",
    "    stock_end_date_dict[stock_code] = end_date \n",
    "    stock_code_list.append(stock_code)"
   ]
  },
  {
   "cell_type": "code",
   "execution_count": null,
   "metadata": {},
   "outputs": [],
   "source": [
    "stock_daily_price = None\n",
    "for stock_code in stock_code_list:\n",
    "    start_date = string_date_convert(stock_start_date_dict[stock_code])\n",
    "    end_date = \"2021-12-16 23:59:59\"#get_current_time()\n",
    "    if start_date != \"2021-12-16 00:00:00\":\n",
    "        print(\"Processing stock_code=%s;start_date=%s;end_date=%s ...\" % (stock_code, start_date, end_date))\n",
    "        stock_daily_price = jqdata.get_daily_price(\n",
    "            stock_code\n",
    "            ,start_date = start_date\n",
    "            ,end_date = end_date\n",
    "        )\n",
    "        stock_daily_price['open'] = stock_daily_price['open'].fillna(-1.)\n",
    "        stock_daily_price['close'] = stock_daily_price['close'].fillna(-1.)\n",
    "        stock_daily_price['high'] = stock_daily_price['high'].fillna(-1.)\n",
    "        stock_daily_price['low'] = stock_daily_price['low'].fillna(-1.)\n",
    "        stock_daily_price['volume'] = stock_daily_price['volume'].fillna(-1.)\n",
    "        stock_daily_price['money'] = stock_daily_price['money'].fillna(-1.)\n",
    "        stock_daily_price_elements = mysql.get_insert_elements(stock_daily_price, stock_daily_price.columns)\n",
    "        mysql.insert_table(\n",
    "            table_name = \"stock_daily_price_tmp\"\n",
    "            ,attribute_list = stock_daily_price.columns\n",
    "            ,elements = stock_daily_price_elements\n",
    "        )\n",
    "        time.sleep(1)\n",
    "stock_daily_price"
   ]
  }
 ],
 "metadata": {
  "language_info": {
   "name": "python"
  },
  "orig_nbformat": 4
 },
 "nbformat": 4,
 "nbformat_minor": 2
}
